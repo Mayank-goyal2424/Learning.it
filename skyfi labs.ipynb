{
 "cells": [
  {
   "cell_type": "markdown",
   "metadata": {},
   "source": [
    "# Boston housing prediction"
   ]
  },
  {
   "cell_type": "code",
   "execution_count": 67,
   "metadata": {},
   "outputs": [],
   "source": [
    "import numpy as np\n",
    "import pandas as pd\n",
    "\n",
    "import matplotlib as mpl\n",
    "import matplotlib.pyplot as plt\n",
    "\n",
    "from matplotlib.animation import FuncAnimation\n",
    "\n",
    "from sklearn.datasets import load_boston\n",
    "from sklearn.metrics import mean_squared_error\n",
    "from sklearn.model_selection import train_test_split\n",
    "from sklearn.preprocessing import MinMaxScaler\n",
    "\n",
    "from IPython.display import HTML\n",
    "\n",
    "\n"
   ]
  },
  {
   "cell_type": "markdown",
   "metadata": {},
   "source": [
    "# Load the Dataset"
   ]
  },
  {
   "cell_type": "code",
   "execution_count": 68,
   "metadata": {},
   "outputs": [
    {
     "name": "stdout",
     "output_type": "stream",
     "text": [
      ".. _boston_dataset:\n",
      "\n",
      "Boston house prices dataset\n",
      "---------------------------\n",
      "\n",
      "**Data Set Characteristics:**  \n",
      "\n",
      "    :Number of Instances: 506 \n",
      "\n",
      "    :Number of Attributes: 13 numeric/categorical predictive. Median Value (attribute 14) is usually the target.\n",
      "\n",
      "    :Attribute Information (in order):\n",
      "        - CRIM     per capita crime rate by town\n",
      "        - ZN       proportion of residential land zoned for lots over 25,000 sq.ft.\n",
      "        - INDUS    proportion of non-retail business acres per town\n",
      "        - CHAS     Charles River dummy variable (= 1 if tract bounds river; 0 otherwise)\n",
      "        - NOX      nitric oxides concentration (parts per 10 million)\n",
      "        - RM       average number of rooms per dwelling\n",
      "        - AGE      proportion of owner-occupied units built prior to 1940\n",
      "        - DIS      weighted distances to five Boston employment centres\n",
      "        - RAD      index of accessibility to radial highways\n",
      "        - TAX      full-value property-tax rate per $10,000\n",
      "        - PTRATIO  pupil-teacher ratio by town\n",
      "        - B        1000(Bk - 0.63)^2 where Bk is the proportion of blacks by town\n",
      "        - LSTAT    % lower status of the population\n",
      "        - MEDV     Median value of owner-occupied homes in $1000's\n",
      "\n",
      "    :Missing Attribute Values: None\n",
      "\n",
      "    :Creator: Harrison, D. and Rubinfeld, D.L.\n",
      "\n",
      "This is a copy of UCI ML housing dataset.\n",
      "https://archive.ics.uci.edu/ml/machine-learning-databases/housing/\n",
      "\n",
      "\n",
      "This dataset was taken from the StatLib library which is maintained at Carnegie Mellon University.\n",
      "\n",
      "The Boston house-price data of Harrison, D. and Rubinfeld, D.L. 'Hedonic\n",
      "prices and the demand for clean air', J. Environ. Economics & Management,\n",
      "vol.5, 81-102, 1978.   Used in Belsley, Kuh & Welsch, 'Regression diagnostics\n",
      "...', Wiley, 1980.   N.B. Various transformations are used in the table on\n",
      "pages 244-261 of the latter.\n",
      "\n",
      "The Boston house-price data has been used in many machine learning papers that address regression\n",
      "problems.   \n",
      "     \n",
      ".. topic:: References\n",
      "\n",
      "   - Belsley, Kuh & Welsch, 'Regression diagnostics: Identifying Influential Data and Sources of Collinearity', Wiley, 1980. 244-261.\n",
      "   - Quinlan,R. (1993). Combining Instance-Based and Model-Based Learning. In Proceedings on the Tenth International Conference of Machine Learning, 236-243, University of Massachusetts, Amherst. Morgan Kaufmann.\n",
      "\n"
     ]
    }
   ],
   "source": [
    "boston=load_boston()\n",
    "\n",
    "print(boston.DESCR)"
   ]
  },
  {
   "cell_type": "code",
   "execution_count": 69,
   "metadata": {},
   "outputs": [
    {
     "data": {
      "text/html": [
       "<div>\n",
       "<style scoped>\n",
       "    .dataframe tbody tr th:only-of-type {\n",
       "        vertical-align: middle;\n",
       "    }\n",
       "\n",
       "    .dataframe tbody tr th {\n",
       "        vertical-align: top;\n",
       "    }\n",
       "\n",
       "    .dataframe thead th {\n",
       "        text-align: right;\n",
       "    }\n",
       "</style>\n",
       "<table border=\"1\" class=\"dataframe\">\n",
       "  <thead>\n",
       "    <tr style=\"text-align: right;\">\n",
       "      <th></th>\n",
       "      <th>CRIM</th>\n",
       "      <th>ZN</th>\n",
       "      <th>INDUS</th>\n",
       "      <th>CHAS</th>\n",
       "      <th>NOX</th>\n",
       "      <th>RM</th>\n",
       "      <th>AGE</th>\n",
       "      <th>DIS</th>\n",
       "      <th>RAD</th>\n",
       "      <th>TAX</th>\n",
       "      <th>PTRATIO</th>\n",
       "      <th>B</th>\n",
       "      <th>LSTAT</th>\n",
       "    </tr>\n",
       "  </thead>\n",
       "  <tbody>\n",
       "    <tr>\n",
       "      <th>0</th>\n",
       "      <td>0.00632</td>\n",
       "      <td>18.0</td>\n",
       "      <td>2.31</td>\n",
       "      <td>0.0</td>\n",
       "      <td>0.538</td>\n",
       "      <td>6.575</td>\n",
       "      <td>65.2</td>\n",
       "      <td>4.0900</td>\n",
       "      <td>1.0</td>\n",
       "      <td>296.0</td>\n",
       "      <td>15.3</td>\n",
       "      <td>396.90</td>\n",
       "      <td>4.98</td>\n",
       "    </tr>\n",
       "    <tr>\n",
       "      <th>1</th>\n",
       "      <td>0.02731</td>\n",
       "      <td>0.0</td>\n",
       "      <td>7.07</td>\n",
       "      <td>0.0</td>\n",
       "      <td>0.469</td>\n",
       "      <td>6.421</td>\n",
       "      <td>78.9</td>\n",
       "      <td>4.9671</td>\n",
       "      <td>2.0</td>\n",
       "      <td>242.0</td>\n",
       "      <td>17.8</td>\n",
       "      <td>396.90</td>\n",
       "      <td>9.14</td>\n",
       "    </tr>\n",
       "    <tr>\n",
       "      <th>2</th>\n",
       "      <td>0.02729</td>\n",
       "      <td>0.0</td>\n",
       "      <td>7.07</td>\n",
       "      <td>0.0</td>\n",
       "      <td>0.469</td>\n",
       "      <td>7.185</td>\n",
       "      <td>61.1</td>\n",
       "      <td>4.9671</td>\n",
       "      <td>2.0</td>\n",
       "      <td>242.0</td>\n",
       "      <td>17.8</td>\n",
       "      <td>392.83</td>\n",
       "      <td>4.03</td>\n",
       "    </tr>\n",
       "    <tr>\n",
       "      <th>3</th>\n",
       "      <td>0.03237</td>\n",
       "      <td>0.0</td>\n",
       "      <td>2.18</td>\n",
       "      <td>0.0</td>\n",
       "      <td>0.458</td>\n",
       "      <td>6.998</td>\n",
       "      <td>45.8</td>\n",
       "      <td>6.0622</td>\n",
       "      <td>3.0</td>\n",
       "      <td>222.0</td>\n",
       "      <td>18.7</td>\n",
       "      <td>394.63</td>\n",
       "      <td>2.94</td>\n",
       "    </tr>\n",
       "    <tr>\n",
       "      <th>4</th>\n",
       "      <td>0.06905</td>\n",
       "      <td>0.0</td>\n",
       "      <td>2.18</td>\n",
       "      <td>0.0</td>\n",
       "      <td>0.458</td>\n",
       "      <td>7.147</td>\n",
       "      <td>54.2</td>\n",
       "      <td>6.0622</td>\n",
       "      <td>3.0</td>\n",
       "      <td>222.0</td>\n",
       "      <td>18.7</td>\n",
       "      <td>396.90</td>\n",
       "      <td>5.33</td>\n",
       "    </tr>\n",
       "    <tr>\n",
       "      <th>...</th>\n",
       "      <td>...</td>\n",
       "      <td>...</td>\n",
       "      <td>...</td>\n",
       "      <td>...</td>\n",
       "      <td>...</td>\n",
       "      <td>...</td>\n",
       "      <td>...</td>\n",
       "      <td>...</td>\n",
       "      <td>...</td>\n",
       "      <td>...</td>\n",
       "      <td>...</td>\n",
       "      <td>...</td>\n",
       "      <td>...</td>\n",
       "    </tr>\n",
       "    <tr>\n",
       "      <th>501</th>\n",
       "      <td>0.06263</td>\n",
       "      <td>0.0</td>\n",
       "      <td>11.93</td>\n",
       "      <td>0.0</td>\n",
       "      <td>0.573</td>\n",
       "      <td>6.593</td>\n",
       "      <td>69.1</td>\n",
       "      <td>2.4786</td>\n",
       "      <td>1.0</td>\n",
       "      <td>273.0</td>\n",
       "      <td>21.0</td>\n",
       "      <td>391.99</td>\n",
       "      <td>9.67</td>\n",
       "    </tr>\n",
       "    <tr>\n",
       "      <th>502</th>\n",
       "      <td>0.04527</td>\n",
       "      <td>0.0</td>\n",
       "      <td>11.93</td>\n",
       "      <td>0.0</td>\n",
       "      <td>0.573</td>\n",
       "      <td>6.120</td>\n",
       "      <td>76.7</td>\n",
       "      <td>2.2875</td>\n",
       "      <td>1.0</td>\n",
       "      <td>273.0</td>\n",
       "      <td>21.0</td>\n",
       "      <td>396.90</td>\n",
       "      <td>9.08</td>\n",
       "    </tr>\n",
       "    <tr>\n",
       "      <th>503</th>\n",
       "      <td>0.06076</td>\n",
       "      <td>0.0</td>\n",
       "      <td>11.93</td>\n",
       "      <td>0.0</td>\n",
       "      <td>0.573</td>\n",
       "      <td>6.976</td>\n",
       "      <td>91.0</td>\n",
       "      <td>2.1675</td>\n",
       "      <td>1.0</td>\n",
       "      <td>273.0</td>\n",
       "      <td>21.0</td>\n",
       "      <td>396.90</td>\n",
       "      <td>5.64</td>\n",
       "    </tr>\n",
       "    <tr>\n",
       "      <th>504</th>\n",
       "      <td>0.10959</td>\n",
       "      <td>0.0</td>\n",
       "      <td>11.93</td>\n",
       "      <td>0.0</td>\n",
       "      <td>0.573</td>\n",
       "      <td>6.794</td>\n",
       "      <td>89.3</td>\n",
       "      <td>2.3889</td>\n",
       "      <td>1.0</td>\n",
       "      <td>273.0</td>\n",
       "      <td>21.0</td>\n",
       "      <td>393.45</td>\n",
       "      <td>6.48</td>\n",
       "    </tr>\n",
       "    <tr>\n",
       "      <th>505</th>\n",
       "      <td>0.04741</td>\n",
       "      <td>0.0</td>\n",
       "      <td>11.93</td>\n",
       "      <td>0.0</td>\n",
       "      <td>0.573</td>\n",
       "      <td>6.030</td>\n",
       "      <td>80.8</td>\n",
       "      <td>2.5050</td>\n",
       "      <td>1.0</td>\n",
       "      <td>273.0</td>\n",
       "      <td>21.0</td>\n",
       "      <td>396.90</td>\n",
       "      <td>7.88</td>\n",
       "    </tr>\n",
       "  </tbody>\n",
       "</table>\n",
       "<p>506 rows × 13 columns</p>\n",
       "</div>"
      ],
      "text/plain": [
       "        CRIM    ZN  INDUS  CHAS    NOX     RM   AGE     DIS  RAD    TAX  \\\n",
       "0    0.00632  18.0   2.31   0.0  0.538  6.575  65.2  4.0900  1.0  296.0   \n",
       "1    0.02731   0.0   7.07   0.0  0.469  6.421  78.9  4.9671  2.0  242.0   \n",
       "2    0.02729   0.0   7.07   0.0  0.469  7.185  61.1  4.9671  2.0  242.0   \n",
       "3    0.03237   0.0   2.18   0.0  0.458  6.998  45.8  6.0622  3.0  222.0   \n",
       "4    0.06905   0.0   2.18   0.0  0.458  7.147  54.2  6.0622  3.0  222.0   \n",
       "..       ...   ...    ...   ...    ...    ...   ...     ...  ...    ...   \n",
       "501  0.06263   0.0  11.93   0.0  0.573  6.593  69.1  2.4786  1.0  273.0   \n",
       "502  0.04527   0.0  11.93   0.0  0.573  6.120  76.7  2.2875  1.0  273.0   \n",
       "503  0.06076   0.0  11.93   0.0  0.573  6.976  91.0  2.1675  1.0  273.0   \n",
       "504  0.10959   0.0  11.93   0.0  0.573  6.794  89.3  2.3889  1.0  273.0   \n",
       "505  0.04741   0.0  11.93   0.0  0.573  6.030  80.8  2.5050  1.0  273.0   \n",
       "\n",
       "     PTRATIO       B  LSTAT  \n",
       "0       15.3  396.90   4.98  \n",
       "1       17.8  396.90   9.14  \n",
       "2       17.8  392.83   4.03  \n",
       "3       18.7  394.63   2.94  \n",
       "4       18.7  396.90   5.33  \n",
       "..       ...     ...    ...  \n",
       "501     21.0  391.99   9.67  \n",
       "502     21.0  396.90   9.08  \n",
       "503     21.0  396.90   5.64  \n",
       "504     21.0  393.45   6.48  \n",
       "505     21.0  396.90   7.88  \n",
       "\n",
       "[506 rows x 13 columns]"
      ]
     },
     "execution_count": 69,
     "metadata": {},
     "output_type": "execute_result"
    }
   ],
   "source": [
    "#put the data into pandas dataframe\n",
    "features=pd.DataFrame(boston.data,columns=boston.feature_names)\n",
    "features"
   ]
  },
  {
   "cell_type": "code",
   "execution_count": 70,
   "metadata": {},
   "outputs": [
    {
     "data": {
      "text/plain": [
       "0      65.2\n",
       "1      78.9\n",
       "2      61.1\n",
       "3      45.8\n",
       "4      54.2\n",
       "       ... \n",
       "501    69.1\n",
       "502    76.7\n",
       "503    91.0\n",
       "504    89.3\n",
       "505    80.8\n",
       "Name: AGE, Length: 506, dtype: float64"
      ]
     },
     "execution_count": 70,
     "metadata": {},
     "output_type": "execute_result"
    }
   ],
   "source": [
    "features['AGE']"
   ]
  },
  {
   "cell_type": "code",
   "execution_count": 71,
   "metadata": {},
   "outputs": [
    {
     "data": {
      "text/html": [
       "<div>\n",
       "<style scoped>\n",
       "    .dataframe tbody tr th:only-of-type {\n",
       "        vertical-align: middle;\n",
       "    }\n",
       "\n",
       "    .dataframe tbody tr th {\n",
       "        vertical-align: top;\n",
       "    }\n",
       "\n",
       "    .dataframe thead th {\n",
       "        text-align: right;\n",
       "    }\n",
       "</style>\n",
       "<table border=\"1\" class=\"dataframe\">\n",
       "  <thead>\n",
       "    <tr style=\"text-align: right;\">\n",
       "      <th></th>\n",
       "      <th>target</th>\n",
       "    </tr>\n",
       "  </thead>\n",
       "  <tbody>\n",
       "    <tr>\n",
       "      <th>0</th>\n",
       "      <td>24.0</td>\n",
       "    </tr>\n",
       "    <tr>\n",
       "      <th>1</th>\n",
       "      <td>21.6</td>\n",
       "    </tr>\n",
       "    <tr>\n",
       "      <th>2</th>\n",
       "      <td>34.7</td>\n",
       "    </tr>\n",
       "    <tr>\n",
       "      <th>3</th>\n",
       "      <td>33.4</td>\n",
       "    </tr>\n",
       "    <tr>\n",
       "      <th>4</th>\n",
       "      <td>36.2</td>\n",
       "    </tr>\n",
       "    <tr>\n",
       "      <th>...</th>\n",
       "      <td>...</td>\n",
       "    </tr>\n",
       "    <tr>\n",
       "      <th>501</th>\n",
       "      <td>22.4</td>\n",
       "    </tr>\n",
       "    <tr>\n",
       "      <th>502</th>\n",
       "      <td>20.6</td>\n",
       "    </tr>\n",
       "    <tr>\n",
       "      <th>503</th>\n",
       "      <td>23.9</td>\n",
       "    </tr>\n",
       "    <tr>\n",
       "      <th>504</th>\n",
       "      <td>22.0</td>\n",
       "    </tr>\n",
       "    <tr>\n",
       "      <th>505</th>\n",
       "      <td>11.9</td>\n",
       "    </tr>\n",
       "  </tbody>\n",
       "</table>\n",
       "<p>506 rows × 1 columns</p>\n",
       "</div>"
      ],
      "text/plain": [
       "     target\n",
       "0      24.0\n",
       "1      21.6\n",
       "2      34.7\n",
       "3      33.4\n",
       "4      36.2\n",
       "..      ...\n",
       "501    22.4\n",
       "502    20.6\n",
       "503    23.9\n",
       "504    22.0\n",
       "505    11.9\n",
       "\n",
       "[506 rows x 1 columns]"
      ]
     },
     "execution_count": 71,
     "metadata": {},
     "output_type": "execute_result"
    }
   ],
   "source": [
    "target=pd.DataFrame(boston.target,columns=['target'])\n",
    "target"
   ]
  },
  {
   "cell_type": "code",
   "execution_count": 72,
   "metadata": {},
   "outputs": [
    {
     "data": {
      "text/plain": [
       "50.0"
      ]
     },
     "execution_count": 72,
     "metadata": {},
     "output_type": "execute_result"
    }
   ],
   "source": [
    "max(target['target'])"
   ]
  },
  {
   "cell_type": "code",
   "execution_count": 73,
   "metadata": {},
   "outputs": [
    {
     "data": {
      "text/plain": [
       "5.0"
      ]
     },
     "execution_count": 73,
     "metadata": {},
     "output_type": "execute_result"
    }
   ],
   "source": [
    "min(target['target'])"
   ]
  },
  {
   "cell_type": "code",
   "execution_count": 74,
   "metadata": {},
   "outputs": [
    {
     "data": {
      "text/html": [
       "<div>\n",
       "<style scoped>\n",
       "    .dataframe tbody tr th:only-of-type {\n",
       "        vertical-align: middle;\n",
       "    }\n",
       "\n",
       "    .dataframe tbody tr th {\n",
       "        vertical-align: top;\n",
       "    }\n",
       "\n",
       "    .dataframe thead th {\n",
       "        text-align: right;\n",
       "    }\n",
       "</style>\n",
       "<table border=\"1\" class=\"dataframe\">\n",
       "  <thead>\n",
       "    <tr style=\"text-align: right;\">\n",
       "      <th></th>\n",
       "      <th>CRIM</th>\n",
       "      <th>ZN</th>\n",
       "      <th>INDUS</th>\n",
       "      <th>CHAS</th>\n",
       "      <th>NOX</th>\n",
       "      <th>RM</th>\n",
       "      <th>AGE</th>\n",
       "      <th>DIS</th>\n",
       "      <th>RAD</th>\n",
       "      <th>TAX</th>\n",
       "      <th>PTRATIO</th>\n",
       "      <th>B</th>\n",
       "      <th>LSTAT</th>\n",
       "      <th>target</th>\n",
       "    </tr>\n",
       "  </thead>\n",
       "  <tbody>\n",
       "    <tr>\n",
       "      <th>0</th>\n",
       "      <td>0.00632</td>\n",
       "      <td>18.0</td>\n",
       "      <td>2.31</td>\n",
       "      <td>0.0</td>\n",
       "      <td>0.538</td>\n",
       "      <td>6.575</td>\n",
       "      <td>65.2</td>\n",
       "      <td>4.0900</td>\n",
       "      <td>1.0</td>\n",
       "      <td>296.0</td>\n",
       "      <td>15.3</td>\n",
       "      <td>396.90</td>\n",
       "      <td>4.98</td>\n",
       "      <td>24.0</td>\n",
       "    </tr>\n",
       "    <tr>\n",
       "      <th>1</th>\n",
       "      <td>0.02731</td>\n",
       "      <td>0.0</td>\n",
       "      <td>7.07</td>\n",
       "      <td>0.0</td>\n",
       "      <td>0.469</td>\n",
       "      <td>6.421</td>\n",
       "      <td>78.9</td>\n",
       "      <td>4.9671</td>\n",
       "      <td>2.0</td>\n",
       "      <td>242.0</td>\n",
       "      <td>17.8</td>\n",
       "      <td>396.90</td>\n",
       "      <td>9.14</td>\n",
       "      <td>21.6</td>\n",
       "    </tr>\n",
       "    <tr>\n",
       "      <th>2</th>\n",
       "      <td>0.02729</td>\n",
       "      <td>0.0</td>\n",
       "      <td>7.07</td>\n",
       "      <td>0.0</td>\n",
       "      <td>0.469</td>\n",
       "      <td>7.185</td>\n",
       "      <td>61.1</td>\n",
       "      <td>4.9671</td>\n",
       "      <td>2.0</td>\n",
       "      <td>242.0</td>\n",
       "      <td>17.8</td>\n",
       "      <td>392.83</td>\n",
       "      <td>4.03</td>\n",
       "      <td>34.7</td>\n",
       "    </tr>\n",
       "    <tr>\n",
       "      <th>3</th>\n",
       "      <td>0.03237</td>\n",
       "      <td>0.0</td>\n",
       "      <td>2.18</td>\n",
       "      <td>0.0</td>\n",
       "      <td>0.458</td>\n",
       "      <td>6.998</td>\n",
       "      <td>45.8</td>\n",
       "      <td>6.0622</td>\n",
       "      <td>3.0</td>\n",
       "      <td>222.0</td>\n",
       "      <td>18.7</td>\n",
       "      <td>394.63</td>\n",
       "      <td>2.94</td>\n",
       "      <td>33.4</td>\n",
       "    </tr>\n",
       "    <tr>\n",
       "      <th>4</th>\n",
       "      <td>0.06905</td>\n",
       "      <td>0.0</td>\n",
       "      <td>2.18</td>\n",
       "      <td>0.0</td>\n",
       "      <td>0.458</td>\n",
       "      <td>7.147</td>\n",
       "      <td>54.2</td>\n",
       "      <td>6.0622</td>\n",
       "      <td>3.0</td>\n",
       "      <td>222.0</td>\n",
       "      <td>18.7</td>\n",
       "      <td>396.90</td>\n",
       "      <td>5.33</td>\n",
       "      <td>36.2</td>\n",
       "    </tr>\n",
       "    <tr>\n",
       "      <th>...</th>\n",
       "      <td>...</td>\n",
       "      <td>...</td>\n",
       "      <td>...</td>\n",
       "      <td>...</td>\n",
       "      <td>...</td>\n",
       "      <td>...</td>\n",
       "      <td>...</td>\n",
       "      <td>...</td>\n",
       "      <td>...</td>\n",
       "      <td>...</td>\n",
       "      <td>...</td>\n",
       "      <td>...</td>\n",
       "      <td>...</td>\n",
       "      <td>...</td>\n",
       "    </tr>\n",
       "    <tr>\n",
       "      <th>501</th>\n",
       "      <td>0.06263</td>\n",
       "      <td>0.0</td>\n",
       "      <td>11.93</td>\n",
       "      <td>0.0</td>\n",
       "      <td>0.573</td>\n",
       "      <td>6.593</td>\n",
       "      <td>69.1</td>\n",
       "      <td>2.4786</td>\n",
       "      <td>1.0</td>\n",
       "      <td>273.0</td>\n",
       "      <td>21.0</td>\n",
       "      <td>391.99</td>\n",
       "      <td>9.67</td>\n",
       "      <td>22.4</td>\n",
       "    </tr>\n",
       "    <tr>\n",
       "      <th>502</th>\n",
       "      <td>0.04527</td>\n",
       "      <td>0.0</td>\n",
       "      <td>11.93</td>\n",
       "      <td>0.0</td>\n",
       "      <td>0.573</td>\n",
       "      <td>6.120</td>\n",
       "      <td>76.7</td>\n",
       "      <td>2.2875</td>\n",
       "      <td>1.0</td>\n",
       "      <td>273.0</td>\n",
       "      <td>21.0</td>\n",
       "      <td>396.90</td>\n",
       "      <td>9.08</td>\n",
       "      <td>20.6</td>\n",
       "    </tr>\n",
       "    <tr>\n",
       "      <th>503</th>\n",
       "      <td>0.06076</td>\n",
       "      <td>0.0</td>\n",
       "      <td>11.93</td>\n",
       "      <td>0.0</td>\n",
       "      <td>0.573</td>\n",
       "      <td>6.976</td>\n",
       "      <td>91.0</td>\n",
       "      <td>2.1675</td>\n",
       "      <td>1.0</td>\n",
       "      <td>273.0</td>\n",
       "      <td>21.0</td>\n",
       "      <td>396.90</td>\n",
       "      <td>5.64</td>\n",
       "      <td>23.9</td>\n",
       "    </tr>\n",
       "    <tr>\n",
       "      <th>504</th>\n",
       "      <td>0.10959</td>\n",
       "      <td>0.0</td>\n",
       "      <td>11.93</td>\n",
       "      <td>0.0</td>\n",
       "      <td>0.573</td>\n",
       "      <td>6.794</td>\n",
       "      <td>89.3</td>\n",
       "      <td>2.3889</td>\n",
       "      <td>1.0</td>\n",
       "      <td>273.0</td>\n",
       "      <td>21.0</td>\n",
       "      <td>393.45</td>\n",
       "      <td>6.48</td>\n",
       "      <td>22.0</td>\n",
       "    </tr>\n",
       "    <tr>\n",
       "      <th>505</th>\n",
       "      <td>0.04741</td>\n",
       "      <td>0.0</td>\n",
       "      <td>11.93</td>\n",
       "      <td>0.0</td>\n",
       "      <td>0.573</td>\n",
       "      <td>6.030</td>\n",
       "      <td>80.8</td>\n",
       "      <td>2.5050</td>\n",
       "      <td>1.0</td>\n",
       "      <td>273.0</td>\n",
       "      <td>21.0</td>\n",
       "      <td>396.90</td>\n",
       "      <td>7.88</td>\n",
       "      <td>11.9</td>\n",
       "    </tr>\n",
       "  </tbody>\n",
       "</table>\n",
       "<p>506 rows × 14 columns</p>\n",
       "</div>"
      ],
      "text/plain": [
       "        CRIM    ZN  INDUS  CHAS    NOX     RM   AGE     DIS  RAD    TAX  \\\n",
       "0    0.00632  18.0   2.31   0.0  0.538  6.575  65.2  4.0900  1.0  296.0   \n",
       "1    0.02731   0.0   7.07   0.0  0.469  6.421  78.9  4.9671  2.0  242.0   \n",
       "2    0.02729   0.0   7.07   0.0  0.469  7.185  61.1  4.9671  2.0  242.0   \n",
       "3    0.03237   0.0   2.18   0.0  0.458  6.998  45.8  6.0622  3.0  222.0   \n",
       "4    0.06905   0.0   2.18   0.0  0.458  7.147  54.2  6.0622  3.0  222.0   \n",
       "..       ...   ...    ...   ...    ...    ...   ...     ...  ...    ...   \n",
       "501  0.06263   0.0  11.93   0.0  0.573  6.593  69.1  2.4786  1.0  273.0   \n",
       "502  0.04527   0.0  11.93   0.0  0.573  6.120  76.7  2.2875  1.0  273.0   \n",
       "503  0.06076   0.0  11.93   0.0  0.573  6.976  91.0  2.1675  1.0  273.0   \n",
       "504  0.10959   0.0  11.93   0.0  0.573  6.794  89.3  2.3889  1.0  273.0   \n",
       "505  0.04741   0.0  11.93   0.0  0.573  6.030  80.8  2.5050  1.0  273.0   \n",
       "\n",
       "     PTRATIO       B  LSTAT  target  \n",
       "0       15.3  396.90   4.98    24.0  \n",
       "1       17.8  396.90   9.14    21.6  \n",
       "2       17.8  392.83   4.03    34.7  \n",
       "3       18.7  394.63   2.94    33.4  \n",
       "4       18.7  396.90   5.33    36.2  \n",
       "..       ...     ...    ...     ...  \n",
       "501     21.0  391.99   9.67    22.4  \n",
       "502     21.0  396.90   9.08    20.6  \n",
       "503     21.0  396.90   5.64    23.9  \n",
       "504     21.0  393.45   6.48    22.0  \n",
       "505     21.0  396.90   7.88    11.9  \n",
       "\n",
       "[506 rows x 14 columns]"
      ]
     },
     "execution_count": 74,
     "metadata": {},
     "output_type": "execute_result"
    }
   ],
   "source": [
    "#concatenate features and target into a single dataframe\n",
    "#axis=1 makes it concatenate columns wise\n",
    "df=pd.concat([features,target],axis=1)\n",
    "df"
   ]
  },
  {
   "cell_type": "markdown",
   "metadata": {},
   "source": [
    "# Use describe() to generate the summary of the dataset"
   ]
  },
  {
   "cell_type": "code",
   "execution_count": 11,
   "metadata": {},
   "outputs": [
    {
     "data": {
      "text/html": [
       "<div>\n",
       "<style scoped>\n",
       "    .dataframe tbody tr th:only-of-type {\n",
       "        vertical-align: middle;\n",
       "    }\n",
       "\n",
       "    .dataframe tbody tr th {\n",
       "        vertical-align: top;\n",
       "    }\n",
       "\n",
       "    .dataframe thead th {\n",
       "        text-align: right;\n",
       "    }\n",
       "</style>\n",
       "<table border=\"1\" class=\"dataframe\">\n",
       "  <thead>\n",
       "    <tr style=\"text-align: right;\">\n",
       "      <th></th>\n",
       "      <th>CRIM</th>\n",
       "      <th>ZN</th>\n",
       "      <th>INDUS</th>\n",
       "      <th>CHAS</th>\n",
       "      <th>NOX</th>\n",
       "      <th>RM</th>\n",
       "      <th>AGE</th>\n",
       "      <th>DIS</th>\n",
       "      <th>RAD</th>\n",
       "      <th>TAX</th>\n",
       "      <th>PTRATIO</th>\n",
       "      <th>B</th>\n",
       "      <th>LSTAT</th>\n",
       "      <th>target</th>\n",
       "    </tr>\n",
       "  </thead>\n",
       "  <tbody>\n",
       "    <tr>\n",
       "      <th>count</th>\n",
       "      <td>506.00</td>\n",
       "      <td>506.00</td>\n",
       "      <td>506.00</td>\n",
       "      <td>506.00</td>\n",
       "      <td>506.00</td>\n",
       "      <td>506.00</td>\n",
       "      <td>506.00</td>\n",
       "      <td>506.00</td>\n",
       "      <td>506.00</td>\n",
       "      <td>506.00</td>\n",
       "      <td>506.00</td>\n",
       "      <td>506.00</td>\n",
       "      <td>506.00</td>\n",
       "      <td>506.00</td>\n",
       "    </tr>\n",
       "    <tr>\n",
       "      <th>mean</th>\n",
       "      <td>3.61</td>\n",
       "      <td>11.36</td>\n",
       "      <td>11.14</td>\n",
       "      <td>0.07</td>\n",
       "      <td>0.55</td>\n",
       "      <td>6.28</td>\n",
       "      <td>68.57</td>\n",
       "      <td>3.80</td>\n",
       "      <td>9.55</td>\n",
       "      <td>408.24</td>\n",
       "      <td>18.46</td>\n",
       "      <td>356.67</td>\n",
       "      <td>12.65</td>\n",
       "      <td>22.53</td>\n",
       "    </tr>\n",
       "    <tr>\n",
       "      <th>std</th>\n",
       "      <td>8.60</td>\n",
       "      <td>23.32</td>\n",
       "      <td>6.86</td>\n",
       "      <td>0.25</td>\n",
       "      <td>0.12</td>\n",
       "      <td>0.70</td>\n",
       "      <td>28.15</td>\n",
       "      <td>2.11</td>\n",
       "      <td>8.71</td>\n",
       "      <td>168.54</td>\n",
       "      <td>2.16</td>\n",
       "      <td>91.29</td>\n",
       "      <td>7.14</td>\n",
       "      <td>9.20</td>\n",
       "    </tr>\n",
       "    <tr>\n",
       "      <th>min</th>\n",
       "      <td>0.01</td>\n",
       "      <td>0.00</td>\n",
       "      <td>0.46</td>\n",
       "      <td>0.00</td>\n",
       "      <td>0.38</td>\n",
       "      <td>3.56</td>\n",
       "      <td>2.90</td>\n",
       "      <td>1.13</td>\n",
       "      <td>1.00</td>\n",
       "      <td>187.00</td>\n",
       "      <td>12.60</td>\n",
       "      <td>0.32</td>\n",
       "      <td>1.73</td>\n",
       "      <td>5.00</td>\n",
       "    </tr>\n",
       "    <tr>\n",
       "      <th>25%</th>\n",
       "      <td>0.08</td>\n",
       "      <td>0.00</td>\n",
       "      <td>5.19</td>\n",
       "      <td>0.00</td>\n",
       "      <td>0.45</td>\n",
       "      <td>5.89</td>\n",
       "      <td>45.02</td>\n",
       "      <td>2.10</td>\n",
       "      <td>4.00</td>\n",
       "      <td>279.00</td>\n",
       "      <td>17.40</td>\n",
       "      <td>375.38</td>\n",
       "      <td>6.95</td>\n",
       "      <td>17.02</td>\n",
       "    </tr>\n",
       "    <tr>\n",
       "      <th>50%</th>\n",
       "      <td>0.26</td>\n",
       "      <td>0.00</td>\n",
       "      <td>9.69</td>\n",
       "      <td>0.00</td>\n",
       "      <td>0.54</td>\n",
       "      <td>6.21</td>\n",
       "      <td>77.50</td>\n",
       "      <td>3.21</td>\n",
       "      <td>5.00</td>\n",
       "      <td>330.00</td>\n",
       "      <td>19.05</td>\n",
       "      <td>391.44</td>\n",
       "      <td>11.36</td>\n",
       "      <td>21.20</td>\n",
       "    </tr>\n",
       "    <tr>\n",
       "      <th>75%</th>\n",
       "      <td>3.68</td>\n",
       "      <td>12.50</td>\n",
       "      <td>18.10</td>\n",
       "      <td>0.00</td>\n",
       "      <td>0.62</td>\n",
       "      <td>6.62</td>\n",
       "      <td>94.07</td>\n",
       "      <td>5.19</td>\n",
       "      <td>24.00</td>\n",
       "      <td>666.00</td>\n",
       "      <td>20.20</td>\n",
       "      <td>396.22</td>\n",
       "      <td>16.96</td>\n",
       "      <td>25.00</td>\n",
       "    </tr>\n",
       "    <tr>\n",
       "      <th>max</th>\n",
       "      <td>88.98</td>\n",
       "      <td>100.00</td>\n",
       "      <td>27.74</td>\n",
       "      <td>1.00</td>\n",
       "      <td>0.87</td>\n",
       "      <td>8.78</td>\n",
       "      <td>100.00</td>\n",
       "      <td>12.13</td>\n",
       "      <td>24.00</td>\n",
       "      <td>711.00</td>\n",
       "      <td>22.00</td>\n",
       "      <td>396.90</td>\n",
       "      <td>37.97</td>\n",
       "      <td>50.00</td>\n",
       "    </tr>\n",
       "  </tbody>\n",
       "</table>\n",
       "</div>"
      ],
      "text/plain": [
       "         CRIM      ZN   INDUS    CHAS     NOX      RM     AGE     DIS     RAD  \\\n",
       "count  506.00  506.00  506.00  506.00  506.00  506.00  506.00  506.00  506.00   \n",
       "mean     3.61   11.36   11.14    0.07    0.55    6.28   68.57    3.80    9.55   \n",
       "std      8.60   23.32    6.86    0.25    0.12    0.70   28.15    2.11    8.71   \n",
       "min      0.01    0.00    0.46    0.00    0.38    3.56    2.90    1.13    1.00   \n",
       "25%      0.08    0.00    5.19    0.00    0.45    5.89   45.02    2.10    4.00   \n",
       "50%      0.26    0.00    9.69    0.00    0.54    6.21   77.50    3.21    5.00   \n",
       "75%      3.68   12.50   18.10    0.00    0.62    6.62   94.07    5.19   24.00   \n",
       "max     88.98  100.00   27.74    1.00    0.87    8.78  100.00   12.13   24.00   \n",
       "\n",
       "          TAX  PTRATIO       B   LSTAT  target  \n",
       "count  506.00   506.00  506.00  506.00  506.00  \n",
       "mean   408.24    18.46  356.67   12.65   22.53  \n",
       "std    168.54     2.16   91.29    7.14    9.20  \n",
       "min    187.00    12.60    0.32    1.73    5.00  \n",
       "25%    279.00    17.40  375.38    6.95   17.02  \n",
       "50%    330.00    19.05  391.44   11.36   21.20  \n",
       "75%    666.00    20.20  396.22   16.96   25.00  \n",
       "max    711.00    22.00  396.90   37.97   50.00  "
      ]
     },
     "execution_count": 11,
     "metadata": {},
     "output_type": "execute_result"
    }
   ],
   "source": [
    "df.describe().round(decimals=2)"
   ]
  },
  {
   "cell_type": "markdown",
   "metadata": {},
   "source": [
    "# Calculate correlation"
   ]
  },
  {
   "cell_type": "code",
   "execution_count": 75,
   "metadata": {},
   "outputs": [],
   "source": [
    "#calculate correlation between every columns of the data\n",
    "corr=df.corr('pearson')"
   ]
  },
  {
   "cell_type": "code",
   "execution_count": 76,
   "metadata": {},
   "outputs": [],
   "source": [
    "#Take absolute value of the correlation\n",
    "corrs=[abs(corr[attr]['target']) for attr in list(features)]\n",
    "#make a list of pairs [(corrs,features)]\n",
    "l=list(zip(corrs,list(features)))"
   ]
  },
  {
   "cell_type": "code",
   "execution_count": 77,
   "metadata": {},
   "outputs": [],
   "source": [
    "#sort the list of pairs in reverse/descending order,\n",
    "#with the correlation value as the key of sorting\n",
    "l.sort(key=lambda x: x[0],reverse=True)\n",
    "corrs,labels=list(zip((*l)))"
   ]
  },
  {
   "cell_type": "code",
   "execution_count": 78,
   "metadata": {},
   "outputs": [],
   "source": [
    "#Plot correlations with respect to the target value as a bar graph\n",
    "index=np.arange(len(labels))"
   ]
  },
  {
   "cell_type": "code",
   "execution_count": 79,
   "metadata": {},
   "outputs": [
    {
     "data": {
      "text/plain": [
       "([<matplotlib.axis.XTick at 0x23f4f6e8888>,\n",
       "  <matplotlib.axis.XTick at 0x23f4f6e4208>,\n",
       "  <matplotlib.axis.XTick at 0x23f4f6e2848>,\n",
       "  <matplotlib.axis.XTick at 0x23f50705448>,\n",
       "  <matplotlib.axis.XTick at 0x23f50705ac8>,\n",
       "  <matplotlib.axis.XTick at 0x23f50708188>,\n",
       "  <matplotlib.axis.XTick at 0x23f50708848>,\n",
       "  <matplotlib.axis.XTick at 0x23f5070f208>,\n",
       "  <matplotlib.axis.XTick at 0x23f5070f588>,\n",
       "  <matplotlib.axis.XTick at 0x23f5070fc48>,\n",
       "  <matplotlib.axis.XTick at 0x23f507134c8>,\n",
       "  <matplotlib.axis.XTick at 0x23f50713e48>,\n",
       "  <matplotlib.axis.XTick at 0x23f50718608>],\n",
       " <a list of 13 Text xticklabel objects>)"
      ]
     },
     "execution_count": 79,
     "metadata": {},
     "output_type": "execute_result"
    },
    {
     "data": {
      "image/png": "[encoded data removed]",
      "text/plain": [
       "<Figure size 1080x360 with 1 Axes>"
      ]
     },
     "metadata": {
      "needs_background": "light"
     },
     "output_type": "display_data"
    }
   ],
   "source": [
    "plt.figure(figsize=(15,5))\n",
    "plt.bar(index,corrs,width=0.5)\n",
    "plt.xlabel('Attributes')\n",
    "plt.ylabel('Correlation with the target variable')\n",
    "plt.xticks(index,labels)"
   ]
  },
  {
   "cell_type": "markdown",
   "metadata": {},
   "source": [
    "# Normalize the data\n",
    "normalize the data with MinMaxscaler"
   ]
  },
  {
   "cell_type": "code",
   "execution_count": 80,
   "metadata": {},
   "outputs": [],
   "source": [
    "X=df['RM'].values\n",
    "Y=df['target'].values"
   ]
  },
  {
   "cell_type": "code",
   "execution_count": 81,
   "metadata": {},
   "outputs": [
    {
     "name": "stdout",
     "output_type": "stream",
     "text": [
      "[24.  21.6 34.7 33.4 36.2]\n"
     ]
    }
   ],
   "source": [
    "#Before normalization\n",
    "print(Y[:5])"
   ]
  },
  {
   "cell_type": "code",
   "execution_count": 82,
   "metadata": {},
   "outputs": [],
   "source": [
    "x_scaler=MinMaxScaler()\n",
    "X=x_scaler.fit_transform(X.reshape(-1,1))\n",
    "X=X[:,-1]\n",
    "y_scaler=MinMaxScaler()\n",
    "Y=y_scaler.fit_transform(Y.reshape(-1,1))\n",
    "Y=Y[:,-1]\n"
   ]
  },
  {
   "cell_type": "code",
   "execution_count": 83,
   "metadata": {},
   "outputs": [
    {
     "name": "stdout",
     "output_type": "stream",
     "text": [
      "[0.42222222 0.36888889 0.66       0.63111111 0.69333333]\n"
     ]
    }
   ],
   "source": [
    "#after normalization\n",
    "print(Y[:5])"
   ]
  },
  {
   "cell_type": "markdown",
   "metadata": {},
   "source": [
    "# Step 2: Define error"
   ]
  },
  {
   "cell_type": "markdown",
   "metadata": {},
   "source": [
    "# MSE- Mean squred error\n",
    "\n",
    "   "
   ]
  },
  {
   "cell_type": "code",
   "execution_count": 84,
   "metadata": {},
   "outputs": [
    {
     "data": {
      "text/plain": [
       "[<matplotlib.lines.Line2D at 0x23f50768d88>]"
      ]
     },
     "execution_count": 84,
     "metadata": {},
     "output_type": "execute_result"
    },
    {
     "data": {
      "image/png": "[encoded data removed]",
      "text/plain": [
       "<Figure size 432x288 with 1 Axes>"
      ]
     },
     "metadata": {
      "needs_background": "light"
     },
     "output_type": "display_data"
    }
   ],
   "source": [
    "n=200\n",
    "#Generate n evenly spaced values from zero radians to 2 PI radians\n",
    "x=np.linspace(0,2*np.pi,n)\n",
    "sine_values=np.sin(x)\n",
    "#Plot the sine wave\n",
    "plt.plot(x,sine_values)"
   ]
  },
  {
   "cell_type": "code",
   "execution_count": 85,
   "metadata": {},
   "outputs": [
    {
     "data": {
      "text/plain": [
       "[<matplotlib.lines.Line2D at 0x23f4f229448>]"
      ]
     },
     "execution_count": 85,
     "metadata": {},
     "output_type": "execute_result"
    },
    {
     "data": {
      "image/png": "[encoded data removed]",
      "text/plain": [
       "<Figure size 432x288 with 1 Axes>"
      ]
     },
     "metadata": {
      "needs_background": "light"
     },
     "output_type": "display_data"
    }
   ],
   "source": [
    "#Add some noisy to the sine wave\n",
    "noise=0.5\n",
    "noisy_sine_values=sine_values+np.random.uniform(-noise,noise,n)\n",
    "\n",
    "plt.plot(x,noisy_sine_values,color='r')\n",
    "plt.plot(x,sine_values,linewidth=5)"
   ]
  },
  {
   "cell_type": "code",
   "execution_count": 86,
   "metadata": {},
   "outputs": [
    {
     "data": {
      "text/plain": [
       "0.07166666751509716"
      ]
     },
     "execution_count": 86,
     "metadata": {},
     "output_type": "execute_result"
    }
   ],
   "source": [
    "#Calculate MSE using the equation\n",
    "error_value=(1/n)*sum(np.power(sine_values-noisy_sine_values,2))\n",
    "error_value"
   ]
  },
  {
   "cell_type": "code",
   "execution_count": 87,
   "metadata": {},
   "outputs": [
    {
     "data": {
      "text/plain": [
       "0.07166666751509715"
      ]
     },
     "execution_count": 87,
     "metadata": {},
     "output_type": "execute_result"
    }
   ],
   "source": [
    "#Calculate MSE using the function sklearn library\n",
    "mean_squared_error(sine_values,noisy_sine_values)"
   ]
  },
  {
   "cell_type": "markdown",
   "metadata": {},
   "source": [
    "# the three functions that constitute the model are:\n",
    "1. error\n",
    "2. update\n",
    "3. gradient_descent"
   ]
  },
  {
   "cell_type": "code",
   "execution_count": 88,
   "metadata": {},
   "outputs": [],
   "source": [
    "def error(m,x,c,t):\n",
    "    N=x.size\n",
    "    e=sum(((m*x+c)-t)**2)\n",
    "    return e*1/(2*N)"
   ]
  },
  {
   "cell_type": "markdown",
   "metadata": {},
   "source": [
    "# Step 3: Split the data"
   ]
  },
  {
   "cell_type": "code",
   "execution_count": 89,
   "metadata": {},
   "outputs": [],
   "source": [
    "xtrain,xtest,ytrain,ytest=train_test_split(X,Y,test_size=0.2)"
   ]
  },
  {
   "cell_type": "code",
   "execution_count": 90,
   "metadata": {},
   "outputs": [],
   "source": [
    "def update(m,x,c,t,learning_rate):\n",
    "    grad_m=sum(2*((m*x+c)-t)*x)\n",
    "    grad_c=sum(2*((m*x+c)-t))\n",
    "    m=m-grad_m*learning_rate\n",
    "    c=c-grad_c*learning_rate\n",
    "    return m,c"
   ]
  },
  {
   "cell_type": "code",
   "execution_count": 91,
   "metadata": {},
   "outputs": [],
   "source": [
    "def gradient_descent(init_m,init_c,x,t,learning_rate,iterations,error_threshold):\n",
    "    m=init_m\n",
    "    c=init_c\n",
    "    error_values=list()\n",
    "    mc_values=list()\n",
    "    for i in range(iterations):\n",
    "        e=error(m,x,c,t)\n",
    "        if e<error_threshold:\n",
    "            print('Error less than threshold.Stopping gradient descent')\n",
    "            break\n",
    "        error_values.append(e)\n",
    "        m,c=update(m,x,c,t,learning_rate)\n",
    "        mc_values.append((m,c))\n",
    "    return m,c,error_values,mc_values\n"
   ]
  },
  {
   "cell_type": "code",
   "execution_count": 92,
   "metadata": {},
   "outputs": [],
   "source": [
    "init_m=0.9\n",
    "init_c=0\n",
    "learning_rate=0.001\n",
    "iterations=250\n",
    "error_threshold=0.001\n",
    "\n",
    "m,c,error_values,mc_values=gradient_descent(init_m,init_c,xtrain,ytrain,learning_rate,iterations,error_threshold)"
   ]
  },
  {
   "cell_type": "code",
   "execution_count": 93,
   "metadata": {},
   "outputs": [
    {
     "data": {
      "text/plain": [
       "Text(0.5, 0, 'Iterations')"
      ]
     },
     "execution_count": 93,
     "metadata": {},
     "output_type": "execute_result"
    },
    {
     "data": {
      "image/png": "[encoded data removed]",
      "text/plain": [
       "<Figure size 432x288 with 1 Axes>"
      ]
     },
     "metadata": {
      "needs_background": "light"
     },
     "output_type": "display_data"
    }
   ],
   "source": [
    "plt.plot(np.arange(len(error_values)),error_values)\n",
    "plt.ylabel('Error')\n",
    "plt.xlabel('Iterations')"
   ]
  },
  {
   "cell_type": "markdown",
   "metadata": {},
   "source": [
    "# Animation"
   ]
  },
  {
   "cell_type": "code",
   "execution_count": 94,
   "metadata": {},
   "outputs": [],
   "source": [
    "mc_values_anim=mc_values[0:250:5]"
   ]
  },
  {
   "cell_type": "code",
   "execution_count": 95,
   "metadata": {},
   "outputs": [
    {
     "data": {
      "text/html": [
       "<video width=\"432\" height=\"288\" controls autoplay loop>\n",
       "  <source type=\"video/mp4\" src=\"data:video/mp4;base64,AAAAHGZ0eXBNNFYgAAACAGlzb21pc28yYXZjMQAAAAhmcmVlAABhrG1kYXQAAAKtBgX//6ncRem9\n",
       "5tlIt5Ys2CDZI+7veDI2NCAtIGNvcmUgMTU4IHIyOTg0IDM3NTlmY2IgLSBILjI2NC9NUEVHLTQg\n",
       "QVZDIGNvZGVjIC0gQ29weWxlZnQgMjAwMy0yMDE5IC0gaHR0cDovL3d3dy52aWRlb2xhbi5vcmcv\n",
       "eDI2NC5odG1sIC0gb3B0aW9uczogY2FiYWM9MSByZWY9MyBkZWJsb2NrPTE6MDowIGFuYWx5c2U9\n",
       "MHgzOjB4MTEzIG1lPWhleCBzdWJtZT03IHBzeT0xIHBzeV9yZD0xLjAwOjAuMDAgbWl4ZWRfcmVm\n",
       "PTEgbWVfcmFuZ2U9MTYgY2hyb21hX21lPTEgdHJlbGxpcz0xIDh4OGRjdD0xIGNxbT0wIGRlYWR6\n",
       "b25lPTIxLDExIGZhc3RfcHNraXA9MSBjaHJvbWFfcXBfb2Zmc2V0PS0yIHRocmVhZHM9NiBsb29r\n",
       "YWhlYWRfdGhyZWFkcz0xIHNsaWNlZF90aHJlYWRzPTAgbnI9MCBkZWNpbWF0ZT0xIGludGVybGFj\n",
       "ZWQ9MCBibHVyYXlfY29tcGF0PTAgY29uc3RyYWluZWRfaW50cmE9MCBiZnJhbWVzPTMgYl9weXJh\n",
       "bWlkPTIgYl9hZGFwdD0xIGJfYmlhcz0wIGRpcmVjdD0xIHdlaWdodGI9MSBvcGVuX2dvcD0wIHdl\n",
       "aWdodHA9MiBrZXlpbnQ9MjUwIGtleWludF9taW49NSBzY2VuZWN1dD00MCBpbnRyYV9yZWZyZXNo\n",
       "PTAgcmNfbG9va2FoZWFkPTQwIHJjPWNyZiBtYnRyZWU9MSBjcmY9MjMuMCBxY29tcD0wLjYwIHFw\n",
       "bWluPTAgcXBtYXg9NjkgcXBzdGVwPTQgaXBfcmF0aW89MS40MCBhcT0xOjEuMDAAgAAAKB1liIQA\n",
       "E//+97GPgU3IAA2XOop6H+EVsfSQUXqx2aBk6gAAAwAAiYH638JRwsQHwht3BudId0Uq2fQAIbty\n",
       "qmwF8gX0LLzk2vyiTGtHdrlUU0pvR9E1IWLAAGdLElzm0F+YKb0MJhE+T2NumtX7TTF8pigVhe0e\n",
       "r977kTqG3rWhSuI4WldWhyiZMW2mxwklk9u21aQfI9z5IAfMeVsOBUy1uwbG8h/WElj0WVRbXaKv\n",
       "rbyuwgFqReZqMq8ZS7cS/rbtfuCtSrNWH3iGmlBK33QZt6J5750kl+/wi5Lnpx9YrYIi3kMl8Dre\n",
       "J4qoBrUoQjUmewQY0heYRDOuu+kQZR0MJ9nkMyXNZlD2du2N9vpPWl//cxIu3PFigMbgfTdxwJYV\n",
       "RuIo9jvzCf0ggyjj4PQFANYF/kNcJaK8z7A25s08/0G/5piw/9J4lmBNNSWgTQ8NudObkjXMeYNu\n",
       "ohoMNt66wkUW9fJVOMtjuPH17gAs7GW7uaEhe91gReosaF1GQi/COgXLp/9ar5JX9nyhECYN09yJ\n",
       "Sj5vbenSAAm8CFWwRyeX/ZFK48zs93etm2VvaDQW/mfK2jXf7vRDCejz7KhoJaABLtfYuW6d07qk\n",
       "4l1zpkKMlzHZLV3Z1yVODi3jGS/XN6oT1Su5ZpnsgbCJAp0q+osAbQjd0SZxRfbWBfCHQlDa+nCA\n",
       "O7klzXh+d5iQ+oQgnqqeFF0o6qsfIIt+Ap8O/uCYd0mCI883Ru9wJ+IqjqqzXHZKJjsnoBBsQVqf\n",
       "Wcwb3Mjdy60YPGrZWPTxIawJ0L8yt/jOMfMETWS39HePz/tJiO5Guu56MVmzPyWmzHcPfIWav7ak\n",
       "YIjqQoQ1ItKrxD7dJDakdUZpnZxplB71E4X2tAw01cM7FJ5TpzgSsYyRRlzXpTgi0WB2Fh+Yv5fI\n",
       "Zzlyk2EvWtQpTcCTajiNhy2k0R/2H74YCyd5Lgc102u/eiuATgEMKvIBYk/SydZ/flBcMijVuLzV\n",
       "QAR+s2k/XqDm2IlHcsYSKoPoj6OvNz4+ldlH1qUxHHFL7X8nXOcf9Jw37RtDQwqNxrbVR7Oc/QF1\n",
       "AahTqhM39+WI/Dx7R+uYT5gEfiEyVjzNN2fPt0lTcMPHd1werQWZxSaSwgwbnuCzvceIsUwwbpr1\n",
       "LoB00zZS0/vQmhMFXHbBYY2lec53CUagckVMzME9kJUWVntwT6TDpaI2ydgRclVI891G5r2cWTKo\n",
       "t8f6Q3I1kKtmxwtjjthYC7SQHd4NFSGXWoj3FqrmLs51/FbQh896xEeHMqqCuX1evuuvq7hBtaOh\n",
       "0X8F9PbYz9izLKKr0xUi4/XxDVXB9NEk9nkoQHam6HLgIaors3fiXFHUTQmIFmS/dcQb0TNhf+0L\n",
       "YDL/RrJ6e1O0zhrInzisJHfy9ZCV6aYaoxSaCANJLgLea5ymN5NOixVlaMHG+sp/Zx84PGqArA34\n",
       "GYtUhDlH5GHqZl9S/jzgVwtkeSpfuaocBrHYMOylMQBPtwE9PqElCV8cutjAs/84RH5MosYmpcHL\n",
       "DCsnYXKXB4ZK4nSFOMh7h18VMolJ9g69vK4iEWutkX6w9Nqo9SbRc5EFaQvCRIhXMrrPIo/jS1QQ\n",
       "7EhhXfh6znq3Wrs6MHw13mi663itkZovl5jJo21ZYMou26/wJsLMEsO09GIHCyxM+xfldB7Lniu/\n",
       "WytlHKBGyrfF1P36V7Oup8mo6kMYMVhyAKot4z9Vz3CUtEFnJpS+l2L9tgEgaSahyrcA3CO9/Vj/\n",
       "WUB7qP70rwVxbP1DQ+eygJCM1cTmSyIAnLY/jjs6Z72TzYiUyfkmAVae1sf2zhdmhTRYSMxcLUMF\n",
       "7+M/5K8Znd9hbDJ6mVDjc2Ebiezgt5w3+ZsMMqgCMUJUJRJ+LSedGh/oRQ7cLS3JV7pkDdGnFWwD\n",
       "ca0ph5pDLjdCQxS45qBXIR0sCq+YBbp4nTM6YQd67ncWT7zCLG2uFfA/+wDnwWxrZi6VPBnE6bzt\n",
       "W+kJweD3kUtBeVxsj/3Q4Das5w7dY367at+whNCxMzpX+sJOugCb2UPlSpXQ01TbkH+ykgx3voJ2\n",
       "KYzkmj6WW8oVMuyE089glYHnMVWUWzL+OicNk9sUUia1htn9Lwg8vraAK45brbMhhngrTy560aT6\n",
       "pghswUP0GTs1Z+PHMJhgu77ZRoCkceZWJrIWUdTMpstdK4kdp8nfq8okNP8/DIRYstM1Obte1rmF\n",
       "y4WhBJTKz2DM6rLGgSEnCKOfxhxwNs35NwOadMHVvagLl2slNuomkHUr/5EqKFQaiP9oIliG1fAS\n",
       "H+hJGoIodn72WgGHtxt01J82sKAEELEO+fvjBWQ0aognj58imFmZ1ABbnr9O8RPn+EOeiJgx4Hzh\n",
       "FQ2E1NI+qWqO/Z7NNp59Wd5Ds2pxU+6MFlZkQDYuRuVjini4HRLvbIhI34ud/xIdIEdrKqxf+mN4\n",
       "+Rbu1XMn+It2jov+om53taDKca8HSgDBL4KOiCr9stlu3n6qXYg8ksIX9wQYPOzzEFDY8AizTFdd\n",
       "oouFV56uZ6qUQscLOG+GEwY59LTLjpwoDvPMoP/GTPPwuwJqd8XyF3zJlMuXXqnl66yBY618NIuM\n",
       "KR+Grkj7F4f6dul+AsVYEzBC/BLxaJI1YJpf3Jv6vFQski0eBkZuX3ifyIi8Rke4+u/fVk8FP2RX\n",
       "P+FC9RBm5pWWu8s0e0SQ1eV9HOHxtiGdsOyGMCD6WNfX0H5T5PMq+tuMs86nZVsgz9lSiIANpKwI\n",
       "+RZYkZTHXnUcL+e3CzuV6TKOZJBt4TVpxwV7A0kskDz4QAlh7fLv4gmhPweW6G97GPDHlu6t1yaR\n",
       "TKHp27rnQvILgQcqsiSmc4Xtb41/EX5lHhj5ifu3A0WKUcvoP2URHx36W5iI0Hc1oGfnooy+X9Jr\n",
       "1vTwGE59DeXQs+CCXUQVGv0pyLyscvqdt98Xjmx+u+OHf2Ovs7uCdFWXafGb3pNBDzKWLEVKn6FO\n",
       "Z5x0NtX5+fgAt7GE/kNmo7WsnUrU9KdgjltijLcoUq3YLfLpwDihPefHpt26xC1EZs4f1OEzISJM\n",
       "F88qGCs4FVLo47yZjUN+0TQoKz3x5AqgzOeMVELX/XOXwDKqy9Y/CHc604yvqYKXTdZVI8yew8f/\n",
       "rzkc90Omm1qIhapn15oNjX4VlJz0bU17VMrtV9xwHZ3Wn3f86Ybk6bhfGTAkMKHbaLwv5icl6Uft\n",
       "MFD4qZFTuNp9XTzByl9N3i2SgwUAE12eNpd5I5POoel1jq9WSzD28RI/XiZke5K3RDuO7MCgk9JZ\n",
       "LUxYrNHRzEykjiMpVz+itypdI/rEm/vC3VMaWQrEIWlln7Oziay4KwWmTWSRPQMXQqe3y5MJ/xVo\n",
       "uR92rdCV6WUu3Zvyvb/xAzoeyBT7scaj5/896lcHaZtWnmGxp6yQKYIVOKx1VOr6YakWP+9IjiJH\n",
       "K+IiaAFXIgmGXyJP7zyX9jx6YZfzTy1o8ddG0NLtyjEgLAF5HbW+yEhpCQu5K3igypvzTCRhbrFm\n",
       "SwRSnZ7A/Ypf6SwhbC1A8A1J0MdIFQM1azFc/aZTKQshm251q7Vuh3eiJZ7IweZYH/AWGdKqtd/5\n",
       "46ZvWb6jy00IOhNmEVVjydomnrcMO7VzhRKJGiDYjX/rG6AykBsdSMKKhlnNX61cf1zOj8YRH6mh\n",
       "Fn+ee9WoEsv2JlC8teVTR3LcxnGZyueBfCeFQRRTmb53LhulAttOwQqDA/nFPGEWjXtHS7Lk+RSk\n",
       "CnTWLtsWca4GS+Ll+QHYQ92vQHj2PEqsukVIfz7Huslr7titrcNpGuSgPF4Hr7vFD9zs4VFjWbWA\n",
       "Rp0cqpaGz7/OmzJfvtc7oTT3RPjWeRqjMknAEwRZSMtHCg2ghNQ0WMvMB7PZCAtkaZ7C2YNlWkxd\n",
       "7tcR851GxG6ULo6TgGKsK+E3yqtrJAXtkOgj8eDNh3RmLGR5ICD6kHsG7D0MibiRT/Z1H7yHoc2t\n",
       "yb5Cz543yPFNdOTUjvUUvMLVA76YgljKT3GPmtqPJismOSwPCCGT0kkb+bgMRpuVHmfmp9EBqIqj\n",
       "/W1ladFTqvcbQnCsPn/9xkJuPSkK+OuGBMa3q9N5Z6Al+Nv4innJ1GQjpNNEsC9mZ9fX6e4zjpqw\n",
       "c3pYvHa52sG5cpSI4rmps4fO97KxnMPYZnoKRyDjnXTa9puDLyRbehzvM3O1ooZxQSD3CtNF3pi7\n",
       "5ILSGWn4DdnnHlh0/Xld2kYOwxCkHG9nOGp8x7Ki72R5SuHpqR4W55zbYAyJhsGGBdnBin0V1hS2\n",
       "g/SZ3BYlWvEjinAx8xOPQ025uqw4Qr9zdj/E3kLa8QMN9cqlOnXdSC40g/VRQiJiHEaLge/x+zuX\n",
       "0Wwtuu4tVLKPSOgqYrTEwk0fuumTICV+RJP0dw8/YPba1hJVttaVlT5t02f+c8kfNTXTJleZLUGt\n",
       "QTmMeFgVArYr3cKar/xvR46pMmf4uplhlhy7ICB2WG3ylvmCye2+CN0EWSN6WhL1vJ+hyROTz1PO\n",
       "n0GW2jA8nDBBFbOcOD6l/tQFzl0WiXgqPZiA4z8SCethRoo9tqDBLeWwz9nZXU+Slt5e19pwon07\n",
       "mJ65CB0c/B7fsHgppzH6cqpvi9sUhJQqE9i4nc+ghvsC45VQMLG67k9n7PHyLaknKBK7mulet9gx\n",
       "yzDXaY0exIogJpdkASVGc750XKskA3Dc6vY58GefunD9ZRFBn5VyEExJZt+X8GgNA5bgEWz99Xo8\n",
       "MxRla6qq1OYh2MhMdHDXnIKRwdIR+xocRJfspOJsnOgY09NGC9b1yvcMqeJdZL4Lgd7i9mcaLEc0\n",
       "rrdpTo2HBtmdgaTE1toLiOLz68VPQdVSmbyFgfh1SeeynWTssur/h8LvpCfZ58uJ7wQq6f9zDR8v\n",
       "AAxlF3q4sFlitqUHZ09pcUD/aa9cmPB+CnSuRYPacBS/zxYyaFEa90E2z1LbnXs74quN5rrEtdg9\n",
       "KCQsI7RAMtJZNP+yysn3scrHZjPmY+B//i95xyCi0BENbpw3wEj2xODn0huf1rhokUT1IichqEXY\n",
       "xigjwf2+gZfd/UvjhkKjoK+DmJeWzysLqcePwo7DfKdF0QBCxW7mm/lx3UIRvgBsNFwuYPJSlyfO\n",
       "KQSk2IWh5uh+NJ+8ZQaqbGLPbbP/UJOC1ZU9zet5eheqb+4VDoNLe+cc2rt5yi4p5cSUpzQg1b+J\n",
       "L+bJ4s57nN/5GEGB0PYlSVsDjzXQAmMG3/gHS+xHJSeOYGd8/orWI2e07wbV09AAa8pbZtTMjYcS\n",
       "aN607vblj0ZbmAmTS6jxN09nnUoL0ppRVuhgRogRYhQgAK0yjhEMlzCQHBK6V+o8dnnU/Yk0JRaZ\n",
       "ipH3NxUXxLzVGuFzZ9HG1sVcfKsCg/k3Qug01lqE8qmfV+1Hq2a6d014frDWk0ejfTkelYZRmZGq\n",
       "Rm3wgfSKzERquwvplEK4O1WXR6vtiX6q/Wii8ax0n3Wcloq+dt65aBVEaJPJit6U+8/1EeU8pGGj\n",
       "+l4NNiwB0MyCwhPVToWtb0+YYGMW6vLMmjE79V/IW5cxOoCJNF/XRGZci3OJ+115BUsmS6+O583R\n",
       "P4z4/5XaQ7mpv2YH6ndMqt9Bd3u1S5MgJy5SzlY7yR04CoghTLxNUbpn9MAWTzutnQocn32aHOmb\n",
       "pe/ObOvr2KP/uMWmkTeIPRXy4F0K2AO1478tLp3ohZzSQ5sOoYG05KU2F4TdhOIl8sjJZZpfqXi/\n",
       "+m1XT9Pis1U5zkzNIyRkKstLMrcvgzyrKWZnacK5QLifYJH1ygxs8eESWUDFMW4R+aNYSeTgxC6C\n",
       "k4VqKcri7jv+0JJodOtokojHLTEt7s/BTtpKQ89JIFEf8p4djCWuvUPrImGe11ZET6rVM+WyXkxB\n",
       "vmtCBQlu0uS3uOFQImQMMl1YxfzbGtA/zC8nHLyJyPaGN7WKp8odxbyYbuGW3oPqI0A4pz7DYfQX\n",
       "u/+z99oQynMwo3yGItLio/+p8APd7/f/81oK3mLNsazccVQA/JsVvLfcj+nET2HcVO/5ZI0DG9EE\n",
       "MP6L4IUsDzLLSXTy0X0f4opeMeAUM/0kSkyoiGUeDbDzOoV4UJkjbzlLQjALGF9S/mjJN/Kcu9mC\n",
       "E6y6kl7Az8ymfQ4Rh3GagqRfIHSV7dfBnQLNj1yLnrL8pwvAR+JLee1f98UUwTXgLiuTq2vWAaz9\n",
       "iR7/MBpzwX3+XNe/l9NOwJlE1rfph/QoxcHoaVAERVyQYi/LUNR99v+mm16SM07+sygyMP4Elz9Y\n",
       "3R+HRIVo8nmod+Py/Anwj54KruPP1XRfzOOzyeAYdC0BidAHgUtofcNE12x0rCjDJMcQynzoa0An\n",
       "1sBE599Lg4kFXMqGUk51zRVsdkHkD6DGakUYq6RffNTHGHfNYaXxVzOC/vIWkL9dAydpUDWUPstc\n",
       "afIiJzDmX4mBlGTj/LWHraLsY9iigjk2b6tGlOz+QhngZzE0dCEPVYQfNWidhsN2Wmo4gr1QUUK4\n",
       "G0Ub7H0mrxk4yMEASGJS/clpJsdgtHC2EFW5L/zg1oriZwR8VaCg6iWbvdr3MyrHbisi1LxZYAGs\n",
       "bw0TB6QMg2K6VVUmFNGD5MgtjhZlj9wHGoC7QcVQrzfz7isX0gVUCRXt/W4wKRidPbHWktl0SMHp\n",
       "K8AMMWN5WQjZFzQT1h4TZmTEJnglGJRQ4r1+W5SWHN6yQua7NPPN7+bfFkyh+ZSMDAfNo/jhfyN0\n",
       "YnFU/n5rhdhlNt0nz5WQGi+002Z5gxu/oeGRGEPLrg5XMBesylMteX+I8y5XFBrHI8zhHBr3Q2is\n",
       "jh28RKoHpzksGxXP1lFH8Nyj7t6uaAindiUfp0ZIGDELxt4N3WFlb/aqGsg7OnqABQFWB6pKT8Vl\n",
       "rXI+em9fDzkgcyvHtZymoLfnr4JwR8vwojsZky345Y1w4KAPXqWTDjk3hxv24Y3eqsPYBdXsElf0\n",
       "O+tA7STIzLCu8erpkK6u10aGE8lV/lY86x0jUHLpNFDL1wPPuoSzR6h8HsZ1GZ5KOvHXgotLXVdB\n",
       "9p3UB6WOXyjGglMnscXb3EniDZ3+d18nr6s7S/ZfgtUR7XE9+C7KqKodUFpJ0ExfoI3MdCs1+kBK\n",
       "1Q8vHOiOeW7QzuWoOx6vuC62IhtdNCWDGHLMZO4/lyYejHSBmw3D+fcPjZh/9GN9nfoz6T6Iaiyf\n",
       "IYUhxIx+x60nvN0oM5fYoTOqe+Kj+rkANnjMDX7Q4SdZwSNlIOnNjieicNeiP2gVscarv5Xj9Bay\n",
       "3dS2qaMrzO+AFqyCFTAAUtEOWyqMA0WgmT280G6sbD+DiSIBw26ws4O0rKfA6lh6pPGx6+joLisW\n",
       "XtQ0y3Z3S+ZvcvZM3/lPSWL5+pR5hYuWMwdwxJ3xC1WfEp9/9WehWd9irduvHr1PMM7V31SvvetR\n",
       "sUp9xhZlBQl2AogFgOMTNxClOxNNaOgVbZntRYJg6moe19W5vOZgEhBG3Tmam5s1ZJggptKTowUO\n",
       "ROWUdEgLegMxaKoXETcWMmTPi5Bu7xyxF9hjTwZcPmVCNJJsG6iMg31+hyUm+KBvO7e7vMGDfo3V\n",
       "Dj1fAY/pekBWIlDwHeL3pyq6atLOmS0RKLrdZc+xHXM2wVL/CnBLAZ581GcvS/1b7nxAtlk/JfNH\n",
       "kGYehlVI+avg4xXf21DbAvPzmlvOUxGfCDgOBwU6ijRUYINRD6/H/vs+NKUM6vr2Bu8FuTb1lc/0\n",
       "t8OnWyMT0h7pSMQFDObgwpLKJ2kmpN9i4HtRC3+Q2PQjAhuLr4EQSvSOqj2Z8bLLjFEbCTuF6se8\n",
       "ub+iPJXg1tnWdCsrjC6smMtiVj0uXKYn3e300ScC2YK3v94R4el4n3rAj8gLfGVjc9sFJTXqDVU1\n",
       "8aBNic2/md/vV4GDf8KeBQcttliSVri3x+eCIDej086Sgmz28TfGe9ubsat/B2JkspLm3X5nt06U\n",
       "QwVQrXjwmNN3n/WzVh5v/Y1xzpWGfl8A4nXZbrSTIScIS/fX9KW/MCMxGOCe+DgpKybDThI+y/vO\n",
       "uMBqSsF9RHqyqmZInsFepMf6O0F3DGPhTq1bqMnCgc1PTVVTyAFfJGDi1waHaSLdg43KHeb+IPlZ\n",
       "GsEjxb9f9sG9sqQZyupL6Ihhjgly27YDw64RrmgVbeiE60+ibQgHDBzUf0ysIimjxAFh67wOG7+R\n",
       "QdMPqCjs+5C/fGGclBL0BatGsxwsaeO59b8yJhntvzkLWzNGcod0M4AqFHtmA5BQjk7sLRfGH1GK\n",
       "wbBnr2TbFt82AZcjcImA5QioqGELDYmQc/NHoGC7lt+FeqGm6gXlbdKqNcUWHHt5JUBRI5uyd31U\n",
       "WIztznc6PdkOSbhthR6jwAH/krvRiLC1mtdXesxeiniSZsr/7vMOiZspGQ3lBywf7JGg3naxdjMJ\n",
       "X0ZuvMlUnkQ2dJqcxkKpH/hMZ5NczHQpb61BcEAfh4AamaoRWbQ7RQhyZNGrkQ/J8fhfehvYjRjy\n",
       "7MvK5YFDjdsytAwGh3KHCL02MoFthEFOnE6F3rZNAi2FsEOLxmGvUlWUoPE2If2pgC0lDvf/TKFh\n",
       "XfXw8BX6LDkogVr9I87jTWPRir1Zw0TzMQtfPwRsHSMpS3OsSV9tGt0TS4iTP0gMNK89s7/DRTke\n",
       "jy7GfKnDETzVGMtanE7LWA0AXowek16HnfRbGWsmIRIzeHXnVuDm3pQDkT+wIyfZAUqd5q2zeAtz\n",
       "9kOfqomba29FhNVteue/Y9qZDEnxXdsNKUxFbcOWMmSlHnB3CFntiaWWnV6iUP5L85L0/DZLdgcV\n",
       "xgNh9BDO6AFqPmmPIxODmneW6cWzFIRzWyiiQ5Kj+ucjvVXx3O9H3hDchsgCdPHEw7MAU/ufUitB\n",
       "wiYiNJZKaFjQ7SQpkcwJillJguRgWeicFiDH3o7HgfZzoCiwJW8Lk2Sslwn6/EuL6d0m8UnQSmZU\n",
       "yte6oAp74x9xC1CQ8tKNi8dhDqnZlBlcdPK2e8K8b10mpNTPXoMxwbeT7jqCR35cTnldnA+W57op\n",
       "nGP2xs85nk0w2qpGHwplMGgp+H2+KQV5ltHMmVGF2+E0bE3SV5cp9xVevLs5F8L462rYJrHXUNPt\n",
       "W8xYn4ZrRp1j08z5wBAmzmni6tTydbqERqUcO5CL6vvuroaBpe+UUk6ohPVkMYGnrYPM0PBNopzY\n",
       "e6eBW75RnJlZoWwnYrSjxNJSH5IpoiY7vhBDVAA86k0aurRa2UVusexPSZalg+WAWl78OIZI+LgT\n",
       "HcrM6I82bvgQ88uHzqAhI1YJjUvznN33XEZv14roNtTCh2/1WQkLUw0KUMSGt/CbLrVEnqP9w+CE\n",
       "/TRQVysXKS2luhSy1VUkTVo5NW1cJHkmClMJ/peFQyQcjqYbYI1kN9NoxL5JdyNmwSnlwXuRGNhZ\n",
       "/6Fclv86TY815A3NN1bsm19npsbd+8dW5zBqdqBAMMZYgRVSrh9Kh7CjZPIoL3QPECNDIxFoLPgH\n",
       "YCLjYO3PqYq+nm64d903z4KexEmZ1YMFbgYqMXQoXt4flEH9Mc9JdyLDTzX+yD+Q11NkowGxLTRw\n",
       "CwhCw0kUQYcmWiskU6vSrQNlAvDfcu3bOnEbNRX1KEyw+sUkjvIsKbeGS8xqf/CwfIVPGiiJgnyL\n",
       "nrD6X/860H6qLrsK4o9onON0YdhlWrvFFQDwQ8aIsARDPIT2xtGCmPBYOrfqOokWwks2diuQHgDm\n",
       "q/YJsA2EJxzd9JnN0z2hL+8WKIZF6IuymKuvW+HnECEkAfAR0yvjQBV+X8wzzWvmvscro6USC4Hx\n",
       "zYh+0VG/yzeafydtMjf2rusJuXz438a47/JJELyxdal/19n6rt72q//oYVvSWXuHUgOB+izcjXvx\n",
       "cUVbFXFJ9CsCs4AxFtV052vGQFABgnkOwXydcktxKFM7hFSuJwsiyzGf/EfqamYXAhBx3J/A+br9\n",
       "RoHB8hTihTX+ROzJvSGSEOYa29fqucqygHegbK1m+oPiQKfmkLD/L8c6fx6AjAXAJPXBZ1VhuyuJ\n",
       "w/6pXBQKkwSvpeHrwumZq/3wLW79Ja4bGdmayvVXrHYfZoJ2BPqrd9oLh3LJTagV1UiijKVJDbPD\n",
       "mkQcM2s2KCww5mYYyM6SawptyNSb259pBsQ+J0I71IzPBxt0VqpLqMfNB7A1QXyEHmRXk9nULjgk\n",
       "RMa2kZJXF5bMEjzE3hula3eNtG/t5uvzJk4WWMxb8X9K1qXN7tr2dsohuKqg+1NKzbFLE3bjI/wT\n",
       "DMjqE6mePmxoKKZR3V4feej9hVrZUgQnA67VfGEY2Sx5LduRZEINzW03ZrvjtLvTyk1Aq5udMIyM\n",
       "WGFBh6JUyuf17hVCeL/we630tivgqAdtABfhzXHUNzXLcVM65W2rv30N6/L3MCGBmC+Fb1F1FCu4\n",
       "KD/2H0tU/bJCFCu3KJmK3focuwr7zEtLD1KPZcLyh3tdDUXiGqtSAzLBbRx2BqClR6Cjz1rSkg+w\n",
       "Pg4P5WEDKqAAeTgGxlmUNjp3j78FLF9VLJUfWs+wDDapeTE3urt8ptyr7zXfGfEJo4NkyBvnEF8Y\n",
       "hlc8/BiE4VO3KMRlsf2iDaG5+WbMXNrp/jdKHM5vCNkeEDMqnPdBUFxPnHkrCMalYHNpzBnuDTh3\n",
       "vgl1vzcgh5ctV7sFxMPxiBz+fpSPiDHc+U8do+fFr42YSMAlIfcbxUQ60+2omuh7wRHNyH5jMJ3U\n",
       "Fes0y3LWnAe+DJb72DNdshvS0tN6UtGOrnKAGUF7IN4EpJ60Bl3eLW9S+CL4MdzjZeGl8LB7xGy9\n",
       "cJLFr3tw5zRsa7tggdniWAa0sEQlMvaVut2GCuZmLsDMWoBUBNVDihA7uka4o6PqojvifszVGq6d\n",
       "mbTJ6/oPyyWLGBraH4YqSPcw6wHRDxMHizF4A2tnXXWsDW+kVHNbllmlFX6RdAgHuugYxxjxF3BL\n",
       "UvlkPHGpRtYsTrCcKcCLhWzDUJOkcgA3q7sPiCNgdHnn6I0BdP+WzIiEiWFC7ZvzcDWgdQmOnegB\n",
       "e4jXE3p9hscrrBYyg3NoEAcMShU1ciyQxXjRURK19ZcKYMxTvYW9o4mC6Ay1nDIi8E51juoCkt5h\n",
       "aMEv+F9DFvwM+FdwDM1XYkos5JvVpiqG/kyZzNe2e0Kehfm+nREG//7TPOoYH+zF99IFWIwWD89R\n",
       "8qjMawCCwVOyTO4qIDZMfbsFaLCfMhH4KHm5nppHdHGkid4nc3hWxKYBgRKb/yCtbfMJrT6ckrp1\n",
       "/u1jfIzFYb99JBZkY/yIM/8G1lEaDuWd/HXExctEoKeXZX8vIpESYh8Pa4QyZVc6YDkEE/OO+xqA\n",
       "ZLo0uBFwiJc077isWqIDnTCqA3AQSnOWjB2XO59WTbJPt3Awbw0JJD9staSHFpxyQOad1KbNwkD0\n",
       "KGeIYIIhATGE8r34UUn3Slm0Tk5zSoPpET8PZEIJi5zh3IDEbwoeyZmUYhPssthviPyA2ZA3aB3S\n",
       "xChdtEkt7CoQuBRY0C0sdM6WufQbHdDG7kcmh+HZYoeoKuvcBC3sTjPJwTJnCVIBWZSTCBrJZNV0\n",
       "qRqt3QHc0ID8vAExXf8YphkDZ7hPFRARA5aS3p/CfzlsHFeflC0+unXz/iU1AtJy6t+U3xmN68Pi\n",
       "PBpfQKJFD7/SgWcoewBpabowz8ZCMGJqnPCAH5JfheUX7Egetog+XJ0Mfquz/1tG7txELlnhOBlF\n",
       "eZfubjmBh0ZciULTAX1+rsQ843/XWSmTbPHFyx2C5cigDYA5s95Kl+UJeiGbYjphkvonEeQqrP9M\n",
       "78ltETv9dadKZ3Pp6Hjzx+mgBkH5CX6XQVE/0p4ax9nDCeNlUCmF5jboPrUCjV+lwwYZyLXtyuuC\n",
       "FujNt0c3RrRqqyIZ26S0T05BdRhybym5nEx4p77upKcQc9R39zLGr5JMO+w7ZdizeiY0gD9txEsK\n",
       "yIuBQzKXZVbx2lOBXf6kB52ZMdiR4UxgD3uuXf3znVv+uGcvds9GgF4sWk5Eq68CAX8ThcckoPYZ\n",
       "0Bn3lX9D/UaAt6ena9P2/rFidLXJ88nNTnSy6SL8d5IfH6tIEch4P6YzJHshNCxMzKuvWMyIkDZC\n",
       "OT0BrmladDqEk+1Ii8UpYNZHm9CucUhBEPxJuyrh13AhTduhX/Kyx8KAXeU1D54AQc+RudUNOtGx\n",
       "1KNrGDIS4FDXSC2OM7J8AwzgmfJ83RI7a0c3i6T0GRkP2NA3s1jujpsvvqBifEH4POeQ+vw4wPaF\n",
       "EMWjK52SP4VObX0gBfsWmnW0blsq2MKc8MonevFLZ3kPxjwmgCoKo77zhkxZWbfxo16tWPM0+eGs\n",
       "7jogeomzlYNN0erOPPeEbBaoNEtsmsMwq2BrDMn3BJc8hQgUaHpX//x14BHUf5s0SvH4IXqGiVMo\n",
       "TjZayD6QyIdhPL3m7411iIkMnCheZsNdJ+E45cmP+0eCPhhx/+PdcgyfgmSfbXdjGQEu1loL5f3G\n",
       "53LC/w9EBk6ayHX7mLvbZ2BL0/3c6shBLujHNV1j09y60rU/in5mH8YUzWSYSUJdbYlyQgja6Tpr\n",
       "OlwcURgwyYK8ONYM4w18U2OK2O9NKZzvby/ebQHWgibmWPulIS3m0Wp1+seS3+rmylmabhs8L/5+\n",
       "PAgOAwidYK7nUHlTyDcasV1J+CccB1RwDhU5eKBnCubXYqXSfJTu9TuUzaHhl8EpAV8heRrSs644\n",
       "1l2B18YituBZnzvlO/oXoXtohMuMeRGoaKIB9j/tWttkUjvdsKSuDJzAcCFNcK5Rlt1hJf+OZqRC\n",
       "+GG+DCv7GbIEVZ1w5ovSnrc5NVfTve7s+jSPAi2Srj7EVd++VTJrM/gbtiD4wzVVJeopFzqZQxuR\n",
       "w+Awfdw/rh07sdLUA+GEDSetcrMLxj1NDQi6obCxRZ6wj71g6F2Wxk0R/Gi0xks+5eZFWOJE+4xJ\n",
       "XkMelxnIJfR6vGvLnR9r+FCyd+/+JdYuyfbEqA2swXtY+PDoH6KDgTACOzH7dt2X+kwwRn3lHsXu\n",
       "IPUykt2EmaoPeRzMVbwP9tfFLRQdxTZKaCbGsYcdDJEW8OkzahAYbWgeHDBxz2AfXS1hq+WcB8Jf\n",
       "JrsGcgzq+VkyMfVlMol/3lbCbX13jHZ9oNtPyt8QPEd7nHpjXrodyTRbNbSCwfFCChIcGEp/oa14\n",
       "02ctteqCL+Zl9MKoifs/1BA/Z0OUrVhY6efIzkCrLnXSNts5Jw29kQd5PMVfzn5MjPH3I9jwGk7P\n",
       "8zYmB1mFoCY8lJi+ACh8toEiJFCC8JnxXokLwidkjfaAaNcpWS8WfOMOhdjz4sXc2kHbWwR7q7VS\n",
       "/aPo+pAhc+EZty7k5NJtxMvckDcveWkQoCoQC5r/jO+exhaO701K1v2Qxhy7yNYujD7TSzbPkCd6\n",
       "L/3pKt2Vb8nvlP2FnRoUVysCFXGSRte7SpeHgvHomB4Hq+0RgSs//1Nev9A5cvS/VDCT4e4FEaMy\n",
       "H/mkxcZUI/qNvSgX0bZgR7gk404CHljvJbbMMXQQj40L+DfxZjiWCBseImaAu3kEw/wZWoxatMJp\n",
       "u74EM+TZd20E9VcDsn9tY9bs4VV5OIoFbn+v76G6+SIHv7krhWW4stq/P/pWtbjbMJa38PNxJLsh\n",
       "LfrZnBOwETH17efBhe6xVwvR2AW02nzlszx2NsoVqV7cSUpTvjdcieA7dS8z6J5R+lCVp1P+7o99\n",
       "bByNyNCeGR2XiB7hdLrVC02DFGoYSqyrMT2qddB5e4sGM7q3OUw5U2Gmy5iB+Tv5cNAI/yMCp4hy\n",
       "AjxF1BUAAAW4QZojbEE//rUqgCKNfTgAZLrOuX6+Xnafkt9/hd72i+l/ZuffnHd2rFjRNWYHW7Gx\n",
       "S8cXxGxqPTElmulrd9sjRovRZclOd935nZUEgboZssWHWDQ/fUd2Rof6isho9aySzJAZccyeAhHY\n",
       "z05pyvcH3nfvStc7Z6FZ45pClc/IqY9+gLoZ9Q06U+ItX9oU8ocf+MRwGY/XRJKh4R9adtygLeai\n",
       "2U2nsZhJSQGqOP2U0v5/0YwpCtK/rgRWXulJxFOCAzj5VenqTq6BNRsReP86O5lSA6a9a8h2+P1t\n",
       "L9VyyqJy57sOYG3QNCSy8b4N1X5LaOdq/CoBOrTdUGxLXQUVIVpTXy+wG+mlNICl7YyComVEdfkD\n",
       "hN/LXzFfS9LBNrXO84ryVQn3gjAiTPbPrvtircbQSES1nTX12AKwJbuOc0PjphsdH0XdNyMR+l2l\n",
       "nsQUBi/ZGK9tI0gwWUdvLTaA3GaZ+fI+H/tfh67HFPsAoXIuiZb83MSVslyz+1J5pHVkYznRG5UK\n",
       "9oPm+R+TD2Ki8MU659HFmjlCmrOIkiuBhOdVq2yCN4hy02/bxIxh1qcEFD4bGsHarGpsT3h8TbUu\n",
       "X7e8Rtp/d2lAm19Fmc2Kj0GQiSw5fb8RD73D60dqpG11WmbS8oMQjh5lncZYOAc6mM8sVd/Iryh7\n",
       "yucjA32lGgXsNprruJD0ylBst752tw7Hzb3mQlItBdq4iHwTIMoacrWNIpm1Y/uFuX9AwGW5dnWL\n",
       "ID2HrTDJZCM2vshYSD4XAKaz5mt3RGPDOo74dH6ST1nanbHQzdSlRzoyXLb+bXUTAb1Q4Li0OfC1\n",
       "SZpmMzRhemTrosb2F30U2kL/FkhLOjgYfxHw6Twd+Fx50yn+habp3eQcyuZ5wzHO42tPyfZfh45I\n",
       "b1FlhXXX/Mntbam5IdRZHg7C0AYJRRY8ZZZaWGJbvpj8vE7yWqIfwWZlnOH42AwrAt3h/foQaGht\n",
       "qcByx5HyRlfTCjK5i/u/tjue/eqqw5bXqeoAc52CvB+8NnqYlQVmbOGWz+8WoiIMnd+n81tdlKwp\n",
       "O8Ma2N4nweN3467+zA+8H0REFcFFR9dDb8iiGunbyRl9aoZ+A1hRL/UQLyavWoa2NzHuCwD3hKeH\n",
       "hcX2NzjHFTpgyVLPYCZ/mBRqbKEZiS0/B+p17rUhQiqbY3LnvfCc0glYTPazbtLvwf1h2gmjySVq\n",
       "VkaKsHgufKdo262a65NOpYoQDD+o+E6by0ZO5C3spxbN+nUBzIQ8cNtT4plAfUAB4CEYOtT0WMYK\n",
       "7A8DTtxDCfeloP7nIL7JHTW1XbRCDN7ySf2lF29zsCJohyGzMIwB1FDCO6QBvgSlknj3EA6sWwPD\n",
       "TaMetEYRvwiXNzc4DNSAktQGjO7c/V6/Rk1NmYYKMtLF62n6YmVr0IAIQgd+9rdSvBCGAsRQRNMV\n",
       "GYruc1ajM9XBhv4KgZwoVguxvrkh4GsvTpiCxIDWcyVdKDBZ2AB1j9bSYAXbeyvpHOzz75SvpdbD\n",
       "hYopstKoMMJzhBazST8Hz1Kd4hG9Zjhq3fUG131WqTQS8UKaVyTHnad17D2Te4a5hRrCONsyp9Un\n",
       "nq9YkkCyizdoRXQ4uK9OLlFWsgMOLWDrA1csijxEIgGN2Gw5mM0d+LPqqFFSlwfMU35B4K4Z/XsJ\n",
       "qKpACkFJQr8twUvaHdkIivFgg1WDhtcINAEt4XRVBy007mUjHJrxswaLr+RialbBDiZdrTgCyHh+\n",
       "gpCds5HzQZfmvxsnZQ5jScSL45wAPWsB0rlfbn2xqodcgPymKb8JSfWKHrvjBmkiW1bVVzeo0uwY\n",
       "siOKfXR1oBzcbdoz78ow2Zz3zFJOpC0CMR18lnsNB1FmAjSt+aIKzFF5Lr/doyz08fl+F4C/myy1\n",
       "B/Zc6p1+KS4QnSEk17Bckl3QD49XMh01rDceszS2MSDDXhNiDs15nV5CnUbPNIv4AAABK0GeQXiC\n",
       "HwAI6h8BvkrRkilkq3kRPBWQ5/kQdAgArvdknAtXGaaUpD7Q8UrQcq6ssg8z6KkqhN3WuE4bb7bC\n",
       "VdEERJpPXonAQYiHL0eMI96ki94Ya4Yn7MzTUl44Wd3PN9iosdKX2Aqz2wjj9hUXWxICxJMwsQV3\n",
       "MJOgqYPGwBj4Pl1/QYi/QfDc4KST3e+a/0I3O9RZ31cJ/5ssUvUFmBPCNeew0jTwLQ4YG9Jt2Q6N\n",
       "oosKD5enbSdNwpgQW4AAmRmCHpHX9Idht7B2+GwlxdWuGUkf+vT4EN4fxeJPgHxVRzdEUugspWrh\n",
       "4qmf62dpPdTA4z6Ulf6T6EcJMuEaUmde5NU7TIXnTVl8TUwE6OvkEorWoA36MroOhKPLOBeFEzWu\n",
       "3Vb0ll9D1m9hAAAArAGeYmpD/wAL7gEsOa/P1ABMbBlZxJ+eqFXlpCAW8T+WXXsGZw5acvIUifnV\n",
       "GNbn3nLRJX0lzPDAUYlRT8jMLa6CUTEzplLyX7qsD78dRrve82MIyLmfxVQc1UD3h0UTdyGprIww\n",
       "rb6p9OHPNnCqlF56kPWC7FNJhh0UbwLw8K6REnQv2A4KHgxxzO+MVSHOWOcsNKvwKOMtEUTiJkKC\n",
       "c1iJsB6W/RqJPqxAwuoAAATLQZpnSahBaJlMCCf//rUqgARHFEZflwAcynDxg3eTEllPyUdidju9\n",
       "3wv5BW/FumklVHlGeOmslWZtdsUNbF51FhYPkl7yD+eF6ADv+QMSMJGmatKCfPgBcj58tRNgIRi3\n",
       "n/V/91d0KK+GQLo50yIsI+pk5JwWlqXEO2P6yIawSmZgZ7vr+8zpjpPpxgc/ucTYvRcq/8vNUm0S\n",
       "eMZTpR5vVNeC3bk/xiCZ4U0H0JsasbN0Fc8yz/VWpfMQzjaKM1x6ahtHATWSFmWkW0BW52lM3hYR\n",
       "RiJ1D45vuYqwSrAqBri40kKh+9rB4R1CJi1Ri6aEqIb/Jmp6d/fy9grI6VxR+RC1mhOIW5s/PVGm\n",
       "kY0g9bAmQeL2JI5cGuLVT0lkwy84H8MG6IUvJs7GhfWz6xZZitxvDq70EWyE5+s8ieh9jf+Lyb3G\n",
       "8x5pIdhwkvsq8fLVdjD8FF/YX5WoertK6tOiWdE98QoOFDQ9gdQbpTeuawODGABIA1QKSfdvy7LQ\n",
       "Nd+MfAcbY5D+fuMixlTn7kk1mK8zG+PwnQjq21oQjMLLrLdL4FZfcvSe/Zm1HVV80tZQvfta7atg\n",
       "Ctv4Zj3feKT1GOi6KF5mPkraegkJWZyTYWGdNzzW6pJMknk6TwrGYDvlrINRGhMDEzb9QUNvOuE3\n",
       "n+2jyue2UYpEoxvkzY/Id9TXnb8BDvUjAy3G2Yd+cnvBZHPKDCeyaI+OXYN30Eg5Rro72ubIIPgr\n",
       "s6UBW/3Y2vPILXETGPui8Ii/ePtczyh5ZEdQL0mHRlB5lk10d/ojrny9B5HIi5wA0TctH7IYZ0Pq\n",
       "5ytjFt9uWezxSur2RwNyPBEuZuiRlgxHNLlJnJ4G+QrKeuELSAlfIGRhp8JjRRvdwJUNDyzTsvRk\n",
       "wnexCU3U4/g7V4snxuusnu737kvGQ+unarrQ+3OZd5C4rUoh6EKpO2g35Og0r/zapyMFPEROI2mW\n",
       "yCGoR7pU8upRp/ePz37eDOQAOGJBMMn2k8+ra+Tvkem3e+J5om6GfhUNb1EbepIX7naDpEAmiYvU\n",
       "ebi1RqIFbVNYGDdvuEpW+n2L93swhboRYtp2NMc67R+lha6NNWzAE5a7uPnMbKHaCzPGfuY5QPCj\n",
       "Q5LUtc5aSY3tlDaGfCXEu4NyKHDHsrJ0EDtCknqpSc31HV6LlIUyEEaootklH/Ukr9kzVqEhL+4z\n",
       "u8WVwCw+S9+Amobl7wXOD0zaGS1m3yGMYM+6fDhkR2daoOOU+KhoCjjDvfQfzWEmDLbkOgOKcc/V\n",
       "b7ruKGLVwbZOa37WTXHmXt4VAiuf+sfMeauvDCfoUwwAkDzPhJ+E5lSSU3EPI7PjrNskqsLYppAM\n",
       "JrTq1+B5ue6mVCO/pAwQ7ZaNumNwBJmKa/zEKi2rTSNA6wrPLlSdh5YUhcoFccdbHa6GeRaARFis\n",
       "cFTRHnWJAWlnFXClW/VBE361XhgcVOCGiu8Re/ly+GkcQp3DcRYUG/f00/+5cPhhYZz6z0JckfPj\n",
       "x5NWb3OdBxk/pfJIWgif+Px88vTaHiUaL24OJfodwm0nbiRJ1KxTIJMvVlgcRqjnAWTvjKd99VAW\n",
       "mBxO7Y+TQgOuxR/hHKNWhdHXG486aWsNH/LQHfmPCW70nsDORktzPBKNE3IJgULRAAAA50GehUUR\n",
       "LBD/AAViEb3lKNIjo0ACt4XwJWNZTA2vwpKwk6Kb+4B/BTOm/zD/RUgEFXwiPTICBu2VgZ3rPyJG\n",
       "7dxW5EKgjL4e/gTx6J1nr7f8XTlLuxJodLmxZO/jd1tkZj0DnLuvWmGXb4zzHjsp03XRo6ge+xKT\n",
       "Z3gOAuZB7+BETriJw0CKJUFDkDwolncK6qJTpxnJ8BbkM5sCUqF0YeKkFt9LxzJTMZWQMmsSdQa8\n",
       "naC9GWW8NP5x/TbS9fEfmoDfL7s8yA+GDeRNy0hKerEUpXqeWg4yhNqf7FbYed3xH80h5C86aQAA\n",
       "AKIBnqR0Q/8AC+dFgWW7/ihAQyEAEoTbjgLILWIckcFij/pLvsnjG4duWDruig9GC+ooRLrqVJvT\n",
       "wjQWeEz+YsLZ0ugJq7vv9Ouh3EmyX55wjHOdF8LdBDHofq0l7Rm89K3KsY8p/rHUir3tUBYfJq3h\n",
       "UzlGP9dQXGj1HKLI4DvUZuaynsrLQv9wR6ynsLpBViyLuLK8FkorWifAMnxJQ89EW88AAABqAZ6m\n",
       "akP/AAvuGCqmBdQASp6M8Xgl98tf4DpR+wVNzgVG+79aNTyUHNmBH40aAt5vce0DcmyvLJME0e3s\n",
       "t2xOV+gVIf8MHIQkzuRnfJvnAfQ4tdnA4qF1r283NRyLSuFUxLiXvBQNL8hTpwAAA5hBmqlJqEFs\n",
       "mUwUTBT//taMsAEZNBrqDjDsAR9XmqA06V74rZMYgeCaF2PD1v1Hvoz3/Jur4LEtjQWEkn+tEQya\n",
       "03kXnHuTIzwqYvzT42FiOaKx9ACyW8yeTmBgeFCOHZXL042P0h6hUlJJWjg12YN4CwN4jD1AtHUp\n",
       "y2wUA+Ph66ZOQ6J+PO0GAWHSo7wUnqH7T09MqLrkCJSphmX7D5tn9sA5sMrxeKG6mRUhZd557PfO\n",
       "5maIktKwxGjyxZYWo+JbVMDrfCfqWrMWmKsvEoD2FdiGVmty94zyxDf+nWEpl1LgRuKPZ9SJNnr1\n",
       "3ogsHXuScHIJNOtLcxqs8BcThlaDYJRFfmpjaWkDBcYPhxO31Sou/5K7et0dek6pquoYvusEiaUZ\n",
       "RKYxBXLLgkiV1f3pZGSLyVnnf706u5JX5MP8BbOgMQUCpSwPtz+bsk6NF0VFat/zLMNWeKzJwiMm\n",
       "lpXo1nbtzQBmFXvUKFPNZNxmBf5e1d06/322MGuGfbxZbDtulZfDa9mdT0a+vUBL5uqS9As6Zg52\n",
       "c0UeERaYaQjZf3vZSIduHXqRtCZu9sLoYQRqbcEF8OiUCR6itUugWvAoUpI8xqStkXu3GFF72CTJ\n",
       "6tSqflMwLTtkkMejD3upWysw/AnZ0jk0yVUmRx73EheCD7QyF6LVj10QdRHPCGv5/8J29GVRHMpm\n",
       "vaN8XWnhjqMUMVwuzQbJwEDTyZXHKUZlYNPwrDFtits8go+AnaR2ScQ+zfRBgCYXhg/w4U7B8bA5\n",
       "wwMe9ZVz8l8Oqu3A2yH0ys5+FCnCF+vZEEGT7hnZIpjBmJq1ualuKAEH9PkgSAYTkvVzLzAPcuvS\n",
       "mVatXGG3Me0o1XHJq8bRnOhLIfiOXJ9OUmn7RmLMig/x+1AKUBXI6V87kVTjtFgJx0AEngRz6H4J\n",
       "xBPO7GCEz80dwprds2V64uH7MLbR0tRG4Ioce/YIj0wyc8VZNf6KS0ri1tPu17NAogsIzbg2Cspr\n",
       "h/WJx6Y/8NUtkysifvUlQUQp4Pm0zceOz5ImN2gj/m6cyyi04iX6K1ZDb+99DRbxLltyqUPCAssN\n",
       "PXZ8ihwkPjbnKtfjJ/rv9rt2Ebi4dVOUxRpvQInVFN1MsNhd5oYh5ccDHoGSe98IE95ZhZ9yeDeB\n",
       "Q026fJoSnJc7tg/dczSvOLN3OY90ykXuYzByAtJ3EcPi9bJly8q41i26vmKRXIm32MvZs8e/f6zQ\n",
       "kAAAAIMBnshqQ/8AC+9t54dKvI4i8IxHG2AEjz9puPsXWshKv1/xdyNnwDXvsuapRDVkl//bFtnO\n",
       "p1YiihnHwWDJSXmvJii86KWuZ8b+JJslDIh0ZQ2+NO5Qa/CZS15kEXqqwnbCg6iXHda15LPZuDW/\n",
       "XQFbW66q9uZ28ZLJsBTcMDihZbGBWAAABHNBms1J4QpSZTAgp//+1oywARh68CEABYjjAqWAgGkq\n",
       "jsm7DIEo2rSyeU9BcLSVguB2SD+13vbjrEeDOoxTdZsrHaZCjLmLCcW/g/wX7oFbNkozMc+K/Ep0\n",
       "0lbRQW25fovM8mlLdwCE1PqLYtu90Txw6DXdzjmanjIzUGFMMnUOB0JjCnUjEOPy89uSv0D/xTwr\n",
       "wCl0X7LWu9f35eDGXWbRnIJ9w0sQAfbRuXpG+j9d2869wLXW4adg5BBFLpPSyVvkuuKXkHXUgezB\n",
       "NyUdfws0Axni5ELIle8TzOvlSFPcj5Rl2g4Knmauu76PP2ff5WyL9iQZUQ6uxCqjG966fdPwD2vU\n",
       "HZfX+UdjXpCRXs4oZSMkW+8in+dZY4MiFMhuVMzgyxnIu12Lsqa2tMfJz1qIDqXhu5bwzW5AY8xx\n",
       "e5qSwAvWrysg6n+FzIWRYdFiGgo29SN8ZDgzO7aPkM6SNWvUjcl44fooRT1jQl5Fkiw9Me88LxhS\n",
       "80sAP7xz3sIE93Ap8RqG9zo77a1GdsWGQ43SxKMAlFuwDRIlBr8Gz8z2T8zCX/jRoYMkGHhxBp06\n",
       "J3eYoBAuZjBCHAubT2CUEArdfrpeaomTCYWSL5ofDxuDCkM9YabU09OPd0J8XSDmtOXrSfn8I1YY\n",
       "NspkFmzmJUFAh1Aaie0zN/QsfJpLW/im2cK7DVDrtmWA09l/DMubL67cVsol0LltwCjg10GtsAOF\n",
       "+CpdXkLJsW1Zv1wCWKJBL/Ld3rO7oLuh3LZLLmn2wMGwG/SSAxnMeeSb3mwXvV87cVP8evvRDv9M\n",
       "KLE/Gh29wz4Zsd5f6ood/hNae6BS1y4Z2cfxvGteBqppy6YsGX7eSdCrKpPdwmZp77mPwSPzx3AJ\n",
       "WvwXWKcdasZjcPuQEx3XBfh+6xNW9Qsr1eE00+0r0e34V1UHp247TdKo2Pu8f5BEdSVTKDfwkiIv\n",
       "2gNdj90vsRwnBBFMwuxy4ReD3ujvYAl1qKH8vbOPHbfz1GzPj8qRGJE0LuAdL7oHtPmCh5KBXJUB\n",
       "c0Rx1/rRHmUGdCmh4SSImY5JXrv+LNaZdKVQLz2jfAJRn7F0gC9TrHKf9FsK/DH3xIf+0hYLu82y\n",
       "AUfHZNZwp5uC+C9zVPPMC9mwUM8CB8I4+njmA1flw1hSRMbJoPaZG7pdJlCwWzCYXragzp7+tVoD\n",
       "x973BhRqUnZ+/VEYZ6O9VY0JuSqkoB9rg9qRJTDz0NVKD0n9Ojfl9t698AnqCYpuURLtLmDwVyl+\n",
       "cu6NAu6aTXT+PGKvLDBMyM3x0oNmdStPmv57GjAh3wrOKqafkttaqRBLhYpgXdef/a5qotX6Enez\n",
       "InDZWl+igM3hb9kKS/lY/NM+UA+fpkFf80eakZrGLzV/GNaJXMQHHqTgO8qyXrPh07gdNCY1dIDP\n",
       "cJOBIItcQI1xfs0+fWuKzbzzdCRQZFHn2BclMC61LyI0io/WOH/1x6w2T5IzS0kcjeZ0yMmq7orb\n",
       "EGQwjKX4zcnWoT/6G7NaAsoho/0BIA9j4QAAAMFBnutFNEwQ/wAFY19dN86lACMKP3pESdCO7SyQ\n",
       "ppa4VyoWWA5sSaL/VPhl++zM2fStkuCS1Y7CPWZFxhYatiQ11KHuf+Ej5KHwERhPycT7cYF4HvUd\n",
       "x8fn0DgUsv0Fy2+r7A6ZuE1naQOABBMR/5nXbSvBKEApoRdx73kJbkQhi1tj8Yj5NUN8zitED3+g\n",
       "IPiFtsnyBJr5nhIcuSTO1QVd6Zkf5AmxunaskuXBLD676PQKYN47P2EoWMtGrIm4YA8EAAAAkQGf\n",
       "CnRD/wAL78mwTYARionaCdmaVQmsWoG1jZWJb8nNnPbMngqxZ9Z28Tbd6X+9JDtkr7hW20PfnkB6\n",
       "e6lw3cDqexIB/s3fKVyoJywB/MyYeteUjV+hZNP9tpezw7PR6MZ8vDWtr6qanQHwFRs/Y7PGOjT/\n",
       "13aJIvfNX2ACO87FwgPpFk2sfXGIcoLIw//ZfHAAAABcAZ8MakP/AAvuIyIthbqCgCjPACql0roB\n",
       "ypbPDaK7outSVPN0wWWOa5NncWyKBQUfBoXUrn9Jlv7I+ZIHsK+UUk46QbGW09UgwueIb4UDAQtR\n",
       "/lIvrJg71PP3vwMAAARUQZsRSahBaJlMCCn//taMsAEgSdI6nuPgpFV0AEYrXWcq2ilwQPXeNzNw\n",
       "gn3S72PzUiowLCBiv5b3Ez3UDoaVBN7J6m7CRu5O5ye4vCgLnKv7altvAu9N6HRqj191cjDgteby\n",
       "TJGN4rx83Y7vu21OnKwq0Mrf2vxXMF0CdI12H+g1lZJabXxT1MZcSuUT4orNxQKAeF/dB7K3O8sn\n",
       "C+RxYlRQWoWHIDXIZfAr8jyU30YQWw6OXncuKY+bGdbX6tepvTs4kp/0D5a7fFTo+A5tQKByq7AY\n",
       "5s/gGVaYNK7Tt68BFsNhT5D2nL7ZiiFCVPpXwo4Zt1AfhP1SbFKay3dxX47Cn79okRJZwNiG8ZdY\n",
       "110PynrnFPKKdRxCFn8ba6Ee+eaF7qe+anDkT+IT+rjAoy+072BOwzMHwLMiNJRYIyaBaR5mz2iD\n",
       "TMi0ReBOK89mEpE3hf4EReN4fUi7/tstiDLPxy63CyZC7AZCRG9NANb0Uas5SaKvOXBqKu4LMx5g\n",
       "XRdo26nmUvMkLafoiLwip+Rspwn62vQl+ktSyo+Q8Z10Rg+XPT/rL2ObP0BBPPedbbILZ6Kl+dFA\n",
       "vFBJrJXDlFuKnVRp2k9Kkc8Dk43jRiMjCgUy/6MajL63cYyScD6MafOV+02/8fn2G8P0eS5Ezodb\n",
       "nma7suY31cMfy0OdxtW47jfc8XUSFbr0nwACT24ofKwd1BZDdGBcNnT1dRJByuIpl68CmNOpHN2d\n",
       "tsPdG4hbgZp6ekO07ssaOVtKTLbS30ImfGnoAHXNvMSaSzuD6J1d0hqwCTXJIo4FAYg0v8Tykze5\n",
       "m4Toau9nbardmenH2Bi29ZP8VKb8U4Q54U5xmoZbjeBX5dCRvLgRQDRbODEbAHOvPAaHwxqEDYEg\n",
       "vmQcR5uLKyFV3QdUmiKWWJvlJfUbdieNU+kWi+PP8lxGPu2669xolNN3M1c+PxzRQWi1OYRlQH1P\n",
       "DGJfzg1fJokxFxX5cAsyWbrlPoNktEko9laZCPKmtI5WR6RxQQEAEkAQSsRakR/1cQga8BdL4JfE\n",
       "itwWqv/0B3AB+Ve38UO+0nmtWfV+/S5B/7uVblUxysGKuaTIp5lbXTB9rSElf3VfpgQIwGGtCYP8\n",
       "kYgHxdkAtDi4BmEDwurQwn+T3xFt8xfEPKSqxjgKOTU6l9p0dYRRSy4KyaHRuUM+eOZ/0wa+ASG2\n",
       "Gl9AO8X8zif/FzaDm4GDShOp44I3upAU8ls2wB0MFO8db5+fvQSZ7xDGMGoO14/vINrBZQflR81G\n",
       "v3hWUROOwCO4YwFEtaCNidmFURgA7yXhdQiMKZYV1euq7EWTzeEGsLxf/niQtYo9yASrOOANDiBY\n",
       "56O6gAlRi12je48t9XOD8yybNUTOJnkp8WUTUc4NsrCASPcoKD8MNxXapljbNEF4nfI0Sp1FtbDa\n",
       "VHmv2PBj+9awCDDAnXM3txoCzvCSl/8e5rpJDUgJ6KYnR5pkAQ0wgQAAAJZBny9FESwQ/wAFd3BX\n",
       "N9g4xb8mUcY+gBGZtSKUzAaUmmGeKwsCK/d8uPUqYBYqbjGr5huNb6T13aadejj3aEoDlvahpTGM\n",
       "mF8X0/eKVgsw6DT0CNQ13X2YWDLGRPi+6klSdxlKUwewsNsb12iCUXRw43Gxlj03KHI3DSUUU1hu\n",
       "rHCd4fnW7PT4uWHu0/hdEZmSnoqhoV8AAABQAZ9OdEP/AAvvnGq8qW3N/YLweAEYT9oVOkovTf7Q\n",
       "LPUzwlAZfaZOf/IjlhtVJjaa3xU3TJLYNqfxji/fcMm7VImYgHmOmu+DuJ284WJew4AAAABfAZ9Q\n",
       "akP/AAvuF2VtgBGS/rjX9vsllmf1+UHRuGTQOzJBe1aHZqF1X9bhyEtDTv2JIdEtQKv8zNsLsuoF\n",
       "xYZqJRrOgw+JnB5fJkje0DaOer/TmrYVOqFXgvIGU50haOAAAAOrQZtVSahBbJlMCCn//taMsAIg\n",
       "959NAP/fg0m+g+FXX+jWPZJcTbOxSXxCnW3yQVyUdyBjEw8yXFPJ3/lMgg7XIO4u1bywoDlb3qV2\n",
       "wUs5koqOHyXokWmu1x/uE5XDZEBIgdUr4Tw2Eca5OQ48zgdIA3GUHV2UN2tumUzAPZwx/X+3MhKV\n",
       "nfO2jR2PA7oaxX0FsfznttmjHTmznXwB5kx7t4ZUxV9w9BGPXcuZOafb+sBlUj/dKQznfeWVYgsO\n",
       "gtc8zcvJUl6QRP7XEIOFlzCe1Qpqm1T0L+cJ0ruzELkkT4D6uTrI37pVw09AuPCb83KCuWWokh5Z\n",
       "4kNM7XyDkDXuCy82T68YhKGxslYtVRxU+BIRIadFjnlk9GlYmUnkal/9cEolTwswUGTuFn/xo5sw\n",
       "QqbUFFqS4TSI6irZvpYwCg0fZLQqIHq6n6oUkSshtoS4Lld/5d+XkXzo/fUAMaQlNKSNhfVrZABp\n",
       "8VK6MxFUlw8kAxA18dKDwg2B8Ey1CHxixrulNUxN41PSNpp7Xv18fXO1iXZdX7+M8NEgHp75M7Dq\n",
       "fEcMyHIEdeqZkebMSRdzpRf2fAgoxIIZY6dWvz/3j0siJWLJPJDDCc53QB3KsMCIJ6Ob4L0h4stJ\n",
       "It2cYQXKlE+FpQ2jdnjDiP8hm4rhZn46AeN9VcviQp0bOlwUV1pHU8eJO++Jeft/M89b4XclbGED\n",
       "1V3XVg95yNBJnzvA4PiNNEN0C9L2yNNbnTw0DZRLyCTcW+AiPlCGek2yPmkWHgSo+B5pWjuogxrA\n",
       "wO/+e86jvY0URV49v7MWstXnI0YCZpAGeTQr4FGaJtXa+CKVo6dgLrVEHJMFnaCi9hXCijRp0vHs\n",
       "RlYCFai130wOAhyL7POzo4/P9ar/0qbs3q2C07w8FMdsijqv3inASpVtcQksOyx3TUqnX0/8XZDB\n",
       "68hB9/tR/pk25CQtLmQqFJVZ3QpTbKhhQZrMvRREU1tZ9pCH2PkZ+0el9sXj2MCPbYMZGs1SPGJt\n",
       "U1de/EsP4R8YGAgE1Tw+YftzHQC2MPlFXbFAKGlFvPGzLUVpfktG8UO8IDv8miV7Zj/+ya7/2oYM\n",
       "aUpm6XOwkdpUFRS2YIanL6/H0/WLsPwCEduLx/KCjecKyACdqFce4la8ysLcZE1DHGbHNaABBblZ\n",
       "abcqzig0rjv5ziUDj5GWJNJvO4QTHx6WmLz0E4sn2yS/durXwenpht9H8gRA4xxg28dnj7ztdvka\n",
       "wHkoBlqyVoWPAAAAuUGfc0UVLBD/AAqAvfARHlXYAVTtg3nm6ymrue0CoPfbn+Si2RWCd00ocwaa\n",
       "m/R7smcQXXvcX0tCLKP0jHUv3IRPTU9K909Khc0FRrb+Z5GHZBuRsPY9BmDk2cXIWVRMopiY27Ws\n",
       "JSjbGrxvdMMsEhVj9BYiJoTdlP5VUxfkeb5GjovrNrKnPYF0PfX+YGSFmHiD4OE2ZzYnx4DBOW8W\n",
       "jGzfDAr/b9Yv2H6E4U9ylVB+FgNCurQ4xxeAAAAAPwGfknRD/wAMj/9zuFwTgsQAjF2IFCrHKNhM\n",
       "vbK1QD2pEBh2FcAnjJQVt9uP5PPAoWPdfSrQY+97twScoPB9rAAAACcBn5RqQ/8ADI5qwMaAAvDa\n",
       "v1v2uzjTi7rM7wbcRZFRc5+SIY1fB+EAAANqQZuZSahBbJlMCCn//taMsAIjNDgGSABzjbl7c9aM\n",
       "tt/FdmNoKhRnGk4ZElpfnr8E4FXC+jqDwq898byBTPKy2GCwmr20DWQO6QlD44M5wxAQ+MhCMHHS\n",
       "B2p0j/4A9ns1g0OgldFZpmO/lKwEQL3/6lWw+uXvdZl84muwHi/nQfdvy1Q4rjMiXzk8/KGO9j4y\n",
       "LVdVSWk3bGFznC3JskXgQtKcxcw7DmxCO+SPJhAEN+5XVPA4wyKFYbBL+TigKu6L53qVEJsSf2Xo\n",
       "SG74V41NQ0+1nK7x5UFaNtDdE1VR+Pv+mFXFJIdlW5rZmTfKuhrFXa2cmn6C+/LztM4aOPRS5WIJ\n",
       "Pxbuk5lyy/aSZ4ze5Xcsx/buyG+yc/+zmaHe8zV0rhmyxCHneRkJSR7DSM+TE2RgZMdcfHDTlkQu\n",
       "LQpHUGnELxBIA+cPll9cE7cYhwWzqlB5wg7xcoalui1grg5yUm2vRys0tzd0AzlsEGNyWD6JgN38\n",
       "3BpuiYTNLwK85Lw7MlQ86R9kXH5WjnkI0HVUKMNEd2EmDoVmpbTXHwBJYrtSJRpBVNFRwlHTOerM\n",
       "GDGTi1tooIovLMIjAZtvcyHeXIOX0rid4PbWclV1mh9RuzpDxDxspIoGwLS9CcFw+r9Ig+RooKpY\n",
       "TLUrMUbZfsaADZ4a1+oRPtyEAIZZuCDBGgONk3a2GUuI5W04mY8SISFRwjz6kFznRIumd9ozl+dx\n",
       "Ran0TG5O8UtyPkwcCmNI0QygXgRNLg2UKDrSxlPTkXTtul4C9j9ZReAUbVCgHpQ2+XlH/QBcDEiM\n",
       "7lC1a4PKgwScGQKyT3HoGOqeVOmEK3XGMeLukmjGPJZi0QCYfzk4q0u7yM6nKBQcnkSAN0YKTuE6\n",
       "QTd0KkbFpqofIJMNDNYoT+l5TC/1Jp7zN88YKQ6xUwsUsME91tJXBJg2+JwXE6uFOK1V9t29pUft\n",
       "Ahl875gfzU7P3p1645nPmeBskL+9UAf5Lfl7eBzX9TJ7KflteL7KP0bskys2AxEBvocvaf3zFtxr\n",
       "xtWWIobHOloxEkx/knYKUINe5wTV9bu9HwToEUQJhOaaMjkb+adkFg3ARNr4uOeAnQZ0I+1yjl9c\n",
       "rgypRj5xhaO+cKreMdQWvhyW/fipaUXKjsjr2sk44bmudmsZnizBcXPHgApcwAAAAJFBn7dFFSwQ\n",
       "/wAKgFFik46ZCoo0CgLhZYLKS5OAFeqxCCmzHitBJbrZulbrQng6CXedfpg3rwbxe5YPnVovE4mD\n",
       "X5X8FBKQ4tFctyWcLBeSJYgLZkLv6F4BjKjSDaV+JjzdIX3urv+EwDnGP7Lz2LDXkBscDTyPl/6X\n",
       "1jW4DZARFMT2Wg7Gzw0AFMVMUvpgZCy5AAAAHwGf1nRD/wAL7TU0SzPbGhiIwSqrDqJfmIWBJzW1\n",
       "2nEAAAAkAZ/YakP/AAvwVoqwGe3mhpovjutiI8SSHe/vWQXR+BEqRRaFAAAC6UGb3UmoQWyZTAgp\n",
       "//7WjLACMOOGB1DEZbDXcifua6BHVbmeSFptnuT2sU5HlDtAc7KyG/FS9XqKm4z311vdO9HGIXHS\n",
       "0Jr/JWsR4jHwSPVovpfVNbkhXEFSxqOL1RyCfQzk8iFpZ6OSqjQ186eoZ6hXPx2jlVlb9dJ9cIPs\n",
       "dYIMqmFUaTkCrwPcUEzsQzbZy+dPwmfAvacN2NRm6yNT7YFl8HzGkz9gyS80rjp7HqA5jJ35aX0p\n",
       "H+1NYYaAKwU1SEgLQpUGa5OZaLEcMWQ90SCv0c9K9irXoHUo48u8Bf6pUvcQYpIA1K0s1h6F3k58\n",
       "KkgZgaE28VcD9Q4B79551X3EfVQ5BTGIJZxk7z08kdQOtJrApswNjoyXJKQK0QHUKfnOp7lwSp49\n",
       "EfVMVoDFVjoNEfYDdPpC5pmlDB+AsygLTJqQXKzvLBTy1urtJTi3HAbGi/XJzwWy3clWqF0II3VD\n",
       "nhQ+AG8BqPW/5wj219sWArCDsw2i15x+gH7ISL9C+vGByHQhHHC/8sygawOVlCdK3K2LR10R2vyN\n",
       "xom7itqjKUO5CMZtG9qeLJ1rrBYXP70J8ONe1zdB6gvG6QvaWjTDDkjaIdxvBQ/bzhsUB5le6GCL\n",
       "9afMMK5y6k30dkcJWzLCJw0/jny4CAdZPAPsxIqyUkJ+SiRU/nOpboWxhnD1p2niNgLBnvbC17FS\n",
       "mp7Ne+A2CtB+DGALGL0EMPdCC5+WK3Jeh8bODDWGIaj2Zk29yvFMSPdZfWtWruWhvvHIh2WXFQ0a\n",
       "6eLTFdFoNuA4RkrgF4HM/kEOgxuVuCed0+cXvroCJIAwbjI9CbDWaLKxL+g1KQnQWzllZ6laGwU+\n",
       "HEZwFkhjJB8ICRKEWlDqCaG9YZAubLa6YSdBNIO+AtVdlyWdSXTjwVJTO/W6hXw5Zg21uYqxNLGq\n",
       "qyFSBb1EgrbVx62XgjcRXfilPsH5sTgGc/+l3kFSjEnTl40mrFFH6lFZxmHRgmcKppkAAACCQZ/7\n",
       "RRUsEP8ACoBRYpulw+51hWAFVVPAlChrP/t05VP9F45hPxCaNEEBvtFpLQiZQ+xZl3fLL7qhDn4Y\n",
       "kzTxMIZAVV35tC2u4uqhKHmKGzqEPqU0gGX9g4tSMeqzKsvcOFXDVJTf71DlyUQTA8pJ98DVJzFk\n",
       "LhVQiRIKDX+oiER6wAAAACYBnhp0Q/8ADI/+KhGrsBmJx6NWR5wB9FF7aWdL4AcInKJQPOPk8QAA\n",
       "ACQBnhxqQ/8ADI5qwtipr7DOYOQ1pj6tCoh+JUARCRMKuOImPUEAAAL8QZoBSahBbJlMCCf//rUq\n",
       "gAiP90ja7DSGTEQrHI2BPVQwyk2kBQIlP45Z4vI4fOfkWmaNbovPUc1cmneetrxolzIMVY7OA/UW\n",
       "W8cdtQqRZtlnBdw+nypgR4nBn/Nz7kDENhDQdu7SZTEJexx7yuAUXJySdVaCgYYOqtkFPySsFand\n",
       "FP5KZ5owTG/KjtRfwCKfbeU7KM8bkV19JF9z8GYuFVjt474/atRWX0rFBxGw8pl0Lf8zs2wL4hLC\n",
       "Ff9bofb1rCuht3eol42WTJE5ZXe+cFC56umrE1KjHo4nZHPNrYqno96QqLiYT/emkZztAq6JrDdA\n",
       "ZSgfb3He5Fy88G8cKHoT3hJXfmD9L3f7E+RmPYDmcm8TIv+r0GkVGWWJZtuiK15eJOBvnBIS6b04\n",
       "JvKamvs0CYZHAxrXF+x8GRVmwLqbyiivF3bNxH8j1NUldlLkFfAM96J0pTKUgxfiGSMdp7uipZz1\n",
       "nsIGaVw3DFI89yF4zqTxnvkZN2xj1OC2irC/sK30k/4OFS+vgHtcWcI6G6/X1UHhGufwcr3F050G\n",
       "fuI+i8zpVuxALOH+9SSFPRiZZO9tH0OgVoE1IGM2SRCqBQpEAuwBq+6hn0fTRwkW4v4LriciAnXJ\n",
       "7Vg90d6P2+q1liB0oVy/OkW9f8iKJWkoD6EMKPb0x5eeTlrGIZVOq5ILQjQSdsEFOIL2BxrK5U/G\n",
       "/5nacJRJvLwZz87kDbRfndSOMu8lzV1mji4UpaDrKoLQxL9FJzvHnDAiwAHW9TpFHxXiu7YzwCBK\n",
       "95L5bUOR1VWNRDnsyGI72NTbSicxdsbe0cGfoU3Uu1keEYqN/SbvsQBmS//IZDpIHbmdzLX6cbPx\n",
       "SzNvYvo8rIz8hQhWf7Emlit4GTIkb8rF/5JQfY3cCUjNaXjB5xXxA2B2HLov++64DmpZX9/nIPu6\n",
       "3lTiC+7o1G1Qsm5GYn5HHN5t2l74l3C9+62SG9GJ6wL5GFhCzGxDMG3WWt/KStXOQH3epVhAVtaq\n",
       "c77Ipj08IaAAAABSQZ4/RRUsEP8ACoA3cAAC5oz9QJMD7Oy6SX/I4RNDXbEyaeDh/wKOdY88UWW9\n",
       "RNb7gQRvqeSHD3XFLArjAwYLj5RcZysFtDZJa7YQpcKAYhe8gAAAAB0Bnl50Q/8AAyPJQTl7Ygkr\n",
       "AN6tWzTsARCNSFmKHwAAABYBnkBqQ/8AADidkBwEaz/PJQOKpfMCAAACe0GaRUmoQWyZTAgn//61\n",
       "KoAIg2QqpO0fyouMXat7DZmpWoJPLwWeoi5eARPwYsM/fKTJDJdu7IjWCac+CcF5N0ooSMkpMHFa\n",
       "iF9W6ozz6yG22N5IHmQoRYIm61daoNtSH5BXQAAW+72pW5WTeTtdv4ainrBkhbSY5a6B+LA3yX7O\n",
       "GpyDrzD1OASjsVqTpfFJTbTUTsjwCmn3K/mozcobad1s9+JeE8oNFI+0D0y7SRz3DIz2MtPcXol/\n",
       "Y54j0ZUCJaq+AWJNowqBwI10t+CCsRHTLLkDo1bYHsY2Xu6JCUN9J9NmRUyAA6uAB5kyXnD3xRC+\n",
       "8TUcLKOLNpooDpUJFeid/T49QHav/0BzzXdtjlpGQIat47a0MmvpnB/mCIjlBek01HWhYeWUgnXa\n",
       "ER6Nj4CzmcjQFwwvR+apOqdjk3RmJR8OkDgo9xgZBHNxrwV7StZW9Yiakcy44E/U+u/sDWjoJdJz\n",
       "RfFdi1LNeLMGFwMu4qgJbK4HjNkQQ02egycAZkNxZK9ZKMeqNcu0rsDCchuYiYtSgVDbKaOsUUgO\n",
       "cal41TuBuJtl1KLcCieBWQFqIjZcjNjreuCddHx+AXuZ7+B5Wok1LwjLjm7Gby5GK7bLyDKVSAup\n",
       "j/+yt9fejtWYtba5giVSfSOzRTfEKQb5pX+yddJlRMuoGBmzkm4yUhZhFAojki4P8B572JXNW2oP\n",
       "ZcoToLK2SG/STL3vXU4X5sJBIFjrHUKYyhNhvGHTlC/e3W4LjO+uIkr+CO8+H03ckajFB6TZnJsH\n",
       "qaMNGSBblfMmMFM5edFEAss+fN34puYEFhi67h66h8/0gC//94kXjW6qsnnlFJJE4ORBAAAAPEGe\n",
       "Y0UVLBD/AArIV2ZDpgBZuR3Czw3dKWEcfBIupY7uRV4Y3Ef7lSSO7YZ3hOC7dq9M5FySlB+aK5G3\n",
       "gAAAABcBnoJ0Q/8AADiV8iqpJP9pmwAIYy3XHQAAABsBnoRqQ/8AADidkBwEa2BC0tO8hMX226BE\n",
       "/+EAAAHoQZqJSahBbJlMCCf//rUqgAiDZCqgGhA4KjdfKXpZ6SMrPn5FNqP9bQQLcblSE31253xI\n",
       "cL23dbxvlVfYQowDojgBIJz/SqRkWmQ+qcjFLZ6FihefBAEAsno+3bGzYAYB3coGdOXMGeDfrkAY\n",
       "B9QV8h9Jp0wZCUVmxU213HM/ZVSGkozGftP1ChAVaj1dvSZzPqQhqDiSCgsUUrFdZDlPHBP9imvT\n",
       "gw6b5HiU5aDb4n2ebQU3imfy5yZmPpgyO4Y2xHINR6K82M+lUWyR/uUD0Y+aAq3azsYsuyxGP+Ar\n",
       "2O2I/zebZLKfyaV8AKKH77z/eGpj58Yvt8BrH2JUBaa7wc5b+JLxVbnmqiZOPnPq+inBEmW1ntJQ\n",
       "g1eb3QrT/lCReRl3FBvcPugtnOl6/WMOvMP/9QKpWM4ttwv1Fjol6EO6BJwfz++UeB498OzRjXzd\n",
       "1BeB1xfRix8tbxYNtopjiQfN/3u9fBdKlEVWFZXDiYo0s48W9dulnUM7Uv+mnLOVTad050Ts7J8M\n",
       "mCuHK78cZsKFqic42SNdFcWWnvRgy5IAnNwKFYb3zSXSRWEnf/sPdvGYIblj/tDE96t3KIuo8YdC\n",
       "qvevTACmVwxcgwG6rl2OzCXVA9wRS11ujaKiCax7qYETwuzmLP0AAAAfQZ6nRRUsEP8AABm9U0uq\n",
       "yVMRJlbEIUQfn2xl2anQmwAAABoBnsZ0Q/8AADiV8iqpJUDLhpyV8CQM+CF8gAAAABcBnshqQ/8A\n",
       "ADidkBwEaz/PJ7P4jEJTqAAAAYpBms1JqEFsmUwIJf/+tSqACINYxm6FnlAA4u7sYf/rGM0Otv5R\n",
       "bzlJagoFlY3HeLP4Bj7uRFU//OP7S8s3cyzdiBhCrzAMu/9HvKPg9bvXdoEh6mOjHSxZcGXVZfgx\n",
       "retUV6wSUx7dDpv9eRTnIkiYeph01kJvzMDijqxpnxsVrBjBCZ0vxtnDssEPxcLge9QAisvwsNSb\n",
       "jqP7I+WjcaA0uj1n7l5ylDrM5RpE6CcesbLnWdNtSoQvGcpEHIDk6XOWxxJJmQBGG3/JehO8wmMV\n",
       "FVnzViAcycUhSjiSXQ3h7YiTewPTYS/zDeiNN/yzhD1Pfbb9B1qwrlVDGsfRyyMVFMQfI3eFk1FY\n",
       "NQyOJ7y8Ha2EYDuNGxcbZjVJkaJ+ervYnaaHQJh25pEwanEtNHKa6kpUhx8uC/aUKY1grBZ4uh5L\n",
       "usRWfUOC0ue6ShsPv/HuF+luJQZbmNV7d9qJJzWpVoZHB7ZaE5ge4tgROV6piyzM2V7vn1qvrnxT\n",
       "wUcOBWxUtvZYt6KT1JVxAAAAIEGe60UVLBD/AArJEuIYLiyYJvDaKBoyEtf9jNiJLA2lAAAAGgGf\n",
       "CnRD/wAAOJXyZr17clo7CH33SCEIc8oYAAAAGAGfDGpD/wAMj48EKaNZgIVN4h+JJk2LqQAAAF5B\n",
       "mxFJqEFsmUwIf//+qZYAQgIIbEcc12gA/RxDVPfrzvrE4HfFCDrU7PmBy5VmOUTdpsOYwH1bWlbp\n",
       "cOyV5DJNCrMu27qnYqT8JUDezJPvJn/lVbSyVGSXIP82ztpBAAAAIkGfL0UVLBD/AAWstOY9/7+r\n",
       "+ygd5CJQ91ddThFU18LUqVsAAAAWAZ9OdEP/AAyN0oBNyScAsXqwk8evtAAAABsBn1BqQ/8ADI+N\n",
       "7gaCEu7wp61Z73BloDQWK+gAAAV+bW9vdgAAAGxtdmhkAAAAAAAAAAAAAAAAAAAD6AAAJxAAAQAA\n",
       "AQAAAAAAAAAAAAAAAAEAAAAAAAAAAAAAAAAAAAABAAAAAAAAAAAAAAAAAABAAAAAAAAAAAAAAAAA\n",
       "AAAAAAAAAAAAAAAAAAAAAAAAAgAABKh0cmFrAAAAXHRraGQAAAADAAAAAAAAAAAAAAABAAAAAAAA\n",
       "JxAAAAAAAAAAAAAAAAAAAAAAAAEAAAAAAAAAAAAAAAAAAAABAAAAAAAAAAAAAAAAAABAAAAAAbAA\n",
       "AAEgAAAAAAAkZWR0cwAAABxlbHN0AAAAAAAAAAEAACcQAAAQAAABAAAAAAQgbWRpYQAAACBtZGhk\n",
       "AAAAAAAAAAAAAAAAAAAoAAABkABVxAAAAAAALWhkbHIAAAAAAAAAAHZpZGUAAAAAAAAAAAAAAABW\n",
       "aWRlb0hhbmRsZXIAAAADy21pbmYAAAAUdm1oZAAAAAEAAAAAAAAAAAAAACRkaW5mAAAAHGRyZWYA\n",
       "AAAAAAAAAQAAAAx1cmwgAAAAAQAAA4tzdGJsAAAAs3N0c2QAAAAAAAAAAQAAAKNhdmMxAAAAAAAA\n",
       "AAEAAAAAAAAAAAAAAAAAAAAAAbABIABIAAAASAAAAAAAAAABAAAAAAAAAAAAAAAAAAAAAAAAAAAA\n",
       "AAAAAAAAAAAAAAAAGP//AAAAMWF2Y0MBZAAV/+EAGGdkABWs2UGwloQAAAMABAAAAwAoPFi2WAEA\n",
       "Bmjr48siwAAAABx1dWlka2hA8l8kT8W6OaUbzwMj8wAAAAAAAAAYc3R0cwAAAAAAAAABAAAAMgAA\n",
       "CAAAAAAUc3RzcwAAAAAAAAABAAAAAQAAAZhjdHRzAAAAAAAAADEAAAABAAAQAAAAAAEAACAAAAAA\n",
       "AgAACAAAAAABAAAoAAAAAAEAABAAAAAAAQAAAAAAAAABAAAIAAAAAAEAABgAAAAAAQAACAAAAAAB\n",
       "AAAoAAAAAAEAABAAAAAAAQAAAAAAAAABAAAIAAAAAAEAACgAAAAAAQAAEAAAAAABAAAAAAAAAAEA\n",
       "AAgAAAAAAQAAKAAAAAABAAAQAAAAAAEAAAAAAAAAAQAACAAAAAABAAAoAAAAAAEAABAAAAAAAQAA\n",
       "AAAAAAABAAAIAAAAAAEAACgAAAAAAQAAEAAAAAABAAAAAAAAAAEAAAgAAAAAAQAAKAAAAAABAAAQ\n",
       "AAAAAAEAAAAAAAAAAQAACAAAAAABAAAoAAAAAAEAABAAAAAAAQAAAAAAAAABAAAIAAAAAAEAACgA\n",
       "AAAAAQAAEAAAAAABAAAAAAAAAAEAAAgAAAAAAQAAKAAAAAABAAAQAAAAAAEAAAAAAAAAAQAACAAA\n",
       "AAABAAAoAAAAAAEAABAAAAAAAQAAAAAAAAABAAAIAAAAABxzdHNjAAAAAAAAAAEAAAABAAAAMgAA\n",
       "AAEAAADcc3RzegAAAAAAAAAAAAAAMgAAKtIAAAW8AAABLwAAALAAAATPAAAA6wAAAKYAAABuAAAD\n",
       "nAAAAIcAAAR3AAAAxQAAAJUAAABgAAAEWAAAAJoAAABUAAAAYwAAA68AAAC9AAAAQwAAACsAAANu\n",
       "AAAAlQAAACMAAAAoAAAC7QAAAIYAAAAqAAAAKAAAAwAAAABWAAAAIQAAABoAAAJ/AAAAQAAAABsA\n",
       "AAAfAAAB7AAAACMAAAAeAAAAGwAAAY4AAAAkAAAAHgAAABwAAABiAAAAJgAAABoAAAAfAAAAFHN0\n",
       "Y28AAAAAAAAAAQAAACwAAABidWR0YQAAAFptZXRhAAAAAAAAACFoZGxyAAAAAAAAAABtZGlyYXBw\n",
       "bAAAAAAAAAAAAAAAAC1pbHN0AAAAJal0b28AAAAdZGF0YQAAAAEAAAAATGF2ZjU4LjI5LjEwMA==\n",
       "\">\n",
       "  Your browser does not support the video tag.\n",
       "</video>"
      ],
      "text/plain": [
       "<IPython.core.display.HTML object>"
      ]
     },
     "execution_count": 95,
     "metadata": {},
     "output_type": "execute_result"
    },
    {
     "data": {
      "image/png": "[encoded data removed]",
      "text/plain": [
       "<Figure size 432x288 with 1 Axes>"
      ]
     },
     "metadata": {
      "needs_background": "light"
     },
     "output_type": "display_data"
    }
   ],
   "source": [
    "fig,ax=plt.subplots()\n",
    "ln,=plt.plot([],[],'ro-',animated=True)\n",
    "\n",
    "def init():\n",
    "    plt.scatter(xtest,ytest,color='g')\n",
    "    ax.set_xlim(0,1.0)\n",
    "    ax.set_ylim(0,1.0)\n",
    "    return ln,\n",
    "\n",
    "\n",
    "def update_frame(frame):\n",
    "    m,c=mc_values_anim[frame]\n",
    "    x1,y1=-0.5,m*-.5+c\n",
    "    x2,y2=1.5,m*1.5+c\n",
    "    ln.set_data([x1,x2],[y1,y2])\n",
    "    return ln,\n",
    "\n",
    "anim=FuncAnimation(fig,update_frame,frames=range(len(mc_values_anim)),init_func=init,blit=True)\n",
    "HTML(anim.to_html5_video())"
   ]
  },
  {
   "cell_type": "markdown",
   "metadata": {},
   "source": [
    "# Visualization the learning process"
   ]
  },
  {
   "cell_type": "code",
   "execution_count": 96,
   "metadata": {},
   "outputs": [
    {
     "data": {
      "text/plain": [
       "[<matplotlib.lines.Line2D at 0x23f507ff208>]"
      ]
     },
     "execution_count": 96,
     "metadata": {},
     "output_type": "execute_result"
    },
    {
     "data": {
      "image/png": "[encoded data removed]",
      "text/plain": [
       "<Figure size 432x288 with 1 Axes>"
      ]
     },
     "metadata": {
      "needs_background": "light"
     },
     "output_type": "display_data"
    }
   ],
   "source": [
    "plt.scatter(xtrain,ytrain,color='b')\n",
    "plt.plot(xtrain,(m*xtrain+c),color='r')"
   ]
  },
  {
   "cell_type": "code",
   "execution_count": 97,
   "metadata": {},
   "outputs": [
    {
     "data": {
      "text/plain": [
       "Text(0.5, 0, 'Iterations')"
      ]
     },
     "execution_count": 97,
     "metadata": {},
     "output_type": "execute_result"
    },
    {
     "data": {
      "image/png": "[encoded data removed]",
      "text/plain": [
       "<Figure size 432x288 with 1 Axes>"
      ]
     },
     "metadata": {
      "needs_background": "light"
     },
     "output_type": "display_data"
    }
   ],
   "source": [
    "plt.plot(np.arange(len(error_values)),error_values)\n",
    "plt.ylabel(\"Error\")\n",
    "plt.xlabel('Iterations')"
   ]
  },
  {
   "cell_type": "markdown",
   "metadata": {},
   "source": [
    "# Step 5 : Prediction"
   ]
  },
  {
   "cell_type": "code",
   "execution_count": 98,
   "metadata": {},
   "outputs": [],
   "source": [
    "predicted=(m*xtest)+c"
   ]
  },
  {
   "cell_type": "code",
   "execution_count": 99,
   "metadata": {},
   "outputs": [
    {
     "data": {
      "text/plain": [
       "0.01899215991017246"
      ]
     },
     "execution_count": 99,
     "metadata": {},
     "output_type": "execute_result"
    }
   ],
   "source": [
    "mean_squared_error(ytest,predicted)"
   ]
  },
  {
   "cell_type": "code",
   "execution_count": 100,
   "metadata": {},
   "outputs": [
    {
     "data": {
      "text/html": [
       "<div>\n",
       "<style scoped>\n",
       "    .dataframe tbody tr th:only-of-type {\n",
       "        vertical-align: middle;\n",
       "    }\n",
       "\n",
       "    .dataframe tbody tr th {\n",
       "        vertical-align: top;\n",
       "    }\n",
       "\n",
       "    .dataframe thead th {\n",
       "        text-align: right;\n",
       "    }\n",
       "</style>\n",
       "<table border=\"1\" class=\"dataframe\">\n",
       "  <thead>\n",
       "    <tr style=\"text-align: right;\">\n",
       "      <th></th>\n",
       "      <th>x</th>\n",
       "      <th>target</th>\n",
       "      <th>predicted</th>\n",
       "    </tr>\n",
       "  </thead>\n",
       "  <tbody>\n",
       "    <tr>\n",
       "      <th>0</th>\n",
       "      <td>0.572523</td>\n",
       "      <td>0.491111</td>\n",
       "      <td>0.440592</td>\n",
       "    </tr>\n",
       "    <tr>\n",
       "      <th>1</th>\n",
       "      <td>0.279364</td>\n",
       "      <td>0.208889</td>\n",
       "      <td>0.137215</td>\n",
       "    </tr>\n",
       "    <tr>\n",
       "      <th>2</th>\n",
       "      <td>0.548764</td>\n",
       "      <td>0.246667</td>\n",
       "      <td>0.416005</td>\n",
       "    </tr>\n",
       "    <tr>\n",
       "      <th>3</th>\n",
       "      <td>0.510634</td>\n",
       "      <td>0.344444</td>\n",
       "      <td>0.376546</td>\n",
       "    </tr>\n",
       "    <tr>\n",
       "      <th>4</th>\n",
       "      <td>0.328799</td>\n",
       "      <td>0.048889</td>\n",
       "      <td>0.188372</td>\n",
       "    </tr>\n",
       "  </tbody>\n",
       "</table>\n",
       "</div>"
      ],
      "text/plain": [
       "          x    target  predicted\n",
       "0  0.572523  0.491111   0.440592\n",
       "1  0.279364  0.208889   0.137215\n",
       "2  0.548764  0.246667   0.416005\n",
       "3  0.510634  0.344444   0.376546\n",
       "4  0.328799  0.048889   0.188372"
      ]
     },
     "execution_count": 100,
     "metadata": {},
     "output_type": "execute_result"
    }
   ],
   "source": [
    "p=pd.DataFrame(list(zip(xtest,ytest,predicted)),columns=['x','target','predicted'])\n",
    "p.head()"
   ]
  },
  {
   "cell_type": "code",
   "execution_count": 101,
   "metadata": {},
   "outputs": [
    {
     "data": {
      "text/plain": [
       "[<matplotlib.lines.Line2D at 0x23f50ac2a48>]"
      ]
     },
     "execution_count": 101,
     "metadata": {},
     "output_type": "execute_result"
    },
    {
     "data": {
      "image/png": "[encoded data removed]",
      "text/plain": [
       "<Figure size 432x288 with 1 Axes>"
      ]
     },
     "metadata": {
      "needs_background": "light"
     },
     "output_type": "display_data"
    }
   ],
   "source": [
    "plt.scatter(xtest,ytest,color='b')\n",
    "plt.plot(xtest,predicted,color='g')"
   ]
  },
  {
   "cell_type": "markdown",
   "metadata": {},
   "source": [
    "# Revert Normalization"
   ]
  },
  {
   "cell_type": "code",
   "execution_count": 102,
   "metadata": {},
   "outputs": [],
   "source": [
    "predicted=predicted.reshape(-1,1)\n",
    "xtest=xtest.reshape(-1,1)\n",
    "ytest=ytest.reshape(-1,1)\n",
    "\n",
    "xtest_scaled=x_scaler.inverse_transform(xtest)\n",
    "ytest_scaled=y_scaler.inverse_transform(ytest)\n",
    "predicted_scaled=y_scaler.inverse_transform(predicted)\n",
    "\n",
    "#this is to remove the extra dimension\n",
    "xtest_scaled=xtest_scaled[:,-1]\n",
    "ytest_scaled=ytest_scaled[:,-1]\n",
    "predicted_scaled=predicted_scaled[:,-1]\n",
    "\n",
    "p=pd.DataFrame(list(zip(xtest_scaled,ytest_scaled,predicted_scaled)),columns=['x','target_y','predicted_y'])"
   ]
  },
  {
   "cell_type": "code",
   "execution_count": 103,
   "metadata": {},
   "outputs": [
    {
     "data": {
      "text/html": [
       "<div>\n",
       "<style scoped>\n",
       "    .dataframe tbody tr th:only-of-type {\n",
       "        vertical-align: middle;\n",
       "    }\n",
       "\n",
       "    .dataframe tbody tr th {\n",
       "        vertical-align: top;\n",
       "    }\n",
       "\n",
       "    .dataframe thead th {\n",
       "        text-align: right;\n",
       "    }\n",
       "</style>\n",
       "<table border=\"1\" class=\"dataframe\">\n",
       "  <thead>\n",
       "    <tr style=\"text-align: right;\">\n",
       "      <th></th>\n",
       "      <th>x</th>\n",
       "      <th>target_y</th>\n",
       "      <th>predicted_y</th>\n",
       "    </tr>\n",
       "  </thead>\n",
       "  <tbody>\n",
       "    <tr>\n",
       "      <th>0</th>\n",
       "      <td>6.549</td>\n",
       "      <td>27.1</td>\n",
       "      <td>24.826641</td>\n",
       "    </tr>\n",
       "    <tr>\n",
       "      <th>1</th>\n",
       "      <td>5.019</td>\n",
       "      <td>14.4</td>\n",
       "      <td>11.174658</td>\n",
       "    </tr>\n",
       "    <tr>\n",
       "      <th>2</th>\n",
       "      <td>6.425</td>\n",
       "      <td>16.1</td>\n",
       "      <td>23.720206</td>\n",
       "    </tr>\n",
       "    <tr>\n",
       "      <th>3</th>\n",
       "      <td>6.226</td>\n",
       "      <td>20.5</td>\n",
       "      <td>21.944556</td>\n",
       "    </tr>\n",
       "    <tr>\n",
       "      <th>4</th>\n",
       "      <td>5.277</td>\n",
       "      <td>7.2</td>\n",
       "      <td>13.476757</td>\n",
       "    </tr>\n",
       "  </tbody>\n",
       "</table>\n",
       "</div>"
      ],
      "text/plain": [
       "       x  target_y  predicted_y\n",
       "0  6.549      27.1    24.826641\n",
       "1  5.019      14.4    11.174658\n",
       "2  6.425      16.1    23.720206\n",
       "3  6.226      20.5    21.944556\n",
       "4  5.277       7.2    13.476757"
      ]
     },
     "execution_count": 103,
     "metadata": {},
     "output_type": "execute_result"
    }
   ],
   "source": [
    "p.head()"
   ]
  },
  {
   "cell_type": "markdown",
   "metadata": {},
   "source": [
    "# Thank you"
   ]
  },
  {
   "cell_type": "code",
   "execution_count": null,
   "metadata": {},
   "outputs": [],
   "source": []
  }
 ],
 "metadata": {
  "kernelspec": {
   "display_name": "Python 3",
   "language": "python",
   "name": "python3"
  },
  "language_info": {
   "codemirror_mode": {
    "name": "ipython",
    "version": 3
   },
   "file_extension": ".py",
   "mimetype": "text/x-python",
   "name": "python",
   "nbconvert_exporter": "python",
   "pygments_lexer": "ipython3",
   "version": "3.7.6"
  }
 },
 "nbformat": 4,
 "nbformat_minor": 2
}
