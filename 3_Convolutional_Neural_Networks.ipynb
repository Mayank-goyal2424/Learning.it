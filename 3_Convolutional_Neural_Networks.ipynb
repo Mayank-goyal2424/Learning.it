{
  "nbformat": 4,
  "nbformat_minor": 0,
  "metadata": {
    "kernelspec": {
      "name": "python3",
      "display_name": "Python 3",
      "language": "python"
    },
    "language_info": {
      "mimetype": "text/x-python",
      "nbconvert_exporter": "python",
      "name": "python",
      "file_extension": ".py",
      "version": "3.5.4",
      "pygments_lexer": "ipython3",
      "codemirror_mode": {
        "version": 3,
        "name": "ipython"
      }
    },
    "colab": {
      "name": "3.Convolutional_Neural_Networks.ipynb",
      "provenance": [],
      "collapsed_sections": [
        "61qzM8S45Mri",
        "WVX78fVn5Mrm",
        "xx06auxz5Mrr",
        "CEpL911U5Mru",
        "cG9nRWmO5Mrx",
        "9zleA9Au5Mrz"
      ],
      "include_colab_link": true
    }
  },
  "cells": [
    {
      "cell_type": "markdown",
      "metadata": {
        "id": "view-in-github",
        "colab_type": "text"
      },
      "source": [
        "<a href=\"https://colab.research.google.com/github/Mayank-goyal2424/Learning.it/blob/master/3_Convolutional_Neural_Networks.ipynb\" target=\"_parent\"><img src=\"https://colab.research.google.com/assets/colab-badge.svg\" alt=\"Open In Colab\"/></a>"
      ]
    },
    {
      "cell_type": "markdown",
      "metadata": {
        "id": "MELvHtTYabr1",
        "colab_type": "text"
      },
      "source": [
        ""
      ]
    },
    {
      "cell_type": "markdown",
      "metadata": {
        "id": "Vm5Q1lkZ5MqR",
        "colab_type": "text"
      },
      "source": [
        "# Part 1: Convolutional Neural Network"
      ]
    },
    {
      "cell_type": "markdown",
      "metadata": {
        "id": "xfHOO-Wb5MqS",
        "colab_type": "text"
      },
      "source": [
        "###  Importing packages"
      ]
    },
    {
      "cell_type": "code",
      "metadata": {
        "trusted": true,
        "id": "TOMoJAcn5MqT",
        "colab_type": "code",
        "outputId": "2321e0a1-4627-442c-ad7f-57b70dbd3cd8",
        "colab": {
          "base_uri": "https://localhost:8080/",
          "height": 34
        }
      },
      "source": [
        "import numpy as np\n",
        "import keras\n",
        "from keras.datasets import mnist\n",
        "from keras.models import Sequential\n",
        "from keras.layers import Dense, Dropout, Flatten, Conv2D, MaxPooling2D\n",
        "from keras import backend as K\n",
        "from keras.preprocessing import image\n",
        "from keras.applications.mobilenet import MobileNet\n",
        "from keras.applications.vgg16 import preprocess_input, decode_predictions\n",
        "from keras.models import Model\n",
        "import timeit\n",
        "\n",
        "import warnings\n",
        "warnings.filterwarnings('ignore')"
      ],
      "execution_count": 0,
      "outputs": [
        {
          "output_type": "stream",
          "text": [
            "Using TensorFlow backend.\n"
          ],
          "name": "stderr"
        }
      ]
    },
    {
      "cell_type": "markdown",
      "metadata": {
        "id": "3B5N8q7s5MqX",
        "colab_type": "text"
      },
      "source": [
        "### Preparing Dataset"
      ]
    },
    {
      "cell_type": "code",
      "metadata": {
        "trusted": true,
        "id": "bVn2Bad35MqY",
        "colab_type": "code",
        "outputId": "07c59326-e661-4b7b-c038-51d6bd9e655b",
        "colab": {
          "base_uri": "https://localhost:8080/",
          "height": 101
        }
      },
      "source": [
        "batch_size = 128\n",
        "num_classes = 10\n",
        "epochs = 1\n",
        "\n",
        "# input image dimensions\n",
        "img_rows, img_cols = 28, 28\n",
        "\n",
        "# the data, shuffled and split between train and test sets\n",
        "(x_train, y_train), (x_test, y_test) = mnist.load_data()\n",
        "\n",
        "if K.image_data_format() == 'channels_first':\n",
        "    x_train = x_train.reshape(x_train.shape[0], 1, img_rows, img_cols)\n",
        "    x_test = x_test.reshape(x_test.shape[0], 1, img_rows, img_cols)\n",
        "    input_shape = (1, img_rows, img_cols)\n",
        "else:\n",
        "    x_train = x_train.reshape(x_train.shape[0], img_rows, img_cols, 1)\n",
        "    x_test = x_test.reshape(x_test.shape[0], img_rows, img_cols, 1)\n",
        "    input_shape = (img_rows, img_cols, 1)\n",
        "\n",
        "x_train = x_train.astype('float32')\n",
        "x_test = x_test.astype('float32')\n",
        "x_train /= 255\n",
        "x_test /= 255\n",
        "print('x_train shape:', x_train.shape)\n",
        "print(x_train.shape[0], 'train samples')\n",
        "print(x_test.shape[0], 'test samples')\n",
        "\n",
        "# convert class vectors to binary class matrices\n",
        "y_train = keras.utils.to_categorical(y_train, num_classes)\n",
        "y_test = keras.utils.to_categorical(y_test, num_classes)"
      ],
      "execution_count": 0,
      "outputs": [
        {
          "output_type": "stream",
          "text": [
            "Downloading data from https://s3.amazonaws.com/img-datasets/mnist.npz\n",
            "11493376/11490434 [==============================] - 0s 0us/step\n",
            "x_train shape: (60000, 28, 28, 1)\n",
            "60000 train samples\n",
            "10000 test samples\n"
          ],
          "name": "stdout"
        }
      ]
    },
    {
      "cell_type": "markdown",
      "metadata": {
        "id": "vypECcQh5Mqb",
        "colab_type": "text"
      },
      "source": [
        "### Building a Model"
      ]
    },
    {
      "cell_type": "code",
      "metadata": {
        "trusted": true,
        "id": "ZqCwnNdm5Mqb",
        "colab_type": "code",
        "outputId": "b2371043-b26d-482b-ca53-8cf248745169",
        "colab": {
          "base_uri": "https://localhost:8080/",
          "height": 454
        }
      },
      "source": [
        "model = Sequential()\n",
        "model.add(Conv2D(8, kernel_size=(3, 3), activation='relu', input_shape=input_shape))\n",
        "model.add(MaxPooling2D(pool_size=(2, 2)))\n",
        "model.add(Conv2D(16, (3, 3), activation='relu'))\n",
        "model.add(MaxPooling2D(pool_size=(2, 2)))\n",
        "model.add(Dropout(0.25))\n",
        "model.add(Flatten())\n",
        "model.add(Dense(32, activation='relu'))\n",
        "model.add(Dropout(0.5))\n",
        "model.add(Dense(num_classes, activation='softmax'))\n",
        "model.summary()"
      ],
      "execution_count": 0,
      "outputs": [
        {
          "output_type": "stream",
          "text": [
            "Model: \"sequential_1\"\n",
            "_________________________________________________________________\n",
            "Layer (type)                 Output Shape              Param #   \n",
            "=================================================================\n",
            "conv2d_1 (Conv2D)            (None, 26, 26, 8)         80        \n",
            "_________________________________________________________________\n",
            "max_pooling2d_1 (MaxPooling2 (None, 13, 13, 8)         0         \n",
            "_________________________________________________________________\n",
            "conv2d_2 (Conv2D)            (None, 11, 11, 16)        1168      \n",
            "_________________________________________________________________\n",
            "max_pooling2d_2 (MaxPooling2 (None, 5, 5, 16)          0         \n",
            "_________________________________________________________________\n",
            "dropout_1 (Dropout)          (None, 5, 5, 16)          0         \n",
            "_________________________________________________________________\n",
            "flatten_1 (Flatten)          (None, 400)               0         \n",
            "_________________________________________________________________\n",
            "dense_1 (Dense)              (None, 32)                12832     \n",
            "_________________________________________________________________\n",
            "dropout_2 (Dropout)          (None, 32)                0         \n",
            "_________________________________________________________________\n",
            "dense_2 (Dense)              (None, 10)                330       \n",
            "=================================================================\n",
            "Total params: 14,410\n",
            "Trainable params: 14,410\n",
            "Non-trainable params: 0\n",
            "_________________________________________________________________\n"
          ],
          "name": "stdout"
        }
      ]
    },
    {
      "cell_type": "markdown",
      "metadata": {
        "id": "KxJxqZMQ5Mqe",
        "colab_type": "text"
      },
      "source": [
        "### Model Training"
      ]
    },
    {
      "cell_type": "code",
      "metadata": {
        "trusted": true,
        "id": "xJ_7tUP-5Mqf",
        "colab_type": "code",
        "outputId": "0a2a5c1f-3999-4a52-cae0-3c4efe41b842",
        "colab": {
          "base_uri": "https://localhost:8080/",
          "height": 104
        }
      },
      "source": [
        "model.compile(loss=keras.losses.categorical_crossentropy,\n",
        "              optimizer=keras.optimizers.Adadelta(),\n",
        "              metrics=['accuracy'])\n",
        "\n",
        "model.fit(x_train, y_train,\n",
        "          batch_size=batch_size,\n",
        "          epochs=epochs,\n",
        "          verbose=1,\n",
        "          validation_data=(x_test, y_test))"
      ],
      "execution_count": 0,
      "outputs": [
        {
          "output_type": "stream",
          "text": [
            "Train on 60000 samples, validate on 10000 samples\n",
            "Epoch 1/1\n",
            "60000/60000 [==============================] - 19s 324us/step - loss: 0.7070 - accuracy: 0.7654 - val_loss: 0.1393 - val_accuracy: 0.9573\n"
          ],
          "name": "stdout"
        },
        {
          "output_type": "execute_result",
          "data": {
            "text/plain": [
              "<keras.callbacks.callbacks.History at 0x7f5aa5b559b0>"
            ]
          },
          "metadata": {
            "tags": []
          },
          "execution_count": 4
        }
      ]
    },
    {
      "cell_type": "markdown",
      "metadata": {
        "id": "xXw2PWV05Mqh",
        "colab_type": "text"
      },
      "source": [
        "### Testing"
      ]
    },
    {
      "cell_type": "code",
      "metadata": {
        "trusted": false,
        "id": "zlY2SsG45Mqi",
        "colab_type": "code",
        "outputId": "0a557f6a-931e-4088-cc6f-bda5d13e0d39",
        "colab": {
          "base_uri": "https://localhost:8080/",
          "height": 50
        }
      },
      "source": [
        "score = model.evaluate(x_test, y_test, verbose=0)\n",
        "print('Test loss:', score[0])\n",
        "print('Test accuracy:', score[1])"
      ],
      "execution_count": 0,
      "outputs": [
        {
          "output_type": "stream",
          "text": [
            "Test loss: 0.13930404947400093\n",
            "Test accuracy: 0.9573000073432922\n"
          ],
          "name": "stdout"
        }
      ]
    },
    {
      "cell_type": "markdown",
      "metadata": {
        "id": "SCykB-U05Mql",
        "colab_type": "text"
      },
      "source": [
        "### Prediction"
      ]
    },
    {
      "cell_type": "code",
      "metadata": {
        "trusted": false,
        "id": "WMDBJh2r5Mql",
        "colab_type": "code",
        "outputId": "2b1cf774-a2f0-4116-cdbe-4a90818a68d9",
        "colab": {
          "base_uri": "https://localhost:8080/",
          "height": 265
        }
      },
      "source": [
        "import pylab as plt\n",
        "\n",
        "plt.imshow(x_test[122].reshape(28,28),cmap='gray')\n",
        "plt.show()"
      ],
      "execution_count": 0,
      "outputs": [
        {
          "output_type": "display_data",
          "data": {
            "image/png": "[encoded data removed]",
            "text/plain": [
              "<Figure size 432x288 with 1 Axes>"
            ]
          },
          "metadata": {
            "tags": [],
            "needs_background": "light"
          }
        }
      ]
    },
    {
      "cell_type": "code",
      "metadata": {
        "scrolled": true,
        "trusted": false,
        "id": "qUcDmrrk5Mqt",
        "colab_type": "code",
        "outputId": "1d10e893-e77c-46f0-81bb-db2fae8b7ae1",
        "colab": {
          "base_uri": "https://localhost:8080/",
          "height": 168
        }
      },
      "source": [
        "import numpy as np\n",
        "prediction = model.predict(x_test[122:123])\n",
        "print('Prediction Score:\\n',prediction[0])\n",
        "thresholded = (prediction>0.5)*1\n",
        "print('\\nThresholded Score:\\n',thresholded[0])\n",
        "print('\\nPredicted Digit:\\n',np.where(thresholded == 1)[1][0])"
      ],
      "execution_count": 0,
      "outputs": [
        {
          "output_type": "stream",
          "text": [
            "Prediction Score:\n",
            " [5.3363472e-08 1.0395054e-06 2.4429252e-04 7.0416587e-05 1.9248107e-07\n",
            " 1.3470260e-08 7.6862051e-11 9.9760360e-01 5.7101926e-07 2.0798268e-03]\n",
            "\n",
            "Thresholded Score:\n",
            " [0 0 0 0 0 0 0 1 0 0]\n",
            "\n",
            "Predicted Digit:\n",
            " 7\n"
          ],
          "name": "stdout"
        }
      ]
    },
    {
      "cell_type": "markdown",
      "metadata": {
        "id": "-7ExMABB5Mqv",
        "colab_type": "text"
      },
      "source": [
        "# Part 2: Applications of Convolutional Neural Network"
      ]
    },
    {
      "cell_type": "markdown",
      "metadata": {
        "id": "JAnLz4fi5Mqw",
        "colab_type": "text"
      },
      "source": [
        "###  MobileNet Models"
      ]
    },
    {
      "cell_type": "code",
      "metadata": {
        "trusted": false,
        "id": "eo7QIJPw5Mqw",
        "colab_type": "code",
        "outputId": "3c7cf392-97a0-42e9-ed83-2b3e31b6667d",
        "colab": {
          "base_uri": "https://localhost:8080/",
          "height": 1000
        }
      },
      "source": [
        "model = MobileNet(input_shape=None, alpha=0.25, depth_multiplier=1, dropout=1e-3, \n",
        "                                 include_top=True, weights='imagenet', input_tensor=None, pooling=None, classes=1000)\n",
        "\n",
        "model.summary()"
      ],
      "execution_count": 0,
      "outputs": [
        {
          "output_type": "stream",
          "text": [
            "Downloading data from https://github.com/fchollet/deep-learning-models/releases/download/v0.6/mobilenet_2_5_224_tf.h5\n",
            "2113536/2108140 [==============================] - 0s 0us/step\n",
            "Model: \"mobilenet_0.25_224\"\n",
            "_________________________________________________________________\n",
            "Layer (type)                 Output Shape              Param #   \n",
            "=================================================================\n",
            "input_1 (InputLayer)         (None, 224, 224, 3)       0         \n",
            "_________________________________________________________________\n",
            "conv1_pad (ZeroPadding2D)    (None, 225, 225, 3)       0         \n",
            "_________________________________________________________________\n",
            "conv1 (Conv2D)               (None, 112, 112, 8)       216       \n",
            "_________________________________________________________________\n",
            "conv1_bn (BatchNormalization (None, 112, 112, 8)       32        \n",
            "_________________________________________________________________\n",
            "conv1_relu (ReLU)            (None, 112, 112, 8)       0         \n",
            "_________________________________________________________________\n",
            "conv_dw_1 (DepthwiseConv2D)  (None, 112, 112, 8)       72        \n",
            "_________________________________________________________________\n",
            "conv_dw_1_bn (BatchNormaliza (None, 112, 112, 8)       32        \n",
            "_________________________________________________________________\n",
            "conv_dw_1_relu (ReLU)        (None, 112, 112, 8)       0         \n",
            "_________________________________________________________________\n",
            "conv_pw_1 (Conv2D)           (None, 112, 112, 16)      128       \n",
            "_________________________________________________________________\n",
            "conv_pw_1_bn (BatchNormaliza (None, 112, 112, 16)      64        \n",
            "_________________________________________________________________\n",
            "conv_pw_1_relu (ReLU)        (None, 112, 112, 16)      0         \n",
            "_________________________________________________________________\n",
            "conv_pad_2 (ZeroPadding2D)   (None, 113, 113, 16)      0         \n",
            "_________________________________________________________________\n",
            "conv_dw_2 (DepthwiseConv2D)  (None, 56, 56, 16)        144       \n",
            "_________________________________________________________________\n",
            "conv_dw_2_bn (BatchNormaliza (None, 56, 56, 16)        64        \n",
            "_________________________________________________________________\n",
            "conv_dw_2_relu (ReLU)        (None, 56, 56, 16)        0         \n",
            "_________________________________________________________________\n",
            "conv_pw_2 (Conv2D)           (None, 56, 56, 32)        512       \n",
            "_________________________________________________________________\n",
            "conv_pw_2_bn (BatchNormaliza (None, 56, 56, 32)        128       \n",
            "_________________________________________________________________\n",
            "conv_pw_2_relu (ReLU)        (None, 56, 56, 32)        0         \n",
            "_________________________________________________________________\n",
            "conv_dw_3 (DepthwiseConv2D)  (None, 56, 56, 32)        288       \n",
            "_________________________________________________________________\n",
            "conv_dw_3_bn (BatchNormaliza (None, 56, 56, 32)        128       \n",
            "_________________________________________________________________\n",
            "conv_dw_3_relu (ReLU)        (None, 56, 56, 32)        0         \n",
            "_________________________________________________________________\n",
            "conv_pw_3 (Conv2D)           (None, 56, 56, 32)        1024      \n",
            "_________________________________________________________________\n",
            "conv_pw_3_bn (BatchNormaliza (None, 56, 56, 32)        128       \n",
            "_________________________________________________________________\n",
            "conv_pw_3_relu (ReLU)        (None, 56, 56, 32)        0         \n",
            "_________________________________________________________________\n",
            "conv_pad_4 (ZeroPadding2D)   (None, 57, 57, 32)        0         \n",
            "_________________________________________________________________\n",
            "conv_dw_4 (DepthwiseConv2D)  (None, 28, 28, 32)        288       \n",
            "_________________________________________________________________\n",
            "conv_dw_4_bn (BatchNormaliza (None, 28, 28, 32)        128       \n",
            "_________________________________________________________________\n",
            "conv_dw_4_relu (ReLU)        (None, 28, 28, 32)        0         \n",
            "_________________________________________________________________\n",
            "conv_pw_4 (Conv2D)           (None, 28, 28, 64)        2048      \n",
            "_________________________________________________________________\n",
            "conv_pw_4_bn (BatchNormaliza (None, 28, 28, 64)        256       \n",
            "_________________________________________________________________\n",
            "conv_pw_4_relu (ReLU)        (None, 28, 28, 64)        0         \n",
            "_________________________________________________________________\n",
            "conv_dw_5 (DepthwiseConv2D)  (None, 28, 28, 64)        576       \n",
            "_________________________________________________________________\n",
            "conv_dw_5_bn (BatchNormaliza (None, 28, 28, 64)        256       \n",
            "_________________________________________________________________\n",
            "conv_dw_5_relu (ReLU)        (None, 28, 28, 64)        0         \n",
            "_________________________________________________________________\n",
            "conv_pw_5 (Conv2D)           (None, 28, 28, 64)        4096      \n",
            "_________________________________________________________________\n",
            "conv_pw_5_bn (BatchNormaliza (None, 28, 28, 64)        256       \n",
            "_________________________________________________________________\n",
            "conv_pw_5_relu (ReLU)        (None, 28, 28, 64)        0         \n",
            "_________________________________________________________________\n",
            "conv_pad_6 (ZeroPadding2D)   (None, 29, 29, 64)        0         \n",
            "_________________________________________________________________\n",
            "conv_dw_6 (DepthwiseConv2D)  (None, 14, 14, 64)        576       \n",
            "_________________________________________________________________\n",
            "conv_dw_6_bn (BatchNormaliza (None, 14, 14, 64)        256       \n",
            "_________________________________________________________________\n",
            "conv_dw_6_relu (ReLU)        (None, 14, 14, 64)        0         \n",
            "_________________________________________________________________\n",
            "conv_pw_6 (Conv2D)           (None, 14, 14, 128)       8192      \n",
            "_________________________________________________________________\n",
            "conv_pw_6_bn (BatchNormaliza (None, 14, 14, 128)       512       \n",
            "_________________________________________________________________\n",
            "conv_pw_6_relu (ReLU)        (None, 14, 14, 128)       0         \n",
            "_________________________________________________________________\n",
            "conv_dw_7 (DepthwiseConv2D)  (None, 14, 14, 128)       1152      \n",
            "_________________________________________________________________\n",
            "conv_dw_7_bn (BatchNormaliza (None, 14, 14, 128)       512       \n",
            "_________________________________________________________________\n",
            "conv_dw_7_relu (ReLU)        (None, 14, 14, 128)       0         \n",
            "_________________________________________________________________\n",
            "conv_pw_7 (Conv2D)           (None, 14, 14, 128)       16384     \n",
            "_________________________________________________________________\n",
            "conv_pw_7_bn (BatchNormaliza (None, 14, 14, 128)       512       \n",
            "_________________________________________________________________\n",
            "conv_pw_7_relu (ReLU)        (None, 14, 14, 128)       0         \n",
            "_________________________________________________________________\n",
            "conv_dw_8 (DepthwiseConv2D)  (None, 14, 14, 128)       1152      \n",
            "_________________________________________________________________\n",
            "conv_dw_8_bn (BatchNormaliza (None, 14, 14, 128)       512       \n",
            "_________________________________________________________________\n",
            "conv_dw_8_relu (ReLU)        (None, 14, 14, 128)       0         \n",
            "_________________________________________________________________\n",
            "conv_pw_8 (Conv2D)           (None, 14, 14, 128)       16384     \n",
            "_________________________________________________________________\n",
            "conv_pw_8_bn (BatchNormaliza (None, 14, 14, 128)       512       \n",
            "_________________________________________________________________\n",
            "conv_pw_8_relu (ReLU)        (None, 14, 14, 128)       0         \n",
            "_________________________________________________________________\n",
            "conv_dw_9 (DepthwiseConv2D)  (None, 14, 14, 128)       1152      \n",
            "_________________________________________________________________\n",
            "conv_dw_9_bn (BatchNormaliza (None, 14, 14, 128)       512       \n",
            "_________________________________________________________________\n",
            "conv_dw_9_relu (ReLU)        (None, 14, 14, 128)       0         \n",
            "_________________________________________________________________\n",
            "conv_pw_9 (Conv2D)           (None, 14, 14, 128)       16384     \n",
            "_________________________________________________________________\n",
            "conv_pw_9_bn (BatchNormaliza (None, 14, 14, 128)       512       \n",
            "_________________________________________________________________\n",
            "conv_pw_9_relu (ReLU)        (None, 14, 14, 128)       0         \n",
            "_________________________________________________________________\n",
            "conv_dw_10 (DepthwiseConv2D) (None, 14, 14, 128)       1152      \n",
            "_________________________________________________________________\n",
            "conv_dw_10_bn (BatchNormaliz (None, 14, 14, 128)       512       \n",
            "_________________________________________________________________\n",
            "conv_dw_10_relu (ReLU)       (None, 14, 14, 128)       0         \n",
            "_________________________________________________________________\n",
            "conv_pw_10 (Conv2D)          (None, 14, 14, 128)       16384     \n",
            "_________________________________________________________________\n",
            "conv_pw_10_bn (BatchNormaliz (None, 14, 14, 128)       512       \n",
            "_________________________________________________________________\n",
            "conv_pw_10_relu (ReLU)       (None, 14, 14, 128)       0         \n",
            "_________________________________________________________________\n",
            "conv_dw_11 (DepthwiseConv2D) (None, 14, 14, 128)       1152      \n",
            "_________________________________________________________________\n",
            "conv_dw_11_bn (BatchNormaliz (None, 14, 14, 128)       512       \n",
            "_________________________________________________________________\n",
            "conv_dw_11_relu (ReLU)       (None, 14, 14, 128)       0         \n",
            "_________________________________________________________________\n",
            "conv_pw_11 (Conv2D)          (None, 14, 14, 128)       16384     \n",
            "_________________________________________________________________\n",
            "conv_pw_11_bn (BatchNormaliz (None, 14, 14, 128)       512       \n",
            "_________________________________________________________________\n",
            "conv_pw_11_relu (ReLU)       (None, 14, 14, 128)       0         \n",
            "_________________________________________________________________\n",
            "conv_pad_12 (ZeroPadding2D)  (None, 15, 15, 128)       0         \n",
            "_________________________________________________________________\n",
            "conv_dw_12 (DepthwiseConv2D) (None, 7, 7, 128)         1152      \n",
            "_________________________________________________________________\n",
            "conv_dw_12_bn (BatchNormaliz (None, 7, 7, 128)         512       \n",
            "_________________________________________________________________\n",
            "conv_dw_12_relu (ReLU)       (None, 7, 7, 128)         0         \n",
            "_________________________________________________________________\n",
            "conv_pw_12 (Conv2D)          (None, 7, 7, 256)         32768     \n",
            "_________________________________________________________________\n",
            "conv_pw_12_bn (BatchNormaliz (None, 7, 7, 256)         1024      \n",
            "_________________________________________________________________\n",
            "conv_pw_12_relu (ReLU)       (None, 7, 7, 256)         0         \n",
            "_________________________________________________________________\n",
            "conv_dw_13 (DepthwiseConv2D) (None, 7, 7, 256)         2304      \n",
            "_________________________________________________________________\n",
            "conv_dw_13_bn (BatchNormaliz (None, 7, 7, 256)         1024      \n",
            "_________________________________________________________________\n",
            "conv_dw_13_relu (ReLU)       (None, 7, 7, 256)         0         \n",
            "_________________________________________________________________\n",
            "conv_pw_13 (Conv2D)          (None, 7, 7, 256)         65536     \n",
            "_________________________________________________________________\n",
            "conv_pw_13_bn (BatchNormaliz (None, 7, 7, 256)         1024      \n",
            "_________________________________________________________________\n",
            "conv_pw_13_relu (ReLU)       (None, 7, 7, 256)         0         \n",
            "_________________________________________________________________\n",
            "global_average_pooling2d_1 ( (None, 256)               0         \n",
            "_________________________________________________________________\n",
            "reshape_1 (Reshape)          (None, 1, 1, 256)         0         \n",
            "_________________________________________________________________\n",
            "dropout (Dropout)            (None, 1, 1, 256)         0         \n",
            "_________________________________________________________________\n",
            "conv_preds (Conv2D)          (None, 1, 1, 1000)        257000    \n",
            "_________________________________________________________________\n",
            "reshape_2 (Reshape)          (None, 1000)              0         \n",
            "_________________________________________________________________\n",
            "act_softmax (Activation)     (None, 1000)              0         \n",
            "=================================================================\n",
            "Total params: 475,544\n",
            "Trainable params: 470,072\n",
            "Non-trainable params: 5,472\n",
            "_________________________________________________________________\n"
          ],
          "name": "stdout"
        }
      ]
    },
    {
      "cell_type": "markdown",
      "metadata": {
        "id": "s84GP0Dk5Mqz",
        "colab_type": "text"
      },
      "source": [
        "###  Classify images"
      ]
    },
    {
      "cell_type": "code",
      "metadata": {
        "trusted": false,
        "id": "jxWkuKhq5Mqz",
        "colab_type": "code",
        "outputId": "c8d179e7-3cdb-4e91-d415-63bb9fbf7b6f",
        "colab": {
          "base_uri": "https://localhost:8080/",
          "height": 104
        }
      },
      "source": [
        "# Write the image name below\n",
        "\n",
        "img_path = 'digit.jpg'\n",
        "img = image.load_img(img_path, target_size=(224, 224))\n",
        "x = image.img_to_array(img)\n",
        "x = np.expand_dims(x, axis=0)\n",
        "x = preprocess_input(x)\n",
        "\n",
        "preds = model.predict(x)\n",
        "print('Predicted:\\n', decode_predictions(preds))"
      ],
      "execution_count": 0,
      "outputs": [
        {
          "output_type": "stream",
          "text": [
            "Downloading data from https://storage.googleapis.com/download.tensorflow.org/data/imagenet_class_index.json\n",
            "40960/35363 [==================================] - 0s 0us/step\n",
            "Predicted:\n",
            " [[('n04286575', 'spotlight', 0.12874618), ('n03729826', 'matchstick', 0.12555717), ('n03666591', 'lighter', 0.07316683), ('n03804744', 'nail', 0.046444528), ('n01833805', 'hummingbird', 0.028863667)]]\n"
          ],
          "name": "stdout"
        }
      ]
    },
    {
      "cell_type": "markdown",
      "metadata": {
        "id": "t30MpfqT5Mq1",
        "colab_type": "text"
      },
      "source": [
        "###  Extract CNN features"
      ]
    },
    {
      "cell_type": "code",
      "metadata": {
        "trusted": true,
        "id": "B0TKvKlP5Mq3",
        "colab_type": "code",
        "outputId": "18bdb5cf-cb52-4818-e655-32e87505b177",
        "colab": {
          "base_uri": "https://localhost:8080/",
          "height": 1000
        }
      },
      "source": [
        "features = model.predict(x)\n",
        "print('\\nFeature Shape:\\n',features.shape)\n",
        "print('\\nFeatures:\\n',features)"
      ],
      "execution_count": 0,
      "outputs": [
        {
          "output_type": "stream",
          "text": [
            "\n",
            "Feature Shape:\n",
            " (1, 1000)\n",
            "\n",
            "Features:\n",
            " [[5.09006270e-07 5.94694902e-05 1.22426078e-04 6.39697610e-05\n",
            "  1.59257930e-03 1.24230901e-05 2.77952531e-05 1.87597743e-05\n",
            "  8.02539580e-06 2.07948633e-05 4.91978335e-06 4.08514052e-06\n",
            "  1.52590155e-06 1.60168383e-05 5.71166602e-05 7.40705673e-07\n",
            "  1.56035559e-04 1.19449942e-04 2.47571780e-03 6.10597606e-04\n",
            "  8.92567405e-05 4.35895257e-04 2.58736662e-04 3.67147266e-04\n",
            "  5.16561886e-06 2.27296437e-06 1.61252883e-05 1.48671306e-05\n",
            "  1.93650594e-05 8.56805855e-05 1.22397000e-06 3.10444331e-04\n",
            "  6.86992353e-05 2.66887364e-05 8.40058274e-05 5.35491881e-06\n",
            "  6.48528803e-05 1.43448835e-06 4.29752097e-03 5.35796880e-06\n",
            "  9.46440152e-04 1.66752834e-05 4.81307734e-06 1.96784124e-04\n",
            "  3.04561599e-05 7.42507723e-07 5.33687649e-04 4.93118656e-04\n",
            "  3.87759258e-07 4.65441781e-06 5.02025341e-06 2.64336322e-05\n",
            "  2.16326625e-05 2.74045451e-05 6.43131034e-06 1.85562330e-05\n",
            "  2.55289051e-04 4.49058319e-08 2.38029206e-05 8.60267173e-05\n",
            "  6.81424208e-05 4.63249535e-07 2.85420060e-06 4.18261925e-06\n",
            "  3.92572947e-05 1.40546632e-04 1.47660439e-05 9.80979439e-06\n",
            "  1.77306119e-05 3.99778202e-07 1.88436263e-06 4.68928629e-04\n",
            "  1.16859002e-04 5.89477539e-04 7.55609144e-05 4.04858838e-05\n",
            "  1.39546746e-05 2.16210919e-05 5.60169974e-05 5.29053141e-05\n",
            "  7.07571016e-05 1.09248736e-04 3.18444145e-05 4.92164600e-06\n",
            "  3.82624739e-06 8.52983339e-06 1.83169823e-06 4.47421131e-04\n",
            "  5.29967929e-06 5.40607958e-04 2.35851360e-07 2.37568383e-05\n",
            "  1.43379575e-05 5.46709562e-05 2.88636666e-02 1.00747304e-04\n",
            "  1.53849425e-04 3.33590106e-05 1.48315576e-05 1.00762676e-03\n",
            "  1.95016655e-05 1.66901179e-06 1.00290129e-06 3.08135204e-05\n",
            "  2.12022351e-05 1.24484870e-06 9.16095928e-07 8.33718441e-05\n",
            "  3.21390303e-06 5.57691848e-08 6.66117237e-04 1.45551880e-04\n",
            "  3.04627256e-03 2.84490787e-04 3.89199704e-04 1.27422553e-03\n",
            "  1.16406738e-06 2.54686340e-04 1.86150785e-07 3.58939815e-06\n",
            "  6.57223791e-05 1.40996508e-06 3.06046354e-06 1.59776747e-07\n",
            "  4.02724891e-06 1.87117475e-04 1.17414536e-04 2.09873717e-04\n",
            "  7.45405341e-05 2.62096827e-03 1.44848764e-05 1.21846651e-05\n",
            "  1.59129640e-03 1.30885849e-06 3.59980739e-04 1.05497315e-06\n",
            "  1.02354479e-05 2.33925384e-05 2.13253679e-05 1.92590305e-05\n",
            "  4.34392177e-06 3.32347076e-06 4.38242580e-07 3.50404844e-05\n",
            "  5.97005128e-04 4.28936801e-06 6.91535592e-04 4.40317717e-06\n",
            "  1.54940572e-04 3.95911457e-06 7.28512418e-07 2.62630027e-04\n",
            "  8.32021818e-04 1.75582372e-05 2.60270190e-05 3.13466771e-05\n",
            "  6.02001164e-05 1.20484433e-03 2.39911533e-04 3.42835756e-06\n",
            "  2.46966774e-05 2.87115017e-05 8.71531956e-05 1.65331721e-06\n",
            "  6.33736272e-05 1.07736378e-06 2.51611171e-04 4.71777239e-05\n",
            "  1.14557715e-05 2.19956666e-04 1.61515600e-05 1.76080997e-04\n",
            "  1.15321673e-04 4.94848704e-04 2.11146216e-05 3.73037983e-06\n",
            "  4.88644364e-05 1.13041337e-04 7.30645343e-06 1.60694617e-04\n",
            "  8.86253329e-05 1.82082687e-04 1.61697462e-05 2.52682425e-04\n",
            "  1.23095626e-04 2.27442051e-05 3.15770967e-06 1.14154409e-05\n",
            "  6.16694626e-04 2.24457021e-04 4.83238764e-05 7.82163261e-06\n",
            "  1.80981369e-05 1.30555486e-06 2.31993090e-06 4.25645529e-04\n",
            "  8.63758905e-05 3.05995163e-05 9.51962920e-06 7.38980962e-05\n",
            "  3.87699001e-05 4.71646490e-06 5.92691722e-05 1.16167255e-04\n",
            "  3.02845820e-05 2.45613173e-05 1.60372583e-05 1.05027366e-05\n",
            "  3.27566559e-05 7.95695996e-06 5.59233995e-05 6.61829063e-06\n",
            "  9.10162198e-05 5.63791855e-06 1.84019018e-06 5.39618253e-04\n",
            "  5.77924629e-06 1.86406891e-04 8.77510975e-05 2.05070355e-05\n",
            "  4.61321451e-06 3.47690584e-05 7.32461049e-05 2.17375244e-04\n",
            "  7.30853717e-05 6.20158062e-06 8.96527945e-06 2.32515704e-05\n",
            "  1.11211330e-06 2.07702669e-05 1.00357975e-04 2.34514286e-04\n",
            "  1.58948544e-03 1.81523719e-04 1.96158294e-06 4.57145052e-06\n",
            "  3.24522580e-06 1.12885818e-05 8.37339612e-05 3.75018048e-04\n",
            "  9.05183988e-05 3.43707725e-05 6.27140456e-04 6.86326712e-06\n",
            "  9.29461635e-07 2.17893292e-04 1.53528072e-05 2.13493287e-04\n",
            "  4.14217939e-05 3.02344833e-05 2.65501003e-05 5.80052983e-05\n",
            "  1.40235818e-04 2.59955908e-04 2.37883050e-05 1.13903911e-06\n",
            "  2.78207644e-05 2.76174542e-05 2.47244054e-04 3.13833807e-05\n",
            "  7.30619558e-06 3.88881199e-06 9.42297265e-06 1.37907642e-04\n",
            "  1.89382554e-04 1.77049209e-04 1.48412510e-04 7.17108778e-04\n",
            "  1.58772109e-05 5.33165212e-06 4.22403391e-05 1.77482580e-05\n",
            "  5.65770688e-06 2.84051075e-05 8.31139516e-07 3.68464356e-07\n",
            "  5.04342381e-07 5.98664201e-06 8.37581524e-07 1.02044454e-04\n",
            "  2.79437445e-05 1.24852028e-04 1.84026925e-04 2.36086325e-05\n",
            "  6.47312845e-05 2.75071478e-04 4.75083725e-05 1.88721951e-05\n",
            "  5.58583451e-06 6.62344632e-07 2.94275037e-06 1.41495445e-06\n",
            "  1.10973224e-05 4.89401282e-06 1.56761558e-07 5.49017886e-06\n",
            "  3.98288148e-06 1.36403487e-05 3.08184735e-06 6.61715512e-06\n",
            "  5.72400586e-06 2.63319700e-04 2.69277534e-05 1.47794781e-04\n",
            "  1.99314993e-04 1.33721587e-05 5.08354278e-04 1.11427484e-03\n",
            "  6.93256035e-04 7.77394889e-05 5.42518741e-04 4.69852785e-05\n",
            "  1.52993496e-04 7.90416889e-05 2.05550372e-04 3.32738622e-03\n",
            "  4.63822471e-05 1.96528202e-03 7.44806675e-05 9.29383168e-05\n",
            "  7.66516387e-05 6.04294473e-05 1.15365458e-06 6.11364339e-06\n",
            "  1.98462687e-04 8.64518711e-07 3.94089351e-04 4.58973256e-04\n",
            "  1.03978036e-05 7.66759058e-06 3.56714190e-06 2.98420018e-05\n",
            "  4.25472026e-05 5.32261911e-05 5.59809951e-06 5.09166284e-06\n",
            "  4.02485085e-07 7.81672838e-07 1.06951768e-04 8.91642230e-06\n",
            "  9.07712092e-06 2.00666477e-06 1.38172504e-06 3.74826925e-07\n",
            "  2.02288433e-07 2.16633089e-06 1.92203686e-07 1.41655221e-07\n",
            "  1.09084544e-06 5.37313269e-07 4.48449100e-07 2.77453552e-07\n",
            "  2.94186520e-07 9.76370666e-06 2.55601094e-06 7.33241031e-05\n",
            "  2.91169708e-04 3.78576942e-06 1.95640514e-05 8.06706230e-05\n",
            "  4.66316834e-07 9.85671184e-04 8.03767034e-05 7.51783446e-05\n",
            "  1.78427363e-05 4.08427768e-05 3.69231748e-06 2.00948070e-05\n",
            "  2.90677890e-05 4.92040526e-05 3.82718354e-05 9.86852501e-06\n",
            "  4.92757790e-05 3.21739890e-06 3.89289889e-05 8.55141334e-05\n",
            "  6.99705151e-06 1.72923374e-05 8.01941314e-06 1.72532473e-05\n",
            "  3.44400032e-05 2.09399386e-05 8.39701352e-06 1.25584891e-04\n",
            "  2.58111919e-04 3.56730993e-07 1.51285121e-07 9.67096639e-05\n",
            "  3.40347219e-06 2.02088017e-06 2.58504206e-05 1.94895347e-06\n",
            "  1.43013585e-05 1.16894778e-04 5.35000345e-06 1.38630230e-06\n",
            "  3.00713077e-06 3.05380017e-05 2.60857021e-04 3.05596805e-05\n",
            "  6.21772138e-04 2.57202511e-04 2.91716133e-04 2.95012364e-06\n",
            "  1.59174713e-04 4.39220195e-04 2.76822811e-06 1.78526841e-06\n",
            "  1.20818959e-06 2.68099341e-03 1.64209450e-06 4.52314962e-05\n",
            "  1.87327780e-04 2.86290800e-04 2.22836043e-05 8.37745756e-06\n",
            "  2.29224260e-03 8.43110538e-05 2.53284140e-03 1.39559200e-02\n",
            "  9.71770060e-05 8.29994620e-04 1.68283605e-05 1.50986481e-04\n",
            "  8.32776732e-06 2.20618749e-05 7.79407055e-05 1.77348738e-05\n",
            "  6.01596803e-05 2.48745852e-03 1.72101591e-05 4.76040696e-05\n",
            "  1.79518262e-04 1.81022624e-05 7.42174016e-05 2.92554992e-04\n",
            "  9.17501836e-07 4.83268741e-05 1.02585262e-04 2.73886224e-04\n",
            "  7.24965284e-05 4.00742028e-05 4.85838464e-05 8.18432236e-05\n",
            "  4.91244145e-06 9.29223723e-04 3.06230737e-04 1.32322839e-05\n",
            "  8.87772243e-04 1.84147975e-05 1.96117238e-04 4.16612427e-04\n",
            "  2.08984231e-04 2.27324854e-04 1.66306154e-06 7.08944863e-05\n",
            "  3.38278362e-03 2.16718437e-03 2.52646259e-07 1.88172923e-03\n",
            "  1.01186042e-05 2.77663488e-03 5.06616547e-04 7.73707929e-04\n",
            "  2.81868677e-04 1.44681660e-04 5.71195460e-06 1.50390221e-07\n",
            "  6.33984973e-06 3.43101528e-05 8.02213233e-03 3.17123413e-05\n",
            "  7.61978226e-05 1.67891774e-02 3.89959860e-05 2.23038878e-05\n",
            "  3.67274538e-06 3.22606676e-04 8.94174736e-04 2.02201363e-06\n",
            "  2.83964655e-05 5.03520656e-04 1.82269541e-05 8.31313537e-06\n",
            "  6.61089143e-06 4.67357750e-05 3.62931145e-03 1.03020365e-03\n",
            "  5.02349867e-04 1.34928297e-04 8.13026782e-05 6.22449370e-05\n",
            "  2.55930991e-05 6.63846222e-05 2.85036815e-03 2.56395178e-05\n",
            "  6.23794505e-03 8.69883206e-06 1.82585663e-05 4.93964460e-03\n",
            "  1.50615151e-05 2.54736748e-04 2.63081514e-04 9.93229449e-04\n",
            "  6.55166805e-04 8.80672073e-04 1.43231289e-03 1.42101874e-03\n",
            "  1.85204248e-04 6.97726045e-06 5.10707832e-05 1.06867503e-06\n",
            "  2.06298027e-02 4.66152778e-05 1.32168480e-03 1.21412484e-03\n",
            "  4.50340885e-04 1.19300339e-05 7.95154425e-04 7.82044663e-06\n",
            "  3.01980035e-05 1.09823950e-05 5.08909929e-04 4.80962219e-04\n",
            "  1.48996653e-03 1.47831281e-06 4.39374344e-05 7.67699676e-05\n",
            "  1.97689049e-04 1.17718719e-03 3.32293380e-03 2.12963758e-04\n",
            "  1.02742051e-05 2.88445826e-05 1.46953953e-05 8.95229678e-05\n",
            "  8.85443967e-07 2.97657664e-07 4.27482610e-06 3.07719965e-05\n",
            "  3.83649649e-06 6.76737036e-05 3.81354446e-04 4.68132843e-04\n",
            "  2.95969653e-06 4.35149705e-04 4.10742965e-03 5.80559600e-08\n",
            "  1.68724330e-06 3.54274904e-04 2.92197248e-04 1.09322835e-04\n",
            "  2.24796892e-03 4.08249238e-04 2.35984808e-05 1.98824046e-06\n",
            "  1.53439600e-04 1.18387013e-03 1.84120925e-03 2.09198406e-04\n",
            "  4.67917707e-04 1.82171971e-06 6.69145375e-05 2.44680472e-04\n",
            "  1.55305156e-06 2.18458908e-07 2.29898214e-05 3.02414046e-05\n",
            "  2.65843810e-05 5.65509097e-08 7.36264221e-04 3.31690057e-06\n",
            "  2.43359798e-04 1.07192591e-06 2.58917338e-03 3.75694594e-06\n",
            "  1.01531914e-05 5.87179893e-05 1.01084624e-04 3.21824919e-04\n",
            "  4.19042664e-07 3.33060348e-06 1.27510498e-06 9.10743038e-05\n",
            "  1.72997862e-02 2.74253730e-03 1.43240570e-07 4.70604189e-03\n",
            "  5.16315376e-05 5.40814549e-03 1.21376426e-04 1.37225361e-04\n",
            "  6.08945738e-05 4.15739836e-04 1.84839440e-03 2.89254444e-06\n",
            "  8.11038911e-03 1.99418617e-04 4.13331691e-05 6.98180054e-04\n",
            "  1.93968602e-02 8.14261657e-05 3.64986801e-04 7.96852078e-07\n",
            "  3.56252538e-03 3.04832729e-03 5.68425469e-03 1.49691463e-04\n",
            "  7.84550502e-05 4.15758251e-07 1.35694616e-04 2.47194408e-03\n",
            "  1.06340258e-06 3.36379191e-04 2.04663775e-05 2.91961315e-03\n",
            "  2.35545915e-03 3.53882388e-05 4.62371245e-04 5.84136834e-03\n",
            "  2.00726950e-04 9.14888915e-06 5.76743623e-05 1.49357715e-03\n",
            "  4.40064559e-06 4.05732953e-06 7.31668323e-02 1.12579310e-05\n",
            "  1.52802113e-05 1.42669352e-03 1.36766917e-04 1.11736939e-03\n",
            "  6.72582028e-05 1.04692567e-03 3.14905577e-07 4.83449403e-05\n",
            "  8.70241711e-05 6.79039513e-05 3.16183362e-03 2.12407508e-03\n",
            "  7.23882636e-07 1.03802374e-03 1.15389051e-03 1.43165130e-03\n",
            "  1.25557169e-01 1.83159791e-05 3.02496537e-05 2.12947925e-04\n",
            "  6.54568488e-04 1.03071807e-05 9.47685726e-03 1.85573583e-06\n",
            "  2.22853050e-05 5.96011290e-04 1.12471719e-06 1.08179823e-03\n",
            "  1.47952858e-06 5.77163999e-04 1.48156745e-04 2.52153059e-05\n",
            "  1.62175195e-06 1.71338286e-07 2.65700364e-04 3.24385201e-06\n",
            "  1.23677906e-04 2.14537158e-05 2.96050683e-03 1.05304283e-03\n",
            "  5.52848132e-06 1.25531778e-05 1.28419197e-04 6.81837628e-06\n",
            "  1.15282464e-05 8.76770297e-04 1.16947079e-02 1.56529254e-07\n",
            "  1.89105794e-03 4.64445278e-02 2.72770965e-04 5.09052887e-04\n",
            "  3.92735848e-04 2.05788776e-04 2.69300517e-06 2.37343396e-04\n",
            "  4.14531736e-04 3.57552722e-06 2.92917484e-05 2.58845866e-05\n",
            "  4.55846857e-05 2.51993799e-04 1.67238554e-07 1.27152889e-04\n",
            "  9.58812772e-04 4.10279230e-04 8.00157941e-05 1.61290646e-03\n",
            "  2.85512232e-03 1.16051488e-04 6.30101385e-06 2.75948667e-03\n",
            "  4.68653906e-03 2.77792616e-03 6.56545046e-04 5.09702601e-04\n",
            "  1.13210008e-05 2.03645712e-07 4.52689528e-06 4.73162763e-05\n",
            "  8.80965599e-05 3.86743282e-04 1.83179453e-02 4.67837381e-04\n",
            "  1.14340073e-05 1.52211906e-05 1.26278272e-03 3.31278147e-06\n",
            "  5.19455294e-04 4.65753743e-07 2.93256926e-06 1.75705168e-03\n",
            "  5.99416345e-03 6.67733402e-05 2.58088531e-03 1.07356906e-02\n",
            "  2.14302399e-05 2.97375547e-04 4.82486794e-04 5.65250821e-06\n",
            "  7.00850505e-04 4.03789396e-04 1.94168751e-05 1.67914259e-03\n",
            "  2.02351250e-04 1.57687766e-03 6.97745065e-07 2.98559771e-05\n",
            "  1.16546534e-03 4.03915510e-05 1.65496640e-05 8.37431799e-06\n",
            "  7.17005227e-04 4.04010316e-05 9.16969657e-05 2.88650826e-05\n",
            "  3.56170145e-04 1.12370042e-04 9.23372063e-05 1.19685465e-04\n",
            "  7.94914813e-05 7.72433216e-03 2.86220493e-05 3.99828332e-06\n",
            "  1.94858643e-03 6.33974734e-04 1.34370042e-04 4.92848740e-05\n",
            "  2.71034878e-05 7.25312418e-07 2.20309375e-04 6.70596855e-05\n",
            "  1.14675768e-05 2.62333266e-03 3.13660416e-06 7.42697564e-04\n",
            "  1.36483708e-04 1.90537900e-03 7.21927881e-06 1.56383880e-03\n",
            "  1.54946989e-04 1.93793222e-03 1.16260519e-04 1.96996189e-05\n",
            "  4.76733549e-03 6.53447409e-04 1.64258713e-03 5.94182675e-05\n",
            "  6.25604371e-05 4.31573391e-03 2.42091628e-05 3.36987483e-07\n",
            "  1.85800873e-05 1.13467315e-04 3.55254539e-04 1.23734483e-02\n",
            "  3.29180411e-03 1.73498483e-04 1.43562851e-04 4.47826879e-03\n",
            "  1.32312503e-04 1.03726370e-05 3.47275673e-05 2.72576581e-04\n",
            "  3.97523370e-04 1.03368751e-04 3.07393668e-04 2.25422569e-04\n",
            "  4.48742394e-05 1.12679627e-05 3.24512839e-05 3.39827166e-05\n",
            "  3.18631282e-05 1.64331414e-03 5.76781576e-06 7.09515052e-06\n",
            "  1.04312114e-02 2.64468463e-03 2.83231726e-04 6.42030063e-05\n",
            "  6.48030837e-05 6.29128626e-05 1.95455887e-05 1.01353903e-03\n",
            "  6.93167094e-04 2.03484390e-03 8.22402217e-05 6.83745893e-05\n",
            "  3.14015226e-04 3.77951238e-07 1.28746182e-01 1.42541787e-04\n",
            "  2.27721372e-07 1.11409634e-06 5.31695514e-05 2.52347323e-04\n",
            "  9.07155190e-05 5.94353833e-06 1.44836536e-04 6.16837293e-04\n",
            "  5.14100189e-04 3.11767991e-07 1.65839418e-04 2.52287427e-04\n",
            "  1.11279019e-06 3.38505038e-06 3.40344675e-04 2.13316744e-05\n",
            "  1.09728216e-03 6.61194150e-04 1.39533513e-04 1.27725507e-05\n",
            "  9.61553480e-04 8.66712217e-05 6.44824540e-05 1.56488689e-03\n",
            "  1.90780740e-02 9.11473017e-03 3.52473138e-03 3.56913404e-07\n",
            "  1.90284482e-05 3.26310779e-04 2.82773050e-04 1.13788084e-03\n",
            "  1.85409340e-03 2.38803182e-07 3.17992439e-04 4.48753731e-03\n",
            "  3.01357295e-06 5.09112579e-05 7.48501543e-06 2.33093073e-04\n",
            "  2.97389124e-06 4.19101445e-04 9.62720253e-03 2.58499131e-06\n",
            "  4.73781341e-07 6.02088130e-06 1.13811825e-06 3.89038632e-07\n",
            "  2.03100528e-04 3.08178714e-05 6.38681668e-05 6.61440436e-06\n",
            "  4.00796329e-04 1.29718073e-05 6.85747636e-08 2.22635099e-05\n",
            "  1.95438086e-04 1.54407899e-05 1.04151613e-05 1.11316761e-03\n",
            "  8.48335767e-05 2.78562744e-04 2.07431195e-03 2.78340332e-04\n",
            "  3.91930053e-06 1.30360902e-04 1.67417766e-05 1.09846778e-05\n",
            "  1.20891518e-05 1.07832404e-03 1.70009956e-03 1.22564685e-04\n",
            "  1.26706287e-02 9.99261611e-05 8.94049372e-05 1.84678225e-04\n",
            "  1.25049369e-03 7.12200335e-06 8.79601052e-04 4.13704547e-04\n",
            "  5.39177890e-05 9.68875065e-06 5.72028430e-03 2.09660764e-04\n",
            "  6.17846381e-04 7.06269580e-04 1.64913712e-04 1.12793437e-04\n",
            "  1.33862067e-03 7.54693101e-05 7.81973795e-05 2.89872900e-04\n",
            "  5.19274763e-05 5.52353013e-05 1.66799509e-06 1.13538927e-05\n",
            "  6.61682061e-05 1.26536725e-05 3.73637740e-05 9.00271698e-04\n",
            "  6.14310615e-04 1.51654438e-03 3.77112156e-06 1.55651742e-05\n",
            "  5.35060053e-06 4.01326033e-05 3.43529109e-07 2.44438252e-05\n",
            "  5.16298387e-05 1.93519332e-03 2.02949195e-06 3.47236096e-06\n",
            "  4.10598841e-05 2.54383139e-07 2.72767575e-05 1.37612487e-05\n",
            "  1.47338460e-05 1.13214439e-04 1.72462489e-04 4.74749504e-06\n",
            "  6.79450841e-06 1.19738374e-07 1.32936048e-05 3.80274578e-05\n",
            "  1.19676615e-05 3.86790489e-05 2.92349114e-06 4.64569312e-04\n",
            "  1.48487685e-04 5.56201790e-04 6.99402226e-05 3.24305256e-05\n",
            "  9.05774232e-06 4.76823807e-05 6.60325750e-05 5.41626093e-07\n",
            "  2.30326941e-06 5.42735543e-05 1.49534367e-06 2.92718505e-06\n",
            "  3.22166074e-04 5.47528771e-06 6.85771874e-06 2.04355320e-06\n",
            "  1.18768332e-06 1.53988572e-06 1.19953707e-04 2.96410726e-05\n",
            "  1.32603792e-03 2.26360426e-04 2.08977940e-06 1.60509677e-04\n",
            "  5.67584138e-05 8.49489709e-07 4.51870437e-06 5.56863597e-05\n",
            "  2.59141393e-06 1.65576857e-05 8.14346349e-05 7.35284289e-07\n",
            "  1.13014758e-05 2.66566989e-03 1.82151034e-05 7.84831122e-04\n",
            "  4.28837229e-05 4.51450702e-04 2.10689313e-06 2.45006668e-04\n",
            "  2.10889430e-05 8.22379443e-05 1.24147773e-04 1.01523674e-05\n",
            "  4.65136291e-05 3.71208017e-07 9.47379340e-06 1.14140912e-05\n",
            "  1.41303617e-05 1.32076048e-06 1.85613681e-04 4.78283968e-03]]\n"
          ],
          "name": "stdout"
        }
      ]
    },
    {
      "cell_type": "markdown",
      "metadata": {
        "id": "HtyU3Bpq5Mq6",
        "colab_type": "text"
      },
      "source": [
        "###  Extract features from an arbitrary intermediate layer"
      ]
    },
    {
      "cell_type": "code",
      "metadata": {
        "trusted": false,
        "id": "e7uJx9Km5Mq6",
        "colab_type": "code",
        "outputId": "b2a2cb6f-e1c1-4834-cc8d-74787be06092",
        "colab": {
          "base_uri": "https://localhost:8080/",
          "height": 34
        }
      },
      "source": [
        "model_minimal = Model(input=model.input, output=model.get_layer('conv_dw_2_relu').output)\n",
        "\n",
        "conv_dw_2_relu_features = model_minimal.predict(x)\n",
        "print('Features of conv_dw_2_relu:',conv_dw_2_relu_features.shape)"
      ],
      "execution_count": 0,
      "outputs": [
        {
          "output_type": "stream",
          "text": [
            "Features of conv_dw_2_relu: (1, 56, 56, 16)\n"
          ],
          "name": "stdout"
        }
      ]
    },
    {
      "cell_type": "markdown",
      "metadata": {
        "id": "c6sfxXfR5Mq8",
        "colab_type": "text"
      },
      "source": [
        "### You can extract these features and use the base network as a feature extractor for your problems. "
      ]
    },
    {
      "cell_type": "markdown",
      "metadata": {
        "id": "azShkV9W5Mre",
        "colab_type": "text"
      },
      "source": [
        "## Part 3: Design Choices in Convolutional Neural Networks"
      ]
    },
    {
      "cell_type": "markdown",
      "metadata": {
        "id": "0guaFUZD5Mrf",
        "colab_type": "text"
      },
      "source": [
        "## Influence of convolution size"
      ]
    },
    {
      "cell_type": "markdown",
      "metadata": {
        "id": "yz8ISpwE5Mrf",
        "colab_type": "text"
      },
      "source": [
        "### Model with (3 x 3) Convolution"
      ]
    },
    {
      "cell_type": "code",
      "metadata": {
        "trusted": false,
        "id": "9K322zSY5Mrg",
        "colab_type": "code",
        "outputId": "b5ff1ca0-e65e-4ec4-8009-f30b6d02f0a2",
        "colab": {
          "base_uri": "https://localhost:8080/",
          "height": 406
        }
      },
      "source": [
        "K.clear_session()\n",
        "start = timeit.default_timer()   \n",
        "model = Sequential()\n",
        "model.add(Conv2D(8, kernel_size=(3, 3), activation='relu', input_shape=input_shape))\n",
        "model.add(Conv2D(16, (3, 3), activation='relu'))\n",
        "model.add(Flatten())\n",
        "model.add(Dense(32, activation='relu'))\n",
        "model.add(Dense(num_classes, activation='softmax'))\n",
        "model.summary()\n",
        "model.compile(loss=keras.losses.categorical_crossentropy, optimizer=keras.optimizers.Adadelta(), metrics=['accuracy'])\n",
        "model.fit(x_train, y_train, batch_size=batch_size, epochs=epochs, verbose=1, validation_data=(x_test, y_test))\n",
        "end = timeit.default_timer()\n",
        "print(\"Time Taken to run the model:\",end - start, \"seconds\")  "
      ],
      "execution_count": 0,
      "outputs": [
        {
          "output_type": "stream",
          "text": [
            "Model: \"sequential_1\"\n",
            "_________________________________________________________________\n",
            "Layer (type)                 Output Shape              Param #   \n",
            "=================================================================\n",
            "conv2d_1 (Conv2D)            (None, 26, 26, 8)         80        \n",
            "_________________________________________________________________\n",
            "conv2d_2 (Conv2D)            (None, 24, 24, 16)        1168      \n",
            "_________________________________________________________________\n",
            "flatten_1 (Flatten)          (None, 9216)              0         \n",
            "_________________________________________________________________\n",
            "dense_1 (Dense)              (None, 32)                294944    \n",
            "_________________________________________________________________\n",
            "dense_2 (Dense)              (None, 10)                330       \n",
            "=================================================================\n",
            "Total params: 296,522\n",
            "Trainable params: 296,522\n",
            "Non-trainable params: 0\n",
            "_________________________________________________________________\n",
            "Train on 60000 samples, validate on 10000 samples\n",
            "Epoch 1/1\n",
            "60000/60000 [==============================] - 34s 574us/step - loss: 0.2252 - accuracy: 0.9332 - val_loss: 0.0738 - val_accuracy: 0.9782\n",
            "Time Taken to run the model: 35.119032508999965 seconds\n"
          ],
          "name": "stdout"
        }
      ]
    },
    {
      "cell_type": "markdown",
      "metadata": {
        "id": "61qzM8S45Mri",
        "colab_type": "text"
      },
      "source": [
        "### Model with (7 x 7) Convolution"
      ]
    },
    {
      "cell_type": "code",
      "metadata": {
        "trusted": false,
        "id": "AvrcAqfM5Mri",
        "colab_type": "code",
        "colab": {}
      },
      "source": [
        "# Write your code here \n",
        "\n",
        "# Use the same model design from the above cell "
      ],
      "execution_count": 0,
      "outputs": []
    },
    {
      "cell_type": "markdown",
      "metadata": {
        "id": "hTsZ9YgN5Mrm",
        "colab_type": "text"
      },
      "source": [
        "## Striding"
      ]
    },
    {
      "cell_type": "markdown",
      "metadata": {
        "id": "WVX78fVn5Mrm",
        "colab_type": "text"
      },
      "source": [
        "### Model with (7 x 7) Convolution with 2 Steps"
      ]
    },
    {
      "cell_type": "code",
      "metadata": {
        "trusted": false,
        "id": "R3ETjDFT5Mrn",
        "colab_type": "code",
        "outputId": "54f462e7-5c11-42b3-c6c9-348fa885d75f",
        "colab": {}
      },
      "source": [
        "start = timeit.default_timer()   \n",
        "model = Sequential()\n",
        "model.add(Conv2D(8, kernel_size=(7, 7), strides=2, activation='relu', input_shape=input_shape))\n",
        "model.add(Conv2D(16, (7, 7), strides=2, activation='relu'))\n",
        "model.add(Flatten())\n",
        "model.add(Dense(32, activation='relu'))\n",
        "model.add(Dense(num_classes, activation='softmax'))\n",
        "model.summary()\n",
        "model.compile(loss=keras.losses.categorical_crossentropy, optimizer=keras.optimizers.Adadelta(), metrics=['accuracy'])\n",
        "model.fit(x_train, y_train, batch_size=batch_size, epochs=epochs, verbose=1, validation_data=(x_test, y_test))\n",
        "end = timeit.default_timer()\n",
        "print(\"Time Taken to run the model:\",end - start, \"seconds\")  "
      ],
      "execution_count": 0,
      "outputs": [
        {
          "output_type": "stream",
          "text": [
            "_________________________________________________________________\n",
            "Layer (type)                 Output Shape              Param #   \n",
            "=================================================================\n",
            "conv2d_5 (Conv2D)            (None, 11, 11, 8)         400       \n",
            "_________________________________________________________________\n",
            "conv2d_6 (Conv2D)            (None, 3, 3, 16)          6288      \n",
            "_________________________________________________________________\n",
            "flatten_3 (Flatten)          (None, 144)               0         \n",
            "_________________________________________________________________\n",
            "dense_5 (Dense)              (None, 32)                4640      \n",
            "_________________________________________________________________\n",
            "dense_6 (Dense)              (None, 10)                330       \n",
            "=================================================================\n",
            "Total params: 11,658\n",
            "Trainable params: 11,658\n",
            "Non-trainable params: 0\n",
            "_________________________________________________________________\n",
            "Train on 60000 samples, validate on 10000 samples\n",
            "Epoch 1/1\n",
            "60000/60000 [==============================] - 10s - loss: 0.4857 - acc: 0.8538 - val_loss: 0.2030 - val_acc: 0.9406\n",
            "Time Taken to run the model: 11.768721722642567 seconds\n"
          ],
          "name": "stdout"
        }
      ]
    },
    {
      "cell_type": "markdown",
      "metadata": {
        "id": "NJbsTJ6Y5Mrq",
        "colab_type": "text"
      },
      "source": [
        "## Padding"
      ]
    },
    {
      "cell_type": "markdown",
      "metadata": {
        "id": "xx06auxz5Mrr",
        "colab_type": "text"
      },
      "source": [
        "### Model with (7 x 7) Convolution with Same Padding"
      ]
    },
    {
      "cell_type": "code",
      "metadata": {
        "trusted": false,
        "id": "ohvUonFs5Mrr",
        "colab_type": "code",
        "outputId": "5c7d3d03-e270-4027-ba27-edd3c3e7e799",
        "colab": {}
      },
      "source": [
        "start = timeit.default_timer()   \n",
        "model = Sequential()\n",
        "model.add(Conv2D(8, kernel_size=(7, 7), strides=1, padding='same', activation='relu', input_shape=input_shape))\n",
        "model.add(Conv2D(16, (7, 7), strides=1, padding='same', activation='relu'))\n",
        "model.add(Flatten())\n",
        "model.add(Dense(32, activation='relu'))\n",
        "model.add(Dense(num_classes, activation='softmax'))\n",
        "model.summary()\n",
        "model.compile(loss=keras.losses.categorical_crossentropy, optimizer=keras.optimizers.Adadelta(), metrics=['accuracy'])\n",
        "model.fit(x_train, y_train, batch_size=batch_size, epochs=epochs, verbose=1, validation_data=(x_test, y_test))\n",
        "end = timeit.default_timer()\n",
        "print(\"Time Taken to run the model:\",end - start, \"seconds\")  "
      ],
      "execution_count": 0,
      "outputs": [
        {
          "output_type": "stream",
          "text": [
            "_________________________________________________________________\n",
            "Layer (type)                 Output Shape              Param #   \n",
            "=================================================================\n",
            "conv2d_7 (Conv2D)            (None, 28, 28, 8)         400       \n",
            "_________________________________________________________________\n",
            "conv2d_8 (Conv2D)            (None, 28, 28, 16)        6288      \n",
            "_________________________________________________________________\n",
            "flatten_4 (Flatten)          (None, 12544)             0         \n",
            "_________________________________________________________________\n",
            "dense_7 (Dense)              (None, 32)                401440    \n",
            "_________________________________________________________________\n",
            "dense_8 (Dense)              (None, 10)                330       \n",
            "=================================================================\n",
            "Total params: 408,458\n",
            "Trainable params: 408,458\n",
            "Non-trainable params: 0\n",
            "_________________________________________________________________\n",
            "Train on 60000 samples, validate on 10000 samples\n",
            "Epoch 1/1\n",
            "60000/60000 [==============================] - 199s - loss: 0.2605 - acc: 0.9204 - val_loss: 0.0782 - val_acc: 0.9757\n",
            "Time Taken to run the model: 200.20336358687018 seconds\n"
          ],
          "name": "stdout"
        }
      ]
    },
    {
      "cell_type": "markdown",
      "metadata": {
        "id": "A47tcqDK5Mru",
        "colab_type": "text"
      },
      "source": [
        "## Pooling"
      ]
    },
    {
      "cell_type": "markdown",
      "metadata": {
        "id": "CEpL911U5Mru",
        "colab_type": "text"
      },
      "source": [
        "### Model with (3 x 3) Convolution with Pooling (2 x 2) "
      ]
    },
    {
      "cell_type": "code",
      "metadata": {
        "trusted": false,
        "id": "Y3mS7MJR5Mrv",
        "colab_type": "code",
        "outputId": "30135a7c-f74d-476f-dfc6-6f8bcb9d58c1",
        "colab": {}
      },
      "source": [
        "start = timeit.default_timer()   \n",
        "model = Sequential()\n",
        "model.add(Conv2D(8, kernel_size=(3, 3), activation='relu', input_shape=input_shape))\n",
        "model.add(MaxPooling2D(pool_size=(2, 2)))\n",
        "model.add(Conv2D(16, (3, 3), activation='relu'))\n",
        "model.add(MaxPooling2D(pool_size=(2, 2)))\n",
        "model.add(Flatten())\n",
        "model.add(Dense(32, activation='relu'))\n",
        "model.add(Dense(num_classes, activation='softmax'))\n",
        "model.summary()\n",
        "model.compile(loss=keras.losses.categorical_crossentropy, optimizer=keras.optimizers.Adadelta(), metrics=['accuracy'])\n",
        "model.fit(x_train, y_train, batch_size=batch_size, epochs=epochs, verbose=1, validation_data=(x_test, y_test))\n",
        "end = timeit.default_timer()\n",
        "print(\"Time Taken to run the model:\",end - start, \"seconds\")  "
      ],
      "execution_count": 0,
      "outputs": [
        {
          "output_type": "stream",
          "text": [
            "_________________________________________________________________\n",
            "Layer (type)                 Output Shape              Param #   \n",
            "=================================================================\n",
            "conv2d_9 (Conv2D)            (None, 26, 26, 8)         80        \n",
            "_________________________________________________________________\n",
            "max_pooling2d_1 (MaxPooling2 (None, 13, 13, 8)         0         \n",
            "_________________________________________________________________\n",
            "conv2d_10 (Conv2D)           (None, 11, 11, 16)        1168      \n",
            "_________________________________________________________________\n",
            "max_pooling2d_2 (MaxPooling2 (None, 5, 5, 16)          0         \n",
            "_________________________________________________________________\n",
            "flatten_5 (Flatten)          (None, 400)               0         \n",
            "_________________________________________________________________\n",
            "dense_9 (Dense)              (None, 32)                12832     \n",
            "_________________________________________________________________\n",
            "dense_10 (Dense)             (None, 10)                330       \n",
            "=================================================================\n",
            "Total params: 14,410\n",
            "Trainable params: 14,410\n",
            "Non-trainable params: 0\n",
            "_________________________________________________________________\n",
            "Train on 60000 samples, validate on 10000 samples\n",
            "Epoch 1/1\n",
            "60000/60000 [==============================] - 19s - loss: 0.5311 - acc: 0.8400 - val_loss: 0.1740 - val_acc: 0.9499\n",
            "Time Taken to run the model: 20.076150678315344 seconds\n"
          ],
          "name": "stdout"
        }
      ]
    },
    {
      "cell_type": "markdown",
      "metadata": {
        "id": "cG9nRWmO5Mrx",
        "colab_type": "text"
      },
      "source": [
        "### Model with (3 x 3) Convolution with Pooling (3 x 3) "
      ]
    },
    {
      "cell_type": "code",
      "metadata": {
        "trusted": false,
        "id": "0Q8dwbSc5Mrx",
        "colab_type": "code",
        "colab": {}
      },
      "source": [
        "# Write your code here \n",
        "\n",
        "# Use the same model design from the above cell "
      ],
      "execution_count": 0,
      "outputs": []
    },
    {
      "cell_type": "markdown",
      "metadata": {
        "id": "9zleA9Au5Mrz",
        "colab_type": "text"
      },
      "source": [
        "### What are your findings?"
      ]
    }
  ]
}