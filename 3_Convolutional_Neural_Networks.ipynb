{
  "nbformat": 4,
  "nbformat_minor": 0,
  "metadata": {
    "kernelspec": {
      "name": "python3",
      "display_name": "Python 3",
      "language": "python"
    },
    "language_info": {
      "mimetype": "text/x-python",
      "nbconvert_exporter": "python",
      "name": "python",
      "file_extension": ".py",
      "version": "3.5.4",
      "pygments_lexer": "ipython3",
      "codemirror_mode": {
        "version": 3,
        "name": "ipython"
      }
    },
    "colab": {
      "name": "3.Convolutional_Neural_Networks.ipynb",
      "provenance": [],
      "collapsed_sections": [
        "61qzM8S45Mri",
        "WVX78fVn5Mrm",
        "xx06auxz5Mrr",
        "CEpL911U5Mru",
        "cG9nRWmO5Mrx",
        "9zleA9Au5Mrz"
      ],
      "toc_visible": true,
      "include_colab_link": true
    }
  },
  "cells": [
    {
      "cell_type": "markdown",
      "metadata": {
        "id": "view-in-github",
        "colab_type": "text"
      },
      "source": [
        "<a href=\"https://colab.research.google.com/github/Mayank-goyal2424/Learning.it/blob/master/3_Convolutional_Neural_Networks.ipynb\" target=\"_parent\"><img src=\"https://colab.research.google.com/assets/colab-badge.svg\" alt=\"Open In Colab\"/></a>"
      ]
    },
    {
      "cell_type": "markdown",
      "metadata": {
        "id": "MELvHtTYabr1",
        "colab_type": "text"
      },
      "source": [
        ""
      ]
    },
    {
      "cell_type": "markdown",
      "metadata": {
        "id": "Vm5Q1lkZ5MqR",
        "colab_type": "text"
      },
      "source": [
        "# Part 1: Convolutional Neural Network"
      ]
    },
    {
      "cell_type": "markdown",
      "metadata": {
        "id": "xfHOO-Wb5MqS",
        "colab_type": "text"
      },
      "source": [
        "###  Importing packages"
      ]
    },
    {
      "cell_type": "code",
      "metadata": {
        "trusted": true,
        "id": "TOMoJAcn5MqT",
        "colab_type": "code",
        "outputId": "03522e15-3969-4b66-88bc-6be6533a1071",
        "colab": {
          "base_uri": "https://localhost:8080/",
          "height": 34
        }
      },
      "source": [
        "import numpy as np\n",
        "import keras\n",
        "from keras.datasets import mnist\n",
        "from keras.models import Sequential\n",
        "from keras.layers import Dense, Dropout, Flatten, Conv2D, MaxPooling2D\n",
        "from keras import backend as K\n",
        "from keras.preprocessing import image\n",
        "from keras.applications.mobilenet import MobileNet\n",
        "from keras.applications.vgg16 import preprocess_input, decode_predictions\n",
        "from keras.models import Model\n",
        "import timeit\n",
        "\n",
        "import warnings\n",
        "warnings.filterwarnings('ignore')"
      ],
      "execution_count": 1,
      "outputs": [
        {
          "output_type": "stream",
          "text": [
            "Using TensorFlow backend.\n"
          ],
          "name": "stderr"
        }
      ]
    },
    {
      "cell_type": "markdown",
      "metadata": {
        "id": "3B5N8q7s5MqX",
        "colab_type": "text"
      },
      "source": [
        "### Preparing Dataset"
      ]
    },
    {
      "cell_type": "code",
      "metadata": {
        "trusted": true,
        "id": "bVn2Bad35MqY",
        "colab_type": "code",
        "outputId": "be78fd8c-d491-4ec6-c200-5da756162fca",
        "colab": {
          "base_uri": "https://localhost:8080/",
          "height": 101
        }
      },
      "source": [
        "batch_size = 128\n",
        "num_classes = 10\n",
        "epochs = 1\n",
        "\n",
        "# input image dimensions\n",
        "img_rows, img_cols = 28, 28\n",
        "\n",
        "# the data, shuffled and split between train and test sets\n",
        "(x_train, y_train), (x_test, y_test) = mnist.load_data()\n",
        "\n",
        "if K.image_data_format() == 'channels_first':\n",
        "    x_train = x_train.reshape(x_train.shape[0], 1, img_rows, img_cols)\n",
        "    x_test = x_test.reshape(x_test.shape[0], 1, img_rows, img_cols)\n",
        "    input_shape = (1, img_rows, img_cols)\n",
        "else:\n",
        "    x_train = x_train.reshape(x_train.shape[0], img_rows, img_cols, 1)\n",
        "    x_test = x_test.reshape(x_test.shape[0], img_rows, img_cols, 1)\n",
        "    input_shape = (img_rows, img_cols, 1)\n",
        "\n",
        "x_train = x_train.astype('float32')\n",
        "x_test = x_test.astype('float32')\n",
        "x_train /= 255\n",
        "x_test /= 255\n",
        "print('x_train shape:', x_train.shape)\n",
        "print(x_train.shape[0], 'train samples')\n",
        "print(x_test.shape[0], 'test samples')\n",
        "\n",
        "# convert class vectors to binary class matrices\n",
        "y_train = keras.utils.to_categorical(y_train, num_classes)\n",
        "y_test = keras.utils.to_categorical(y_test, num_classes)"
      ],
      "execution_count": 2,
      "outputs": [
        {
          "output_type": "stream",
          "text": [
            "Downloading data from https://s3.amazonaws.com/img-datasets/mnist.npz\n",
            "11493376/11490434 [==============================] - 0s 0us/step\n",
            "x_train shape: (60000, 28, 28, 1)\n",
            "60000 train samples\n",
            "10000 test samples\n"
          ],
          "name": "stdout"
        }
      ]
    },
    {
      "cell_type": "markdown",
      "metadata": {
        "id": "vypECcQh5Mqb",
        "colab_type": "text"
      },
      "source": [
        "### Building a Model"
      ]
    },
    {
      "cell_type": "code",
      "metadata": {
        "trusted": true,
        "id": "ZqCwnNdm5Mqb",
        "colab_type": "code",
        "outputId": "94d3e9a1-fe49-4824-9189-397d9273f378",
        "colab": {
          "base_uri": "https://localhost:8080/",
          "height": 454
        }
      },
      "source": [
        "model = Sequential()\n",
        "model.add(Conv2D(8, kernel_size=(3, 3), activation='relu', input_shape=input_shape))\n",
        "model.add(MaxPooling2D(pool_size=(2, 2)))\n",
        "model.add(Conv2D(16, (3, 3), activation='relu'))\n",
        "model.add(MaxPooling2D(pool_size=(2, 2)))\n",
        "model.add(Dropout(0.25))\n",
        "model.add(Flatten())\n",
        "model.add(Dense(32, activation='relu'))\n",
        "model.add(Dropout(0.5))\n",
        "model.add(Dense(num_classes, activation='softmax'))\n",
        "model.summary()"
      ],
      "execution_count": 3,
      "outputs": [
        {
          "output_type": "stream",
          "text": [
            "Model: \"sequential_1\"\n",
            "_________________________________________________________________\n",
            "Layer (type)                 Output Shape              Param #   \n",
            "=================================================================\n",
            "conv2d_1 (Conv2D)            (None, 26, 26, 8)         80        \n",
            "_________________________________________________________________\n",
            "max_pooling2d_1 (MaxPooling2 (None, 13, 13, 8)         0         \n",
            "_________________________________________________________________\n",
            "conv2d_2 (Conv2D)            (None, 11, 11, 16)        1168      \n",
            "_________________________________________________________________\n",
            "max_pooling2d_2 (MaxPooling2 (None, 5, 5, 16)          0         \n",
            "_________________________________________________________________\n",
            "dropout_1 (Dropout)          (None, 5, 5, 16)          0         \n",
            "_________________________________________________________________\n",
            "flatten_1 (Flatten)          (None, 400)               0         \n",
            "_________________________________________________________________\n",
            "dense_1 (Dense)              (None, 32)                12832     \n",
            "_________________________________________________________________\n",
            "dropout_2 (Dropout)          (None, 32)                0         \n",
            "_________________________________________________________________\n",
            "dense_2 (Dense)              (None, 10)                330       \n",
            "=================================================================\n",
            "Total params: 14,410\n",
            "Trainable params: 14,410\n",
            "Non-trainable params: 0\n",
            "_________________________________________________________________\n"
          ],
          "name": "stdout"
        }
      ]
    },
    {
      "cell_type": "markdown",
      "metadata": {
        "id": "KxJxqZMQ5Mqe",
        "colab_type": "text"
      },
      "source": [
        "### Model Training"
      ]
    },
    {
      "cell_type": "code",
      "metadata": {
        "trusted": true,
        "id": "xJ_7tUP-5Mqf",
        "colab_type": "code",
        "outputId": "b2fa0fac-7c1f-4412-f592-f797d31371c5",
        "colab": {
          "base_uri": "https://localhost:8080/",
          "height": 104
        }
      },
      "source": [
        "model.compile(loss=keras.losses.categorical_crossentropy,\n",
        "              optimizer=keras.optimizers.Adadelta(),\n",
        "              metrics=['accuracy'])\n",
        "\n",
        "model.fit(x_train, y_train,\n",
        "          batch_size=batch_size,\n",
        "          epochs=epochs,\n",
        "          verbose=1,\n",
        "          validation_data=(x_test, y_test))"
      ],
      "execution_count": 4,
      "outputs": [
        {
          "output_type": "stream",
          "text": [
            "Train on 60000 samples, validate on 10000 samples\n",
            "Epoch 1/1\n",
            "60000/60000 [==============================] - 20s 327us/step - loss: 0.7666 - accuracy: 0.7388 - val_loss: 0.1252 - val_accuracy: 0.9649\n"
          ],
          "name": "stdout"
        },
        {
          "output_type": "execute_result",
          "data": {
            "text/plain": [
              "<keras.callbacks.callbacks.History at 0x7fdbd4386d30>"
            ]
          },
          "metadata": {
            "tags": []
          },
          "execution_count": 4
        }
      ]
    },
    {
      "cell_type": "markdown",
      "metadata": {
        "id": "xXw2PWV05Mqh",
        "colab_type": "text"
      },
      "source": [
        "### Testing"
      ]
    },
    {
      "cell_type": "code",
      "metadata": {
        "trusted": false,
        "id": "zlY2SsG45Mqi",
        "colab_type": "code",
        "outputId": "a2ef2b78-7e95-48ce-e4b5-b6f888a40542",
        "colab": {
          "base_uri": "https://localhost:8080/",
          "height": 50
        }
      },
      "source": [
        "score = model.evaluate(x_test, y_test, verbose=0)\n",
        "print('Test loss:', score[0])\n",
        "print('Test accuracy:', score[1])"
      ],
      "execution_count": 5,
      "outputs": [
        {
          "output_type": "stream",
          "text": [
            "Test loss: 0.12519633873030545\n",
            "Test accuracy: 0.964900016784668\n"
          ],
          "name": "stdout"
        }
      ]
    },
    {
      "cell_type": "markdown",
      "metadata": {
        "id": "SCykB-U05Mql",
        "colab_type": "text"
      },
      "source": [
        "### Prediction"
      ]
    },
    {
      "cell_type": "code",
      "metadata": {
        "trusted": false,
        "id": "WMDBJh2r5Mql",
        "colab_type": "code",
        "outputId": "cf33985a-ebe1-44e7-b6a5-992d1dcf0054",
        "colab": {
          "base_uri": "https://localhost:8080/",
          "height": 265
        }
      },
      "source": [
        "import pylab as plt\n",
        "\n",
        "plt.imshow(x_test[122].reshape(28,28),cmap='gray')\n",
        "plt.show()"
      ],
      "execution_count": 6,
      "outputs": [
        {
          "output_type": "display_data",
          "data": {
            "image/png": "[encoded data removed]",
            "text/plain": [
              "<Figure size 432x288 with 1 Axes>"
            ]
          },
          "metadata": {
            "tags": [],
            "needs_background": "light"
          }
        }
      ]
    },
    {
      "cell_type": "code",
      "metadata": {
        "scrolled": true,
        "trusted": false,
        "id": "qUcDmrrk5Mqt",
        "colab_type": "code",
        "outputId": "f2cfe018-0753-4ebb-b806-b57c9f85e7bb",
        "colab": {
          "base_uri": "https://localhost:8080/",
          "height": 168
        }
      },
      "source": [
        "import numpy as np\n",
        "prediction = model.predict(x_test[122:123])\n",
        "print('Prediction Score:\\n',prediction[0])\n",
        "thresholded = (prediction>0.5)*1\n",
        "print('\\nThresholded Score:\\n',thresholded[0])\n",
        "print('\\nPredicted Digit:\\n',np.where(thresholded == 1)[1][0])"
      ],
      "execution_count": 7,
      "outputs": [
        {
          "output_type": "stream",
          "text": [
            "Prediction Score:\n",
            " [4.8380031e-07 2.0951752e-06 9.4195435e-05 4.3588545e-05 1.3705211e-06\n",
            " 1.1471781e-06 2.5523701e-09 9.9887902e-01 1.5312462e-05 9.6283434e-04]\n",
            "\n",
            "Thresholded Score:\n",
            " [0 0 0 0 0 0 0 1 0 0]\n",
            "\n",
            "Predicted Digit:\n",
            " 7\n"
          ],
          "name": "stdout"
        }
      ]
    },
    {
      "cell_type": "markdown",
      "metadata": {
        "id": "-7ExMABB5Mqv",
        "colab_type": "text"
      },
      "source": [
        "# Part 2: Applications of Convolutional Neural Network"
      ]
    },
    {
      "cell_type": "markdown",
      "metadata": {
        "id": "JAnLz4fi5Mqw",
        "colab_type": "text"
      },
      "source": [
        "###  MobileNet Models"
      ]
    },
    {
      "cell_type": "code",
      "metadata": {
        "trusted": false,
        "id": "eo7QIJPw5Mqw",
        "colab_type": "code",
        "outputId": "5edee6f3-85ff-4860-bcf4-c959aaef12fc",
        "colab": {
          "base_uri": "https://localhost:8080/",
          "height": 1000
        }
      },
      "source": [
        "model = MobileNet(input_shape=None, alpha=0.25, depth_multiplier=1, dropout=1e-3, \n",
        "                                 include_top=True, weights='imagenet', input_tensor=None, pooling=None, classes=1000)\n",
        "\n",
        "model.summary()"
      ],
      "execution_count": 8,
      "outputs": [
        {
          "output_type": "stream",
          "text": [
            "Downloading data from https://github.com/fchollet/deep-learning-models/releases/download/v0.6/mobilenet_2_5_224_tf.h5\n",
            "2113536/2108140 [==============================] - 0s 0us/step\n",
            "Model: \"mobilenet_0.25_224\"\n",
            "_________________________________________________________________\n",
            "Layer (type)                 Output Shape              Param #   \n",
            "=================================================================\n",
            "input_1 (InputLayer)         (None, 224, 224, 3)       0         \n",
            "_________________________________________________________________\n",
            "conv1_pad (ZeroPadding2D)    (None, 225, 225, 3)       0         \n",
            "_________________________________________________________________\n",
            "conv1 (Conv2D)               (None, 112, 112, 8)       216       \n",
            "_________________________________________________________________\n",
            "conv1_bn (BatchNormalization (None, 112, 112, 8)       32        \n",
            "_________________________________________________________________\n",
            "conv1_relu (ReLU)            (None, 112, 112, 8)       0         \n",
            "_________________________________________________________________\n",
            "conv_dw_1 (DepthwiseConv2D)  (None, 112, 112, 8)       72        \n",
            "_________________________________________________________________\n",
            "conv_dw_1_bn (BatchNormaliza (None, 112, 112, 8)       32        \n",
            "_________________________________________________________________\n",
            "conv_dw_1_relu (ReLU)        (None, 112, 112, 8)       0         \n",
            "_________________________________________________________________\n",
            "conv_pw_1 (Conv2D)           (None, 112, 112, 16)      128       \n",
            "_________________________________________________________________\n",
            "conv_pw_1_bn (BatchNormaliza (None, 112, 112, 16)      64        \n",
            "_________________________________________________________________\n",
            "conv_pw_1_relu (ReLU)        (None, 112, 112, 16)      0         \n",
            "_________________________________________________________________\n",
            "conv_pad_2 (ZeroPadding2D)   (None, 113, 113, 16)      0         \n",
            "_________________________________________________________________\n",
            "conv_dw_2 (DepthwiseConv2D)  (None, 56, 56, 16)        144       \n",
            "_________________________________________________________________\n",
            "conv_dw_2_bn (BatchNormaliza (None, 56, 56, 16)        64        \n",
            "_________________________________________________________________\n",
            "conv_dw_2_relu (ReLU)        (None, 56, 56, 16)        0         \n",
            "_________________________________________________________________\n",
            "conv_pw_2 (Conv2D)           (None, 56, 56, 32)        512       \n",
            "_________________________________________________________________\n",
            "conv_pw_2_bn (BatchNormaliza (None, 56, 56, 32)        128       \n",
            "_________________________________________________________________\n",
            "conv_pw_2_relu (ReLU)        (None, 56, 56, 32)        0         \n",
            "_________________________________________________________________\n",
            "conv_dw_3 (DepthwiseConv2D)  (None, 56, 56, 32)        288       \n",
            "_________________________________________________________________\n",
            "conv_dw_3_bn (BatchNormaliza (None, 56, 56, 32)        128       \n",
            "_________________________________________________________________\n",
            "conv_dw_3_relu (ReLU)        (None, 56, 56, 32)        0         \n",
            "_________________________________________________________________\n",
            "conv_pw_3 (Conv2D)           (None, 56, 56, 32)        1024      \n",
            "_________________________________________________________________\n",
            "conv_pw_3_bn (BatchNormaliza (None, 56, 56, 32)        128       \n",
            "_________________________________________________________________\n",
            "conv_pw_3_relu (ReLU)        (None, 56, 56, 32)        0         \n",
            "_________________________________________________________________\n",
            "conv_pad_4 (ZeroPadding2D)   (None, 57, 57, 32)        0         \n",
            "_________________________________________________________________\n",
            "conv_dw_4 (DepthwiseConv2D)  (None, 28, 28, 32)        288       \n",
            "_________________________________________________________________\n",
            "conv_dw_4_bn (BatchNormaliza (None, 28, 28, 32)        128       \n",
            "_________________________________________________________________\n",
            "conv_dw_4_relu (ReLU)        (None, 28, 28, 32)        0         \n",
            "_________________________________________________________________\n",
            "conv_pw_4 (Conv2D)           (None, 28, 28, 64)        2048      \n",
            "_________________________________________________________________\n",
            "conv_pw_4_bn (BatchNormaliza (None, 28, 28, 64)        256       \n",
            "_________________________________________________________________\n",
            "conv_pw_4_relu (ReLU)        (None, 28, 28, 64)        0         \n",
            "_________________________________________________________________\n",
            "conv_dw_5 (DepthwiseConv2D)  (None, 28, 28, 64)        576       \n",
            "_________________________________________________________________\n",
            "conv_dw_5_bn (BatchNormaliza (None, 28, 28, 64)        256       \n",
            "_________________________________________________________________\n",
            "conv_dw_5_relu (ReLU)        (None, 28, 28, 64)        0         \n",
            "_________________________________________________________________\n",
            "conv_pw_5 (Conv2D)           (None, 28, 28, 64)        4096      \n",
            "_________________________________________________________________\n",
            "conv_pw_5_bn (BatchNormaliza (None, 28, 28, 64)        256       \n",
            "_________________________________________________________________\n",
            "conv_pw_5_relu (ReLU)        (None, 28, 28, 64)        0         \n",
            "_________________________________________________________________\n",
            "conv_pad_6 (ZeroPadding2D)   (None, 29, 29, 64)        0         \n",
            "_________________________________________________________________\n",
            "conv_dw_6 (DepthwiseConv2D)  (None, 14, 14, 64)        576       \n",
            "_________________________________________________________________\n",
            "conv_dw_6_bn (BatchNormaliza (None, 14, 14, 64)        256       \n",
            "_________________________________________________________________\n",
            "conv_dw_6_relu (ReLU)        (None, 14, 14, 64)        0         \n",
            "_________________________________________________________________\n",
            "conv_pw_6 (Conv2D)           (None, 14, 14, 128)       8192      \n",
            "_________________________________________________________________\n",
            "conv_pw_6_bn (BatchNormaliza (None, 14, 14, 128)       512       \n",
            "_________________________________________________________________\n",
            "conv_pw_6_relu (ReLU)        (None, 14, 14, 128)       0         \n",
            "_________________________________________________________________\n",
            "conv_dw_7 (DepthwiseConv2D)  (None, 14, 14, 128)       1152      \n",
            "_________________________________________________________________\n",
            "conv_dw_7_bn (BatchNormaliza (None, 14, 14, 128)       512       \n",
            "_________________________________________________________________\n",
            "conv_dw_7_relu (ReLU)        (None, 14, 14, 128)       0         \n",
            "_________________________________________________________________\n",
            "conv_pw_7 (Conv2D)           (None, 14, 14, 128)       16384     \n",
            "_________________________________________________________________\n",
            "conv_pw_7_bn (BatchNormaliza (None, 14, 14, 128)       512       \n",
            "_________________________________________________________________\n",
            "conv_pw_7_relu (ReLU)        (None, 14, 14, 128)       0         \n",
            "_________________________________________________________________\n",
            "conv_dw_8 (DepthwiseConv2D)  (None, 14, 14, 128)       1152      \n",
            "_________________________________________________________________\n",
            "conv_dw_8_bn (BatchNormaliza (None, 14, 14, 128)       512       \n",
            "_________________________________________________________________\n",
            "conv_dw_8_relu (ReLU)        (None, 14, 14, 128)       0         \n",
            "_________________________________________________________________\n",
            "conv_pw_8 (Conv2D)           (None, 14, 14, 128)       16384     \n",
            "_________________________________________________________________\n",
            "conv_pw_8_bn (BatchNormaliza (None, 14, 14, 128)       512       \n",
            "_________________________________________________________________\n",
            "conv_pw_8_relu (ReLU)        (None, 14, 14, 128)       0         \n",
            "_________________________________________________________________\n",
            "conv_dw_9 (DepthwiseConv2D)  (None, 14, 14, 128)       1152      \n",
            "_________________________________________________________________\n",
            "conv_dw_9_bn (BatchNormaliza (None, 14, 14, 128)       512       \n",
            "_________________________________________________________________\n",
            "conv_dw_9_relu (ReLU)        (None, 14, 14, 128)       0         \n",
            "_________________________________________________________________\n",
            "conv_pw_9 (Conv2D)           (None, 14, 14, 128)       16384     \n",
            "_________________________________________________________________\n",
            "conv_pw_9_bn (BatchNormaliza (None, 14, 14, 128)       512       \n",
            "_________________________________________________________________\n",
            "conv_pw_9_relu (ReLU)        (None, 14, 14, 128)       0         \n",
            "_________________________________________________________________\n",
            "conv_dw_10 (DepthwiseConv2D) (None, 14, 14, 128)       1152      \n",
            "_________________________________________________________________\n",
            "conv_dw_10_bn (BatchNormaliz (None, 14, 14, 128)       512       \n",
            "_________________________________________________________________\n",
            "conv_dw_10_relu (ReLU)       (None, 14, 14, 128)       0         \n",
            "_________________________________________________________________\n",
            "conv_pw_10 (Conv2D)          (None, 14, 14, 128)       16384     \n",
            "_________________________________________________________________\n",
            "conv_pw_10_bn (BatchNormaliz (None, 14, 14, 128)       512       \n",
            "_________________________________________________________________\n",
            "conv_pw_10_relu (ReLU)       (None, 14, 14, 128)       0         \n",
            "_________________________________________________________________\n",
            "conv_dw_11 (DepthwiseConv2D) (None, 14, 14, 128)       1152      \n",
            "_________________________________________________________________\n",
            "conv_dw_11_bn (BatchNormaliz (None, 14, 14, 128)       512       \n",
            "_________________________________________________________________\n",
            "conv_dw_11_relu (ReLU)       (None, 14, 14, 128)       0         \n",
            "_________________________________________________________________\n",
            "conv_pw_11 (Conv2D)          (None, 14, 14, 128)       16384     \n",
            "_________________________________________________________________\n",
            "conv_pw_11_bn (BatchNormaliz (None, 14, 14, 128)       512       \n",
            "_________________________________________________________________\n",
            "conv_pw_11_relu (ReLU)       (None, 14, 14, 128)       0         \n",
            "_________________________________________________________________\n",
            "conv_pad_12 (ZeroPadding2D)  (None, 15, 15, 128)       0         \n",
            "_________________________________________________________________\n",
            "conv_dw_12 (DepthwiseConv2D) (None, 7, 7, 128)         1152      \n",
            "_________________________________________________________________\n",
            "conv_dw_12_bn (BatchNormaliz (None, 7, 7, 128)         512       \n",
            "_________________________________________________________________\n",
            "conv_dw_12_relu (ReLU)       (None, 7, 7, 128)         0         \n",
            "_________________________________________________________________\n",
            "conv_pw_12 (Conv2D)          (None, 7, 7, 256)         32768     \n",
            "_________________________________________________________________\n",
            "conv_pw_12_bn (BatchNormaliz (None, 7, 7, 256)         1024      \n",
            "_________________________________________________________________\n",
            "conv_pw_12_relu (ReLU)       (None, 7, 7, 256)         0         \n",
            "_________________________________________________________________\n",
            "conv_dw_13 (DepthwiseConv2D) (None, 7, 7, 256)         2304      \n",
            "_________________________________________________________________\n",
            "conv_dw_13_bn (BatchNormaliz (None, 7, 7, 256)         1024      \n",
            "_________________________________________________________________\n",
            "conv_dw_13_relu (ReLU)       (None, 7, 7, 256)         0         \n",
            "_________________________________________________________________\n",
            "conv_pw_13 (Conv2D)          (None, 7, 7, 256)         65536     \n",
            "_________________________________________________________________\n",
            "conv_pw_13_bn (BatchNormaliz (None, 7, 7, 256)         1024      \n",
            "_________________________________________________________________\n",
            "conv_pw_13_relu (ReLU)       (None, 7, 7, 256)         0         \n",
            "_________________________________________________________________\n",
            "global_average_pooling2d_1 ( (None, 256)               0         \n",
            "_________________________________________________________________\n",
            "reshape_1 (Reshape)          (None, 1, 1, 256)         0         \n",
            "_________________________________________________________________\n",
            "dropout (Dropout)            (None, 1, 1, 256)         0         \n",
            "_________________________________________________________________\n",
            "conv_preds (Conv2D)          (None, 1, 1, 1000)        257000    \n",
            "_________________________________________________________________\n",
            "reshape_2 (Reshape)          (None, 1000)              0         \n",
            "_________________________________________________________________\n",
            "act_softmax (Activation)     (None, 1000)              0         \n",
            "=================================================================\n",
            "Total params: 475,544\n",
            "Trainable params: 470,072\n",
            "Non-trainable params: 5,472\n",
            "_________________________________________________________________\n"
          ],
          "name": "stdout"
        }
      ]
    },
    {
      "cell_type": "markdown",
      "metadata": {
        "id": "s84GP0Dk5Mqz",
        "colab_type": "text"
      },
      "source": [
        "###  Classify images"
      ]
    },
    {
      "cell_type": "code",
      "metadata": {
        "trusted": false,
        "id": "jxWkuKhq5Mqz",
        "colab_type": "code",
        "outputId": "528783bc-3141-43c4-b814-4c600e27bec3",
        "colab": {
          "base_uri": "https://localhost:8080/",
          "height": 104
        }
      },
      "source": [
        "# Write the image name below\n",
        "\n",
        "img_path = '7.jpg'\n",
        "img = image.load_img(img_path, target_size=(224, 224))\n",
        "x = image.img_to_array(img)\n",
        "x = np.expand_dims(x, axis=0)\n",
        "x = preprocess_input(x)\n",
        "\n",
        "preds = model.predict(x)\n",
        "print('Predicted:\\n', decode_predictions(preds))"
      ],
      "execution_count": 12,
      "outputs": [
        {
          "output_type": "stream",
          "text": [
            "Downloading data from https://storage.googleapis.com/download.tensorflow.org/data/imagenet_class_index.json\n",
            "40960/35363 [==================================] - 0s 0us/step\n",
            "Predicted:\n",
            " [[('n12144580', 'corn', 0.43738985), ('n13133613', 'ear', 0.32245445), ('n03530642', 'honeycomb', 0.01760989), ('n03637318', 'lampshade', 0.010634677), ('n04590129', 'window_shade', 0.008874811)]]\n"
          ],
          "name": "stdout"
        }
      ]
    },
    {
      "cell_type": "markdown",
      "metadata": {
        "id": "t30MpfqT5Mq1",
        "colab_type": "text"
      },
      "source": [
        "###  Extract CNN features"
      ]
    },
    {
      "cell_type": "code",
      "metadata": {
        "trusted": true,
        "id": "B0TKvKlP5Mq3",
        "colab_type": "code",
        "outputId": "3a0c7f46-98c1-4eed-f753-ea2cf7d862d2",
        "colab": {
          "base_uri": "https://localhost:8080/",
          "height": 1000
        }
      },
      "source": [
        "features = model.predict(x)\n",
        "print('\\nFeature Shape:\\n',features.shape)\n",
        "print('\\nFeatures:\\n',features)"
      ],
      "execution_count": 13,
      "outputs": [
        {
          "output_type": "stream",
          "text": [
            "\n",
            "Feature Shape:\n",
            " (1, 1000)\n",
            "\n",
            "Features:\n",
            " [[9.00048508e-06 4.01386002e-04 3.26585990e-07 6.79903280e-07\n",
            "  2.38697089e-06 2.60833986e-06 1.34349216e-06 3.05356753e-06\n",
            "  3.20569626e-07 3.41143254e-06 8.85971119e-08 4.71123749e-05\n",
            "  1.25869783e-05 8.84958666e-08 2.93465405e-07 3.43132160e-05\n",
            "  8.85392183e-07 8.11845609e-07 1.45834903e-07 9.50192430e-07\n",
            "  6.50761089e-09 1.42204453e-05 8.97226755e-07 8.78768060e-06\n",
            "  3.59862897e-05 4.12883139e-07 1.79342205e-05 1.07048618e-04\n",
            "  2.16545641e-06 4.02337610e-05 3.86276646e-08 6.99014527e-06\n",
            "  7.59007207e-07 3.52029701e-06 1.25143913e-06 9.93182084e-07\n",
            "  4.37563995e-06 2.09748168e-06 1.73790439e-04 1.03616485e-05\n",
            "  2.81499873e-04 6.50282236e-05 4.18854725e-05 4.43636873e-06\n",
            "  1.35540278e-04 1.26242821e-05 2.49371398e-04 2.72062880e-05\n",
            "  4.44708803e-07 2.69040247e-05 5.63777976e-05 5.18249692e-08\n",
            "  1.80867093e-04 4.27172752e-04 1.12195718e-04 6.33461983e-04\n",
            "  8.31188372e-05 1.01284149e-06 1.22947458e-05 1.20411778e-05\n",
            "  9.73123679e-05 4.96243847e-05 1.87602491e-05 1.99073181e-03\n",
            "  4.16614464e-04 1.97216432e-05 2.81588873e-04 8.42377267e-05\n",
            "  2.51039513e-04 1.29292996e-04 7.55208675e-05 1.67465856e-04\n",
            "  5.80921051e-06 1.80847073e-05 5.04616473e-05 2.71302961e-05\n",
            "  1.61903927e-06 2.49706336e-05 4.03119557e-05 8.61279026e-04\n",
            "  4.74782553e-07 7.47718616e-08 1.49422185e-05 3.67625726e-05\n",
            "  1.18653816e-06 1.42079189e-05 1.34873308e-05 1.18547232e-05\n",
            "  3.89776233e-06 3.56255100e-06 2.07480343e-06 1.56228327e-06\n",
            "  3.48518893e-06 1.29197326e-06 2.10573940e-04 2.07256878e-08\n",
            "  3.33936123e-06 6.51482083e-07 4.78019672e-07 5.41397676e-05\n",
            "  6.13157272e-06 1.25862343e-05 1.41171358e-06 2.56321215e-07\n",
            "  4.34053476e-07 5.13999643e-09 5.40954318e-07 2.61712703e-05\n",
            "  8.62580237e-06 2.06461482e-04 1.58114763e-05 6.08134178e-05\n",
            "  2.56194407e-03 8.46519077e-04 1.79479260e-03 1.01921330e-04\n",
            "  2.42925744e-05 1.92458756e-05 1.37465190e-06 1.22042323e-07\n",
            "  2.64388518e-06 8.93781703e-07 3.85166658e-07 1.58543196e-06\n",
            "  5.12795032e-06 1.84434030e-05 1.98434136e-04 3.98144493e-06\n",
            "  3.44803794e-07 6.57151104e-05 1.61830612e-04 2.66075006e-07\n",
            "  4.45193155e-06 9.99241706e-07 2.96640246e-05 7.61280307e-06\n",
            "  2.14897753e-08 5.63573632e-09 5.15109714e-05 6.52581775e-08\n",
            "  1.76261040e-06 4.32168554e-06 2.56643858e-07 1.20558397e-07\n",
            "  1.16532601e-05 7.15257215e-07 1.84548369e-07 4.66353157e-07\n",
            "  1.92678215e-07 2.16209082e-06 3.39998383e-06 1.20883051e-05\n",
            "  2.18649333e-07 1.44820876e-06 4.67685737e-07 9.16472587e-08\n",
            "  9.65843697e-07 2.01774219e-06 9.86149871e-07 1.14512659e-05\n",
            "  8.71833379e-07 7.86012322e-08 4.17902299e-07 1.75372776e-07\n",
            "  1.68117523e-07 2.71870931e-07 1.76496940e-07 1.16947867e-07\n",
            "  5.33554612e-06 4.12231230e-07 2.32652241e-07 4.14242095e-06\n",
            "  2.84347749e-07 2.84311250e-06 2.01759107e-07 1.85519440e-07\n",
            "  3.14650919e-07 1.90598243e-07 1.49598427e-05 7.84266604e-07\n",
            "  2.45079576e-07 1.54944564e-06 7.59472812e-07 1.99392298e-06\n",
            "  2.99698308e-06 4.63297329e-06 4.79469054e-06 6.78865717e-06\n",
            "  2.43925825e-07 2.69117868e-06 6.52759468e-07 1.01882847e-06\n",
            "  2.24341466e-06 7.48610830e-07 5.55595022e-07 1.17598665e-05\n",
            "  8.04161516e-07 1.08253357e-06 7.34227342e-07 2.91867377e-06\n",
            "  6.76679974e-07 2.01978696e-06 6.04460547e-06 1.30868139e-05\n",
            "  1.16077888e-06 1.90629612e-06 4.10888873e-07 6.31491366e-06\n",
            "  6.05466721e-06 1.04629692e-06 2.82985638e-07 2.06119257e-05\n",
            "  2.07600101e-06 6.13545353e-07 6.92953677e-07 2.43140244e-06\n",
            "  4.68352346e-06 6.78762433e-07 8.51322284e-07 3.95496909e-06\n",
            "  4.77068284e-07 1.98639256e-07 1.67484370e-06 3.06658626e-06\n",
            "  2.33032529e-06 8.71453437e-07 4.60685487e-06 2.44152289e-07\n",
            "  1.62953711e-06 3.77592244e-07 2.96669668e-07 4.54991266e-07\n",
            "  1.27687383e-06 2.06911272e-06 6.10029531e-07 1.18287815e-07\n",
            "  1.09512712e-06 2.68917483e-06 5.67483255e-07 1.77701821e-07\n",
            "  1.94254980e-07 1.32618780e-07 2.03327659e-06 1.44791738e-06\n",
            "  1.42529402e-08 6.32655929e-06 1.94870637e-07 2.36522723e-07\n",
            "  1.80422182e-06 6.17834587e-07 8.14704492e-07 3.93059236e-06\n",
            "  3.35372306e-06 1.33113269e-06 1.29561377e-05 9.57657207e-08\n",
            "  1.08515742e-07 3.21932049e-07 6.85770328e-06 4.33713967e-06\n",
            "  5.49744391e-06 1.74580151e-07 2.08954748e-06 1.30929118e-06\n",
            "  4.54660352e-07 2.41250859e-06 2.08190136e-06 2.69564936e-07\n",
            "  6.62021023e-07 3.39538389e-07 1.02207541e-05 4.47669549e-07\n",
            "  1.92334460e-06 1.19731485e-05 1.62006802e-06 2.14833005e-08\n",
            "  2.19559433e-06 7.95014512e-06 8.24826941e-07 2.35780112e-06\n",
            "  1.82784117e-06 1.60923901e-05 4.79062037e-05 3.43370448e-05\n",
            "  1.82495769e-05 1.13028458e-04 7.77469097e-07 4.56723046e-06\n",
            "  2.89035938e-06 8.08797367e-08 1.01470926e-06 1.02546430e-07\n",
            "  2.16809735e-06 9.62009835e-06 2.82373918e-07 2.35273689e-07\n",
            "  8.72169403e-05 2.54643595e-08 2.01175208e-05 9.65297113e-06\n",
            "  3.43334420e-07 1.41021737e-04 8.43909731e-07 6.25962202e-05\n",
            "  2.69415359e-05 3.44828777e-07 1.71725933e-05 1.15871182e-04\n",
            "  2.40611902e-04 1.66109148e-05 1.21791483e-04 1.28448781e-04\n",
            "  1.06829044e-04 2.80106760e-05 2.71009310e-04 4.75674060e-05\n",
            "  8.48054697e-06 1.27357824e-04 6.32628507e-05 4.23192523e-06\n",
            "  7.65681671e-06 5.40938288e-07 1.54161751e-06 5.95743643e-07\n",
            "  2.12086562e-07 1.66538291e-06 3.15333273e-06 1.98158599e-03\n",
            "  6.99504380e-05 1.60604850e-05 3.54082886e-06 1.70230612e-06\n",
            "  6.31284229e-06 5.45799048e-05 3.69632716e-07 5.00981605e-06\n",
            "  4.94247629e-08 1.61985710e-07 6.36048617e-06 1.85743914e-07\n",
            "  1.19757515e-05 5.26824260e-06 1.50577966e-06 1.99698761e-07\n",
            "  5.68869325e-07 4.79802225e-07 2.40788978e-07 4.07347386e-07\n",
            "  6.91420155e-07 9.40764124e-08 4.76738755e-08 5.91941898e-07\n",
            "  2.27774399e-06 9.93232879e-06 7.30762793e-08 7.11655161e-07\n",
            "  2.00792256e-05 9.24103404e-07 2.46619857e-06 6.69685187e-06\n",
            "  6.63619005e-07 3.14241277e-07 2.76909702e-07 3.26827489e-04\n",
            "  3.32403047e-08 4.83125177e-07 5.48771091e-08 1.76872007e-07\n",
            "  1.45769070e-06 3.99740287e-07 4.88119497e-07 1.09429084e-06\n",
            "  3.11465044e-07 2.53463213e-06 3.59157434e-06 2.05570373e-07\n",
            "  5.55111728e-06 3.54789699e-06 2.09385234e-06 2.12695028e-07\n",
            "  6.91172261e-07 3.66187237e-07 2.98070745e-06 6.51538016e-07\n",
            "  3.42418041e-08 2.44491312e-05 2.39080182e-05 1.11589497e-06\n",
            "  7.05391088e-08 3.08109088e-06 2.23543684e-05 8.27840438e-07\n",
            "  2.02636293e-05 2.53449307e-05 1.99616334e-05 2.11128827e-05\n",
            "  1.28140391e-05 2.21957471e-05 1.06507493e-03 4.93445841e-05\n",
            "  2.25123415e-07 6.94371643e-04 6.79024670e-05 3.15788569e-08\n",
            "  5.68363362e-07 4.08408539e-07 5.62630385e-06 5.77003084e-06\n",
            "  2.26046240e-08 2.96187682e-05 2.92264449e-05 3.53980286e-04\n",
            "  1.52885859e-05 1.44081323e-05 2.31658501e-04 3.75347263e-05\n",
            "  2.03010684e-04 3.38379346e-06 7.19184405e-04 5.33757452e-03\n",
            "  7.57887210e-06 8.38585493e-06 4.03707018e-05 1.35355549e-06\n",
            "  2.06697005e-05 5.57156091e-05 1.55775087e-05 3.41550367e-05\n",
            "  3.01381601e-06 1.27095322e-03 8.63717014e-06 6.72696160e-06\n",
            "  1.04453466e-05 5.92575059e-04 4.17453842e-03 1.98419468e-04\n",
            "  6.79703646e-07 2.45319752e-05 1.01966929e-04 1.18619326e-04\n",
            "  4.61265590e-05 1.18538694e-04 4.34082676e-06 1.59202045e-05\n",
            "  2.76265837e-07 4.75871893e-05 3.98123608e-04 1.97707923e-05\n",
            "  3.10291034e-05 6.94086566e-07 1.25937333e-06 1.14890099e-04\n",
            "  6.32911921e-04 1.17509764e-07 3.98526424e-07 5.09214879e-05\n",
            "  1.86592588e-05 2.11067105e-04 1.05389736e-05 9.03877590e-05\n",
            "  2.35977737e-07 1.21792065e-04 6.84750208e-04 7.18392985e-05\n",
            "  2.18047970e-03 2.35174889e-06 5.13359666e-08 7.71076811e-05\n",
            "  1.82221684e-05 1.02056333e-06 5.07397018e-03 3.66222139e-07\n",
            "  2.72366492e-06 2.11021834e-04 6.90907147e-03 1.11763366e-05\n",
            "  1.41400415e-06 1.39534313e-05 9.52864066e-05 4.30416321e-06\n",
            "  2.74761078e-05 4.86018107e-05 4.56794487e-06 2.89602690e-06\n",
            "  1.72525816e-07 2.96757798e-06 3.17861159e-05 4.00305114e-04\n",
            "  8.56099869e-05 5.99517021e-04 1.57660327e-03 8.53678430e-05\n",
            "  1.07716522e-04 6.56778002e-06 9.66082735e-06 2.23920811e-08\n",
            "  1.50922802e-04 1.62038705e-05 1.34901551e-04 5.86372742e-04\n",
            "  8.52956958e-08 1.14800241e-05 4.66266880e-04 5.48945445e-06\n",
            "  1.47892642e-05 8.80431526e-06 3.33335593e-05 4.85999772e-04\n",
            "  4.11586050e-04 1.31849476e-04 7.53546345e-08 1.23303414e-06\n",
            "  1.20749239e-04 3.88003400e-06 1.90525106e-03 3.01271561e-04\n",
            "  8.06221396e-06 1.75507976e-05 2.31399940e-06 1.58086859e-05\n",
            "  7.12371912e-06 3.83249062e-06 4.65504891e-05 2.78706248e-05\n",
            "  1.23324702e-04 4.18782037e-07 1.09377538e-06 5.00964634e-05\n",
            "  3.44399741e-04 5.26731128e-05 1.04990078e-03 3.86645435e-04\n",
            "  4.29034017e-08 2.11643591e-03 2.14697002e-06 4.19349163e-07\n",
            "  2.36810376e-08 1.19744206e-08 2.22019798e-06 4.60475349e-05\n",
            "  6.43551630e-08 1.62047054e-05 2.14698463e-04 1.35927185e-04\n",
            "  6.52123560e-07 4.19260003e-04 4.88641206e-04 3.25748175e-08\n",
            "  2.26919248e-08 2.04172451e-03 1.64566347e-06 2.42201004e-05\n",
            "  7.81114431e-05 2.29402849e-06 1.73507164e-08 4.35410220e-06\n",
            "  1.29978507e-04 8.71612701e-06 1.34204529e-04 1.14601926e-05\n",
            "  9.20643799e-07 3.39035552e-07 5.81001150e-05 2.25995597e-03\n",
            "  1.03199079e-06 5.19861715e-05 4.96556765e-07 4.21652385e-06\n",
            "  7.50846666e-05 3.35010270e-07 1.56630012e-05 1.07463848e-05\n",
            "  6.44201646e-05 3.03270241e-07 1.88578852e-05 2.17101345e-07\n",
            "  1.14281264e-07 7.94348693e-07 3.23587330e-04 1.93842134e-05\n",
            "  1.05076560e-06 6.50716174e-06 5.21133479e-05 7.19448465e-08\n",
            "  4.31509397e-04 1.34512171e-04 3.49778361e-07 5.03671996e-04\n",
            "  1.35744852e-03 5.53840597e-04 2.61838286e-05 1.21755898e-03\n",
            "  4.23593838e-06 5.39097760e-04 4.20922988e-05 6.03750732e-06\n",
            "  6.05473906e-05 1.38628285e-03 1.17217246e-06 1.76098906e-02\n",
            "  2.63711641e-04 2.17425531e-06 5.07191135e-06 4.79156377e-08\n",
            "  1.09232069e-05 3.62426363e-04 5.10174665e-04 4.44317266e-06\n",
            "  7.76834029e-04 7.92642254e-07 5.57374779e-06 6.76650006e-06\n",
            "  1.05713255e-07 2.67757860e-05 1.13810813e-04 6.71229645e-05\n",
            "  3.17228260e-04 2.59801382e-05 7.45735015e-05 1.06346766e-02\n",
            "  1.62691995e-05 1.84539931e-05 3.71909846e-05 3.54636140e-04\n",
            "  4.20650906e-07 2.20402896e-07 2.60375231e-03 5.42288035e-07\n",
            "  6.73051019e-08 4.80591599e-03 4.26048238e-04 4.12530906e-04\n",
            "  1.49076459e-05 3.42840685e-05 2.29882104e-07 9.44526346e-06\n",
            "  1.15015358e-03 4.24223945e-05 4.86076984e-04 1.85824010e-05\n",
            "  1.81691121e-06 5.85264861e-05 1.58444127e-05 4.02016558e-05\n",
            "  2.59119947e-03 4.14501100e-09 3.20307595e-06 2.23713345e-04\n",
            "  9.57516659e-06 9.81950592e-08 3.21447826e-03 1.98251128e-05\n",
            "  3.47596097e-06 2.75119373e-06 3.75171325e-08 3.81120888e-04\n",
            "  7.29931514e-07 2.03708078e-06 2.46969284e-03 6.96801499e-06\n",
            "  2.44811076e-06 4.86477170e-09 4.72442945e-04 1.60326408e-06\n",
            "  3.41799969e-05 6.39089649e-07 1.06345999e-06 1.09972734e-05\n",
            "  3.80291272e-06 4.41602288e-06 5.26587246e-06 1.50416929e-06\n",
            "  1.89739584e-08 2.80380045e-04 2.10095430e-03 6.87874490e-07\n",
            "  9.14896464e-06 8.38155393e-04 6.48742025e-06 1.12502581e-04\n",
            "  6.32678639e-05 3.19426181e-05 1.72186969e-06 1.96637611e-05\n",
            "  1.52498149e-04 6.22081188e-06 7.76348519e-04 1.79975959e-05\n",
            "  7.63893695e-05 7.62565696e-06 1.26689477e-08 8.79497475e-06\n",
            "  2.97033461e-03 1.20758614e-05 8.68110646e-07 5.93341283e-05\n",
            "  3.67334840e-04 4.16795257e-04 2.20314832e-05 8.12372775e-04\n",
            "  5.28206991e-04 8.12385861e-06 1.30017804e-06 1.69738851e-05\n",
            "  1.18802554e-05 1.28492331e-07 9.48936361e-07 3.50967457e-04\n",
            "  7.34519017e-06 6.29530288e-03 5.79162035e-04 1.10484730e-03\n",
            "  1.54488425e-05 2.66916004e-07 1.62240503e-05 2.85620772e-05\n",
            "  6.77639691e-05 1.63502662e-07 2.24049199e-06 3.49400325e-05\n",
            "  3.48748668e-04 4.27227560e-03 2.23760624e-04 3.82271492e-06\n",
            "  5.16027683e-07 2.28506633e-05 2.70332894e-05 6.08481685e-07\n",
            "  4.96903049e-05 2.50496523e-05 3.32942875e-07 1.49161087e-05\n",
            "  1.19385313e-05 3.58541620e-05 2.10905029e-07 8.70635267e-05\n",
            "  2.42883448e-06 7.19637552e-04 2.51240579e-07 1.39470856e-07\n",
            "  8.45470931e-05 5.70090779e-05 3.64869379e-06 5.84198096e-05\n",
            "  1.53190820e-06 4.98471236e-05 1.09525865e-06 4.97214969e-05\n",
            "  5.37760416e-03 1.89713013e-04 5.92145152e-05 1.73914214e-06\n",
            "  4.29311942e-04 6.46213768e-03 1.04971004e-04 1.01163675e-06\n",
            "  1.42488307e-05 6.85530281e-08 1.22503634e-05 3.52981588e-05\n",
            "  8.78151914e-05 1.09981396e-04 4.11549900e-06 4.26751503e-04\n",
            "  5.38305540e-05 9.08579068e-07 2.41408416e-05 9.14507371e-04\n",
            "  1.45238218e-07 4.89473250e-03 5.74669466e-05 4.59167240e-05\n",
            "  2.53649056e-03 3.03810142e-04 1.77623311e-04 2.32453094e-05\n",
            "  4.32274683e-05 1.88555836e-03 9.83357750e-05 1.19110166e-06\n",
            "  7.37240896e-07 8.63783771e-06 9.27068468e-05 2.79945764e-03\n",
            "  8.12041573e-04 5.56745508e-05 3.61537059e-05 9.92521223e-07\n",
            "  1.31718145e-04 2.84386242e-05 1.39076449e-03 8.01960879e-04\n",
            "  1.03277216e-05 7.14278031e-06 1.14408694e-03 1.18181890e-06\n",
            "  1.69508166e-05 8.20692658e-05 2.59264908e-03 1.50862361e-05\n",
            "  1.16669423e-06 2.50560078e-07 4.47426231e-07 2.76210380e-06\n",
            "  1.42751422e-04 5.25162932e-06 3.36510944e-03 4.89726233e-07\n",
            "  4.27631894e-05 7.78163849e-06 4.54267247e-05 6.67877379e-04\n",
            "  9.89123782e-06 2.24912583e-04 8.16416357e-09 1.55198053e-04\n",
            "  2.60098859e-05 5.43386022e-07 3.08171235e-04 1.56705012e-03\n",
            "  3.98568787e-08 1.78139075e-07 1.29664954e-07 3.92050861e-05\n",
            "  4.58061812e-04 4.28758540e-07 5.79399239e-05 7.65094137e-06\n",
            "  1.24209479e-03 1.27711619e-08 3.88620947e-07 7.91553030e-05\n",
            "  9.65745926e-07 5.69897225e-07 1.52864365e-03 1.69907696e-06\n",
            "  3.65002325e-06 8.96982510e-06 8.69384094e-05 3.72305726e-06\n",
            "  2.83480389e-04 5.66776907e-05 1.54800859e-04 4.80012613e-06\n",
            "  1.45224796e-03 3.66866268e-04 1.14219554e-04 6.06675599e-07\n",
            "  2.45313322e-06 6.97883524e-06 5.14172774e-04 2.33577539e-05\n",
            "  6.67974818e-05 1.43955299e-06 2.72613508e-03 6.48908829e-03\n",
            "  2.55873900e-08 1.12621528e-04 1.23932539e-03 2.63965543e-04\n",
            "  7.50267191e-06 9.40043992e-06 5.70026401e-04 2.57486840e-06\n",
            "  1.72554294e-07 1.24392375e-06 3.07969844e-06 7.09556025e-06\n",
            "  1.00275851e-03 2.83056084e-04 5.69855388e-07 2.06800507e-07\n",
            "  1.48746703e-05 1.35754487e-06 9.57714685e-10 9.09183257e-07\n",
            "  1.90882289e-04 1.01460000e-06 2.39208584e-05 6.03821281e-05\n",
            "  2.58371001e-05 2.58219893e-06 5.35465195e-04 3.21747902e-05\n",
            "  4.27047053e-05 1.09757739e-03 4.94464985e-06 9.14536213e-06\n",
            "  4.89044396e-07 4.34143731e-05 2.88211396e-07 2.62350168e-05\n",
            "  3.28630849e-05 2.66385428e-03 1.14836594e-05 1.28737156e-07\n",
            "  3.22201449e-05 4.89423974e-06 1.02325913e-03 1.75202949e-05\n",
            "  6.26030533e-06 1.12201496e-06 9.27075045e-04 8.45479881e-05\n",
            "  9.17690631e-04 8.87481123e-03 8.58076324e-04 1.26928702e-04\n",
            "  3.44078501e-07 1.95299833e-07 5.61787820e-05 2.19969614e-03\n",
            "  2.40069107e-06 3.59360769e-07 3.89699029e-09 7.48162620e-07\n",
            "  3.71803835e-05 9.10667950e-07 1.82539009e-06 2.72538500e-06\n",
            "  2.54055631e-04 1.32081404e-04 3.12134885e-04 1.92928201e-06\n",
            "  3.87030741e-06 2.02222304e-06 1.35378329e-07 9.87636781e-07\n",
            "  3.05006761e-05 1.90042402e-03 8.63826936e-05 2.38448183e-06\n",
            "  9.14652992e-06 2.93382436e-06 3.38277241e-05 7.45196439e-06\n",
            "  4.36649600e-07 1.68286999e-06 3.09737402e-06 4.56325142e-06\n",
            "  4.05219635e-06 3.05812080e-07 1.76101079e-04 1.11354084e-05\n",
            "  4.92683569e-07 9.61790556e-06 3.05008825e-07 1.25124701e-04\n",
            "  7.03758706e-05 9.82204947e-05 6.45855791e-04 1.96274981e-04\n",
            "  1.28110514e-06 1.41382494e-04 1.52811455e-03 7.78261383e-05\n",
            "  2.21372011e-06 6.70488453e-06 6.95471463e-05 1.14397233e-06\n",
            "  9.85747829e-06 1.36394065e-05 5.10779500e-05 3.04721402e-06\n",
            "  2.12206160e-05 9.54606276e-06 3.86736865e-05 1.89523580e-05\n",
            "  2.78481475e-05 8.66751507e-05 3.72018931e-08 3.81906739e-06\n",
            "  2.36315412e-08 5.19680043e-06 1.50186583e-08 1.19178446e-06\n",
            "  1.58063773e-09 3.89395382e-06 5.31565490e-07 5.00313835e-09\n",
            "  2.62240832e-07 3.73189978e-05 7.83789583e-05 2.75632260e-06\n",
            "  2.42628928e-04 8.99251916e-07 6.03434955e-07 4.37389851e-01\n",
            "  8.04792580e-06 1.07665937e-05 9.89815453e-06 5.38241911e-05\n",
            "  1.83387208e-04 2.00507515e-07 2.78370753e-05 2.92824097e-07\n",
            "  8.14343252e-07 9.86693067e-06 3.22454453e-01 2.88349314e-04]]\n"
          ],
          "name": "stdout"
        }
      ]
    },
    {
      "cell_type": "markdown",
      "metadata": {
        "id": "HtyU3Bpq5Mq6",
        "colab_type": "text"
      },
      "source": [
        "###  Extract features from an arbitrary intermediate layer"
      ]
    },
    {
      "cell_type": "code",
      "metadata": {
        "trusted": false,
        "id": "e7uJx9Km5Mq6",
        "colab_type": "code",
        "outputId": "ae66e25b-68b7-49e8-a0c1-71cff08f9982",
        "colab": {
          "base_uri": "https://localhost:8080/",
          "height": 34
        }
      },
      "source": [
        "model_minimal = Model(input=model.input, output=model.get_layer('conv_dw_2_relu').output)\n",
        "\n",
        "conv_dw_2_relu_features = model_minimal.predict(x)\n",
        "print('Features of conv_dw_2_relu:',conv_dw_2_relu_features.shape)"
      ],
      "execution_count": 14,
      "outputs": [
        {
          "output_type": "stream",
          "text": [
            "Features of conv_dw_2_relu: (1, 56, 56, 16)\n"
          ],
          "name": "stdout"
        }
      ]
    },
    {
      "cell_type": "markdown",
      "metadata": {
        "id": "c6sfxXfR5Mq8",
        "colab_type": "text"
      },
      "source": [
        "### You can extract these features and use the base network as a feature extractor for your problems. "
      ]
    },
    {
      "cell_type": "markdown",
      "metadata": {
        "id": "azShkV9W5Mre",
        "colab_type": "text"
      },
      "source": [
        "## Part 3: Design Choices in Convolutional Neural Networks"
      ]
    },
    {
      "cell_type": "markdown",
      "metadata": {
        "id": "0guaFUZD5Mrf",
        "colab_type": "text"
      },
      "source": [
        "## Influence of convolution size"
      ]
    },
    {
      "cell_type": "markdown",
      "metadata": {
        "id": "yz8ISpwE5Mrf",
        "colab_type": "text"
      },
      "source": [
        "### Model with (3 x 3) Convolution"
      ]
    },
    {
      "cell_type": "code",
      "metadata": {
        "trusted": false,
        "id": "9K322zSY5Mrg",
        "colab_type": "code",
        "outputId": "a2c2ee40-e6c4-433c-c8d9-18a89db1f75f",
        "colab": {
          "base_uri": "https://localhost:8080/",
          "height": 406
        }
      },
      "source": [
        "K.clear_session()\n",
        "start = timeit.default_timer()   \n",
        "model = Sequential()\n",
        "model.add(Conv2D(8, kernel_size=(3, 3), activation='relu', input_shape=input_shape))\n",
        "model.add(Conv2D(16, (3, 3), activation='relu'))\n",
        "model.add(Flatten())\n",
        "model.add(Dense(32, activation='relu'))\n",
        "model.add(Dense(num_classes, activation='softmax'))\n",
        "model.summary()\n",
        "model.compile(loss=keras.losses.categorical_crossentropy, optimizer=keras.optimizers.Adadelta(), metrics=['accuracy'])\n",
        "model.fit(x_train, y_train, batch_size=batch_size, epochs=epochs, verbose=1, validation_data=(x_test, y_test))\n",
        "end = timeit.default_timer()\n",
        "print(\"Time Taken to run the model:\",end - start, \"seconds\")  "
      ],
      "execution_count": 15,
      "outputs": [
        {
          "output_type": "stream",
          "text": [
            "Model: \"sequential_1\"\n",
            "_________________________________________________________________\n",
            "Layer (type)                 Output Shape              Param #   \n",
            "=================================================================\n",
            "conv2d_1 (Conv2D)            (None, 26, 26, 8)         80        \n",
            "_________________________________________________________________\n",
            "conv2d_2 (Conv2D)            (None, 24, 24, 16)        1168      \n",
            "_________________________________________________________________\n",
            "flatten_1 (Flatten)          (None, 9216)              0         \n",
            "_________________________________________________________________\n",
            "dense_1 (Dense)              (None, 32)                294944    \n",
            "_________________________________________________________________\n",
            "dense_2 (Dense)              (None, 10)                330       \n",
            "=================================================================\n",
            "Total params: 296,522\n",
            "Trainable params: 296,522\n",
            "Non-trainable params: 0\n",
            "_________________________________________________________________\n",
            "Train on 60000 samples, validate on 10000 samples\n",
            "Epoch 1/1\n",
            "60000/60000 [==============================] - 35s 584us/step - loss: 0.2473 - accuracy: 0.9266 - val_loss: 0.0879 - val_accuracy: 0.9712\n",
            "Time Taken to run the model: 35.80604263400005 seconds\n"
          ],
          "name": "stdout"
        }
      ]
    },
    {
      "cell_type": "markdown",
      "metadata": {
        "id": "61qzM8S45Mri",
        "colab_type": "text"
      },
      "source": [
        "### Model with (7 x 7) Convolution"
      ]
    },
    {
      "cell_type": "code",
      "metadata": {
        "trusted": false,
        "id": "AvrcAqfM5Mri",
        "colab_type": "code",
        "colab": {}
      },
      "source": [
        "# Write your code here \n",
        "\n",
        "# Use the same model design from the above cell "
      ],
      "execution_count": 0,
      "outputs": []
    },
    {
      "cell_type": "markdown",
      "metadata": {
        "id": "hTsZ9YgN5Mrm",
        "colab_type": "text"
      },
      "source": [
        "## Striding"
      ]
    },
    {
      "cell_type": "markdown",
      "metadata": {
        "id": "WVX78fVn5Mrm",
        "colab_type": "text"
      },
      "source": [
        "### Model with (7 x 7) Convolution with 2 Steps"
      ]
    },
    {
      "cell_type": "code",
      "metadata": {
        "trusted": false,
        "id": "R3ETjDFT5Mrn",
        "colab_type": "code",
        "outputId": "54f49281-78be-467b-9ed3-abda79802c73",
        "colab": {
          "base_uri": "https://localhost:8080/",
          "height": 406
        }
      },
      "source": [
        "start = timeit.default_timer()   \n",
        "model = Sequential()\n",
        "model.add(Conv2D(8, kernel_size=(7, 7), strides=2, activation='relu', input_shape=input_shape))\n",
        "model.add(Conv2D(16, (7, 7), strides=2, activation='relu'))\n",
        "model.add(Flatten())\n",
        "model.add(Dense(32, activation='relu'))\n",
        "model.add(Dense(num_classes, activation='softmax'))\n",
        "model.summary()\n",
        "model.compile(loss=keras.losses.categorical_crossentropy, optimizer=keras.optimizers.Adadelta(), metrics=['accuracy'])\n",
        "model.fit(x_train, y_train, batch_size=batch_size, epochs=epochs, verbose=1, validation_data=(x_test, y_test))\n",
        "end = timeit.default_timer()\n",
        "print(\"Time Taken to run the model:\",end - start, \"seconds\")  "
      ],
      "execution_count": 16,
      "outputs": [
        {
          "output_type": "stream",
          "text": [
            "Model: \"sequential_2\"\n",
            "_________________________________________________________________\n",
            "Layer (type)                 Output Shape              Param #   \n",
            "=================================================================\n",
            "conv2d_3 (Conv2D)            (None, 11, 11, 8)         400       \n",
            "_________________________________________________________________\n",
            "conv2d_4 (Conv2D)            (None, 3, 3, 16)          6288      \n",
            "_________________________________________________________________\n",
            "flatten_2 (Flatten)          (None, 144)               0         \n",
            "_________________________________________________________________\n",
            "dense_3 (Dense)              (None, 32)                4640      \n",
            "_________________________________________________________________\n",
            "dense_4 (Dense)              (None, 10)                330       \n",
            "=================================================================\n",
            "Total params: 11,658\n",
            "Trainable params: 11,658\n",
            "Non-trainable params: 0\n",
            "_________________________________________________________________\n",
            "Train on 60000 samples, validate on 10000 samples\n",
            "Epoch 1/1\n",
            "60000/60000 [==============================] - 8s 134us/step - loss: 0.3712 - accuracy: 0.8867 - val_loss: 0.1604 - val_accuracy: 0.9494\n",
            "Time Taken to run the model: 8.616291264999973 seconds\n"
          ],
          "name": "stdout"
        }
      ]
    },
    {
      "cell_type": "markdown",
      "metadata": {
        "id": "NJbsTJ6Y5Mrq",
        "colab_type": "text"
      },
      "source": [
        "## Padding"
      ]
    },
    {
      "cell_type": "markdown",
      "metadata": {
        "id": "xx06auxz5Mrr",
        "colab_type": "text"
      },
      "source": [
        "### Model with (7 x 7) Convolution with Same Padding"
      ]
    },
    {
      "cell_type": "code",
      "metadata": {
        "trusted": false,
        "id": "ohvUonFs5Mrr",
        "colab_type": "code",
        "outputId": "7abe467e-63cd-4768-94a2-a28ff08df9b3",
        "colab": {
          "base_uri": "https://localhost:8080/",
          "height": 406
        }
      },
      "source": [
        "start = timeit.default_timer()   \n",
        "model = Sequential()\n",
        "model.add(Conv2D(8, kernel_size=(7, 7), strides=1, padding='same', activation='relu', input_shape=input_shape))\n",
        "model.add(Conv2D(16, (7, 7), strides=1, padding='same', activation='relu'))\n",
        "model.add(Flatten())\n",
        "model.add(Dense(32, activation='relu'))\n",
        "model.add(Dense(num_classes, activation='softmax'))\n",
        "model.summary()\n",
        "model.compile(loss=keras.losses.categorical_crossentropy, optimizer=keras.optimizers.Adadelta(), metrics=['accuracy'])\n",
        "model.fit(x_train, y_train, batch_size=batch_size, epochs=epochs, verbose=1, validation_data=(x_test, y_test))\n",
        "end = timeit.default_timer()\n",
        "print(\"Time Taken to run the model:\",end - start, \"seconds\")  "
      ],
      "execution_count": 17,
      "outputs": [
        {
          "output_type": "stream",
          "text": [
            "Model: \"sequential_3\"\n",
            "_________________________________________________________________\n",
            "Layer (type)                 Output Shape              Param #   \n",
            "=================================================================\n",
            "conv2d_5 (Conv2D)            (None, 28, 28, 8)         400       \n",
            "_________________________________________________________________\n",
            "conv2d_6 (Conv2D)            (None, 28, 28, 16)        6288      \n",
            "_________________________________________________________________\n",
            "flatten_3 (Flatten)          (None, 12544)             0         \n",
            "_________________________________________________________________\n",
            "dense_5 (Dense)              (None, 32)                401440    \n",
            "_________________________________________________________________\n",
            "dense_6 (Dense)              (None, 10)                330       \n",
            "=================================================================\n",
            "Total params: 408,458\n",
            "Trainable params: 408,458\n",
            "Non-trainable params: 0\n",
            "_________________________________________________________________\n",
            "Train on 60000 samples, validate on 10000 samples\n",
            "Epoch 1/1\n",
            "60000/60000 [==============================] - 145s 2ms/step - loss: 0.2179 - accuracy: 0.9338 - val_loss: 0.0568 - val_accuracy: 0.9806\n",
            "Time Taken to run the model: 145.84542317900002 seconds\n"
          ],
          "name": "stdout"
        }
      ]
    },
    {
      "cell_type": "markdown",
      "metadata": {
        "id": "A47tcqDK5Mru",
        "colab_type": "text"
      },
      "source": [
        "## Pooling"
      ]
    },
    {
      "cell_type": "markdown",
      "metadata": {
        "id": "CEpL911U5Mru",
        "colab_type": "text"
      },
      "source": [
        "### Model with (3 x 3) Convolution with Pooling (2 x 2) "
      ]
    },
    {
      "cell_type": "code",
      "metadata": {
        "trusted": false,
        "id": "Y3mS7MJR5Mrv",
        "colab_type": "code",
        "outputId": "3b6efca0-ff79-4063-dfe1-ba81c501b7c7",
        "colab": {
          "base_uri": "https://localhost:8080/",
          "height": 474
        }
      },
      "source": [
        "start = timeit.default_timer()   \n",
        "model = Sequential()\n",
        "model.add(Conv2D(8, kernel_size=(3, 3), activation='relu', input_shape=input_shape))\n",
        "model.add(MaxPooling2D(pool_size=(2, 2)))\n",
        "model.add(Conv2D(16, (3, 3), activation='relu'))\n",
        "model.add(MaxPooling2D(pool_size=(2, 2)))\n",
        "model.add(Flatten())\n",
        "model.add(Dense(32, activation='relu'))\n",
        "model.add(Dense(num_classes, activation='softmax'))\n",
        "model.summary()\n",
        "model.compile(loss=keras.losses.categorical_crossentropy, optimizer=keras.optimizers.Adadelta(), metrics=['accuracy'])\n",
        "model.fit(x_train, y_train, batch_size=batch_size, epochs=epochs, verbose=1, validation_data=(x_test, y_test))\n",
        "end = timeit.default_timer()\n",
        "print(\"Time Taken to run the model:\",end - start, \"seconds\")  "
      ],
      "execution_count": 18,
      "outputs": [
        {
          "output_type": "stream",
          "text": [
            "Model: \"sequential_4\"\n",
            "_________________________________________________________________\n",
            "Layer (type)                 Output Shape              Param #   \n",
            "=================================================================\n",
            "conv2d_7 (Conv2D)            (None, 26, 26, 8)         80        \n",
            "_________________________________________________________________\n",
            "max_pooling2d_1 (MaxPooling2 (None, 13, 13, 8)         0         \n",
            "_________________________________________________________________\n",
            "conv2d_8 (Conv2D)            (None, 11, 11, 16)        1168      \n",
            "_________________________________________________________________\n",
            "max_pooling2d_2 (MaxPooling2 (None, 5, 5, 16)          0         \n",
            "_________________________________________________________________\n",
            "flatten_4 (Flatten)          (None, 400)               0         \n",
            "_________________________________________________________________\n",
            "dense_7 (Dense)              (None, 32)                12832     \n",
            "_________________________________________________________________\n",
            "dense_8 (Dense)              (None, 10)                330       \n",
            "=================================================================\n",
            "Total params: 14,410\n",
            "Trainable params: 14,410\n",
            "Non-trainable params: 0\n",
            "_________________________________________________________________\n",
            "Train on 60000 samples, validate on 10000 samples\n",
            "Epoch 1/1\n",
            "60000/60000 [==============================] - 20s 325us/step - loss: 0.3677 - accuracy: 0.8844 - val_loss: 0.0997 - val_accuracy: 0.9695\n",
            "Time Taken to run the model: 20.12844704200006 seconds\n"
          ],
          "name": "stdout"
        }
      ]
    },
    {
      "cell_type": "markdown",
      "metadata": {
        "id": "cG9nRWmO5Mrx",
        "colab_type": "text"
      },
      "source": [
        "### Model with (3 x 3) Convolution with Pooling (3 x 3) "
      ]
    },
    {
      "cell_type": "code",
      "metadata": {
        "trusted": false,
        "id": "0Q8dwbSc5Mrx",
        "colab_type": "code",
        "colab": {}
      },
      "source": [
        "# Write your code here \n",
        "\n",
        "# Use the same model design from the above cell "
      ],
      "execution_count": 0,
      "outputs": []
    },
    {
      "cell_type": "markdown",
      "metadata": {
        "id": "9zleA9Au5Mrz",
        "colab_type": "text"
      },
      "source": [
        "### What are your findings?"
      ]
    }
  ]
}