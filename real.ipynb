{
  "nbformat": 4,
  "nbformat_minor": 0,
  "metadata": {
    "colab": {
      "name": "real.ipynb",
      "provenance": [],
      "authorship_tag": "ABX9TyM4065ZmzGEMulZIG3s5IIw",
      "include_colab_link": true
    },
    "kernelspec": {
      "name": "python3",
      "display_name": "Python 3"
    }
  },
  "cells": [
    {
      "cell_type": "markdown",
      "metadata": {
        "id": "view-in-github",
        "colab_type": "text"
      },
      "source": [
        "<a href=\"https://colab.research.google.com/github/Mayank-goyal2424/Learning.it/blob/master/real.ipynb\" target=\"_parent\"><img src=\"https://colab.research.google.com/assets/colab-badge.svg\" alt=\"Open In Colab\"/></a>"
      ]
    },
    {
      "cell_type": "code",
      "metadata": {
        "id": "mHdA91RH7UYz",
        "colab_type": "code",
        "colab": {}
      },
      "source": [
        "import keras\n",
        "\n",
        "import numpy as np\n",
        "import matplotlib.pyplot\n",
        "\n",
        "\n",
        "from keras.datasets import mnist\n",
        "from keras.models import Sequential\n",
        "from keras.layers import Dense, Dropout, Flatten, Conv2D, MaxPooling2D\n",
        "from keras import backend as K\n",
        "from keras.preprocessing import image\n",
        "from keras.applications.mobilenet import MobileNet\n",
        "from keras.applications.vgg16 import preprocess_input, decode_predictions\n",
        "from keras.models import Model\n",
        "import timeit\n",
        "\n",
        "import warnings\n",
        "warnings.filterwarnings('ignore')"
      ],
      "execution_count": 0,
      "outputs": []
    },
    {
      "cell_type": "code",
      "metadata": {
        "id": "BsIkbDg_9jaA",
        "colab_type": "code",
        "outputId": "67c55f35-5ed6-4a59-dc8a-20165c1ad3c5",
        "colab": {
          "base_uri": "https://localhost:8080/",
          "height": 67
        }
      },
      "source": [
        "batch_size = 128\n",
        "num_classes = 10\n",
        "epochs = 2\n",
        "\n",
        "# input image dimensions\n",
        "img_rows, img_cols = 28, 28\n",
        "\n",
        "# the data, shuffled and split between train and test sets\n",
        "(x_train, y_train), (x_test, y_test) = mnist.load_data()\n",
        "\n",
        "if K.image_data_format() == 'channels_first':\n",
        "    x_train = x_train.reshape(x_train.shape[0], 1, img_rows, img_cols)\n",
        "    x_test = x_test.reshape(x_test.shape[0], 1, img_rows, img_cols)\n",
        "    input_shape = (1, img_rows, img_cols)\n",
        "else:\n",
        "    x_train = x_train.reshape(x_train.shape[0], img_rows, img_cols, 1)\n",
        "    x_test = x_test.reshape(x_test.shape[0], img_rows, img_cols, 1)\n",
        "    input_shape = (img_rows, img_cols, 1)\n",
        "\n",
        "x_train = x_train.astype('float32')\n",
        "x_test = x_test.astype('float32')\n",
        "x_train /= 255\n",
        "x_test /= 255\n",
        "y_train = keras.utils.to_categorical(y_train, num_classes)\n",
        "y_test = keras.utils.to_categorical(y_test, num_classes)\n",
        "print('x_train shape:', x_train.shape)\n",
        "print(x_train.shape[0], 'train samples')\n",
        "print(x_test.shape[0], 'test samples')\n",
        "\n",
        "# convert class vectors to binary c"
      ],
      "execution_count": 6,
      "outputs": [
        {
          "output_type": "stream",
          "text": [
            "x_train shape: (60000, 28, 28, 1)\n",
            "60000 train samples\n",
            "10000 test samples\n"
          ],
          "name": "stdout"
        }
      ]
    },
    {
      "cell_type": "code",
      "metadata": {
        "id": "8KnAJNh_7f1f",
        "colab_type": "code",
        "colab": {}
      },
      "source": [
        "def conv_(img, conv_filter):\n",
        "    filter_size = conv_filter.shape[1]\n",
        "    result = numpy.zeros((img.shape))\n",
        "    #Looping through the image to apply the convolution operation.\n",
        "    for r in numpy.uint16(numpy.arange(filter_size/2.0, \n",
        "                          img.shape[0]-filter_size/2.0+1)):\n",
        "        for c in numpy.uint16(numpy.arange(filter_size/2.0, \n",
        "                                           img.shape[1]-filter_size/2.0+1)):\n",
        "            \"\"\"\n",
        "            Getting the current region to get multiplied with the filter.\n",
        "            How to loop through the image and get the region based on \n",
        "            the image and filer sizes is the most tricky part of convolution.\n",
        "            \"\"\"\n",
        "            curr_region = img[r-numpy.uint16(numpy.floor(filter_size/2.0)):r+numpy.uint16(numpy.ceil(filter_size/2.0)), \n",
        "                              c-numpy.uint16(numpy.floor(filter_size/2.0)):c+numpy.uint16(numpy.ceil(filter_size/2.0))]\n",
        "            #Element-wise multipliplication between the current region and the filter.\n",
        "            curr_result = curr_region * conv_filter\n",
        "            conv_sum = numpy.sum(curr_result) #Summing the result of multiplication.\n",
        "            result[r, c] = conv_sum #Saving the summation in the convolution layer feature map.\n",
        "            \n",
        "    #Clipping the outliers of the result matrix.\n",
        "    final_result = result[numpy.uint16(filter_size/2.0):result.shape[0]-numpy.uint16(filter_size/2.0), \n",
        "                          numpy.uint16(filter_size/2.0):result.shape[1]-numpy.uint16(filter_size/2.0)]\n",
        "    return final_result"
      ],
      "execution_count": 0,
      "outputs": []
    },
    {
      "cell_type": "code",
      "metadata": {
        "id": "ji45U_IM7gAc",
        "colab_type": "code",
        "colab": {}
      },
      "source": [
        "def conv(img, conv_filter):\n",
        "    if len(img.shape) > 2 or len(conv_filter.shape) > 3: # Check if number of image channels matches the filter depth.\n",
        "        if img.shape[-1] != conv_filter.shape[-1]:\n",
        "            print(\"Error: Number of channels in both image and filter must match.\")\n",
        "            sys.exit()\n",
        "    if conv_filter.shape[1] != conv_filter.shape[2]: # Check if filter dimensions are equal.\n",
        "        print('Error: Filter must be a square matrix. I.e. number of rows and columns must match.')\n",
        "        sys.exit()\n",
        "    if conv_filter.shape[1]%2==0: # Check if filter diemnsions are odd.\n",
        "        print('Error: Filter must have an odd size. I.e. number of rows and columns must be odd.')\n",
        "        sys.exit()\n",
        "\n",
        "    # An empty feature map to hold the output of convolving the filter(s) with the image.\n",
        "    feature_maps = numpy.zeros((img.shape[0]-conv_filter.shape[1]+1, \n",
        "                                img.shape[1]-conv_filter.shape[1]+1, \n",
        "                                conv_filter.shape[0]))\n",
        "\n",
        "    # Convolving the image by the filter(s).\n",
        "    for filter_num in range(conv_filter.shape[0]):\n",
        "        print(\"Filter \", filter_num + 1)\n",
        "        curr_filter = conv_filter[filter_num, :] # getting a filter from the bank.\n",
        "        \"\"\" \n",
        "        Checking if there are mutliple channels for the single filter.\n",
        "        If so, then each channel will convolve the image.\n",
        "        The result of all convolutions are summed to return a single feature map.\n",
        "        \"\"\"\n",
        "        if len(curr_filter.shape) > 2:\n",
        "            conv_map = conv_(img[:, :, 0], curr_filter[:, :, 0]) # Array holding the sum of all feature maps.\n",
        "            for ch_num in range(1, curr_filter.shape[-1]): # Convolving each channel with the image and summing the results.\n",
        "                conv_map = conv_map + conv_(img[:, :, ch_num], \n",
        "                                  curr_filter[:, :, ch_num])\n",
        "        else: # There is just a single channel in the filter.\n",
        "            conv_map = conv_(img, curr_filter)\n",
        "        feature_maps[:, :, filter_num] = conv_map # Holding feature map with the current filter.\n",
        "    return feature_maps # Returning all feature maps."
      ],
      "execution_count": 0,
      "outputs": []
    },
    {
      "cell_type": "code",
      "metadata": {
        "id": "cUDVY1537gMx",
        "colab_type": "code",
        "colab": {}
      },
      "source": [
        "def pooling(feature_map, size=2, stride=2):\n",
        "    #Preparing the output of the pooling operation.\n",
        "    pool_out = numpy.zeros((numpy.uint16((feature_map.shape[0]-size+1)/stride+1),\n",
        "                            numpy.uint16((feature_map.shape[1]-size+1)/stride+1),\n",
        "                            feature_map.shape[-1]))\n",
        "    for map_num in range(feature_map.shape[-1]):\n",
        "        r2 = 0\n",
        "        for r in numpy.arange(0,feature_map.shape[0]-size+1, stride):\n",
        "            c2 = 0\n",
        "            for c in numpy.arange(0, feature_map.shape[1]-size+1, stride):\n",
        "                pool_out[r2, c2, map_num] = numpy.max([feature_map[r:r+size,  c:c+size]])\n",
        "                c2 = c2 + 1\n",
        "            r2 = r2 +1\n",
        "    return pool_out"
      ],
      "execution_count": 0,
      "outputs": []
    },
    {
      "cell_type": "code",
      "metadata": {
        "id": "2vLwxDO07ga7",
        "colab_type": "code",
        "colab": {}
      },
      "source": [
        "def relu(feature_map):\n",
        "    #Preparing the output of the ReLU activation function.\n",
        "    relu_out = numpy.zeros(feature_map.shape)\n",
        "    for map_num in range(feature_map.shape[-1]):\n",
        "        for r in numpy.arange(0,feature_map.shape[0]):\n",
        "            for c in numpy.arange(0, feature_map.shape[1]):\n",
        "                relu_out[r, c, map_num] = numpy.max([feature_map[r, c, map_num], 0])\n",
        "    return relu_out"
      ],
      "execution_count": 0,
      "outputs": []
    },
    {
      "cell_type": "code",
      "metadata": {
        "id": "rF8QikMf7gnW",
        "colab_type": "code",
        "colab": {}
      },
      "source": [
        "l1_filter = np.zeros((2,3,3))"
      ],
      "execution_count": 0,
      "outputs": []
    },
    {
      "cell_type": "code",
      "metadata": {
        "id": "wCx-BeSH7gzF",
        "colab_type": "code",
        "colab": {}
      },
      "source": [
        "l1_filter[0, :, :] = np.array([[[-1, 0, 1], \n",
        "                                   [-1, 0, 1], \n",
        "                                   [-1, 0, 1]]])\n",
        "#Horizontal Edge Detection Filter\n",
        "l1_filter[1, :, :] = np.array([[[1,   1,  1], \n",
        "                                   [0,   0,  0], \n",
        "                                   [-1, -1, -1]]])"
      ],
      "execution_count": 0,
      "outputs": []
    },
    {
      "cell_type": "code",
      "metadata": {
        "id": "4xUftNI3KncR",
        "colab_type": "code",
        "colab": {
          "base_uri": "https://localhost:8080/",
          "height": 265
        },
        "outputId": "db41c9ab-1e75-47cd-b81a-6eef4339a53d"
      },
      "source": [
        "import pylab as plt\n",
        "\n",
        "plt.imshow(x_train[122].reshape(28,28),cmap='gray')\n",
        "plt.show()\n"
      ],
      "execution_count": 22,
      "outputs": [
        {
          "output_type": "display_data",
          "data": {
            "image/png": "[encoded data removed]",
            "text/plain": [
              "<Figure size 432x288 with 1 Axes>"
            ]
          },
          "metadata": {
            "tags": [],
            "needs_background": "light"
          }
        }
      ]
    },
    {
      "cell_type": "code",
      "metadata": {
        "id": "h01IM4ZOKm9z",
        "colab_type": "code",
        "colab": {}
      },
      "source": [
        "l1_feature_map = conv(img, l1_filter)"
      ],
      "execution_count": 0,
      "outputs": []
    },
    {
      "cell_type": "code",
      "metadata": {
        "id": "aKAds1cdKnzA",
        "colab_type": "code",
        "colab": {}
      },
      "source": [
        "l1_feature_map_relu = relu(l1_feature_map)"
      ],
      "execution_count": 0,
      "outputs": []
    },
    {
      "cell_type": "code",
      "metadata": {
        "id": "vM17cu_eKoJR",
        "colab_type": "code",
        "colab": {}
      },
      "source": [
        "l1_feature_map_relu_pool = pooling(l1_feature_map_relu, 2, 2)"
      ],
      "execution_count": 0,
      "outputs": []
    },
    {
      "cell_type": "code",
      "metadata": {
        "id": "R3tgd9bO7hAk",
        "colab_type": "code",
        "colab": {}
      },
      "source": [
        "import numpy\n",
        "def model():\n",
        "  img=?\n",
        "  l1_filter = np.zeros((2,3,3))\n",
        "  l1_filter[0, :, :] = np.array([[[-1, 0, 1], \n",
        "                                   [-1, 0, 1], \n",
        "                                   [-1, 0, 1]]])\n",
        "  #Horizontal Edge Detection Filter\n",
        "  l1_filter[1, :, :] = np.array([[[1,   1,  1], \n",
        "                                   [0,   0,  0], \n",
        "                                   [-1, -1, -1]]])\n",
        "  l1_feature_map = conv(img, l1_filter)\n",
        "  l1_feature_map_relu = relu(l1_feature_map)\n",
        "  l1_feature_map_relu_pool = pooling(l1_feature_map_relu, 2, 2)\n",
        "  l2_filter = numpy.random.rand(3, 5, 5, l1_feature_map_relu_pool.shape[-1])\n",
        "  #print(\"\\n**Working with conv layer 2**\")\n",
        "  l2_feature_map = conv(l1_feature_map_relu_pool, l2_filter)\n",
        "  #print(\"\\n**ReLU**\")\n",
        "  l2_feature_map_relu = relu(l2_feature_map)\n",
        "  #print(\"\\n**Pooling**\")\n",
        "  l2_feature_map_relu_pool = pooling(l2_feature_map_relu, 2, 2)\n",
        "  #print(\"**End of conv layer 2**\\n\")"
      ],
      "execution_count": 0,
      "outputs": []
    },
    {
      "cell_type": "code",
      "metadata": {
        "id": "WBKX9BGhO9Y4",
        "colab_type": "code",
        "colab": {}
      },
      "source": [
        ""
      ],
      "execution_count": 0,
      "outputs": []
    }
  ]
}